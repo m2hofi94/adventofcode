{
 "metadata": {
  "language_info": {
   "codemirror_mode": {
    "name": "ipython",
    "version": 3
   },
   "file_extension": ".py",
   "mimetype": "text/x-python",
   "name": "python",
   "nbconvert_exporter": "python",
   "pygments_lexer": "ipython3",
   "version": "3.9.0-final"
  },
  "orig_nbformat": 2,
  "kernelspec": {
   "name": "python3",
   "display_name": "Python 3"
  }
 },
 "nbformat": 4,
 "nbformat_minor": 2,
 "cells": [
  {
   "cell_type": "code",
   "execution_count": 1,
   "metadata": {},
   "outputs": [],
   "source": [
    "import re"
   ]
  },
  {
   "cell_type": "code",
   "execution_count": 13,
   "metadata": {},
   "outputs": [],
   "source": [
    "from collections import defaultdict"
   ]
  },
  {
   "cell_type": "code",
   "execution_count": 93,
   "metadata": {},
   "outputs": [
    {
     "output_type": "execute_result",
     "data": {
      "text/plain": [
       "404"
      ]
     },
     "metadata": {},
     "execution_count": 93
    }
   ],
   "source": [
    "r = \"not-a-real-room-404[oarel]\"\n",
    "def check_room(r):\n",
    "    name, id, check = re.match(\"((?:[a-z]+-?)+)-(\\d+)\\[(\\w{5})\\]\", r).groups()\n",
    "\n",
    "    count = defaultdict(int)\n",
    "    for l in sorted(name):\n",
    "        if l != '-':\n",
    "            count[l] += 1\n",
    "    res = \"\".join(sorted(count, key=lambda v: (-count[v], v))[:5])\n",
    "    #print(res, check)\n",
    "    if res == check:\n",
    "        return int(id)\n",
    "    return 0\n",
    "\n",
    "check_room(r)"
   ]
  },
  {
   "cell_type": "code",
   "execution_count": 67,
   "metadata": {},
   "outputs": [
    {
     "output_type": "stream",
     "name": "stdout",
     "text": [
      "158835\n"
     ]
    }
   ],
   "source": [
    "with open(\"data/04.txt\") as f:\n",
    "    print(sum(check_room(l.strip()) for l in f.readlines()))"
   ]
  },
  {
   "cell_type": "code",
   "execution_count": 59,
   "metadata": {},
   "outputs": [],
   "source": [
    "tests = [\n",
    "    [\"aaaaa-bbb-z-y-x-123[abxyz]\", True],\n",
    "    [\"a-b-c-d-e-f-g-h-987[abcde]\", True],\n",
    "    [\"not-a-real-room-404[oarel]\", True],\n",
    "    [\"totally-real-room-200[decoy]\", False]\n",
    "]"
   ]
  },
  {
   "cell_type": "code",
   "execution_count": 60,
   "metadata": {},
   "outputs": [
    {
     "output_type": "stream",
     "name": "stdout",
     "text": [
      "aaaaa-bbb-z-y-x-123[abxyz]\nabxyz abxyz\na-b-c-d-e-f-g-h-987[abcde]\nabcde abcde\nnot-a-real-room-404[oarel]\noarel oarel\ntotally-real-room-200[decoy]\nloart decoy\n"
     ]
    }
   ],
   "source": [
    "for t in tests:\n",
    "    print(t[0])\n",
    "    assert check_room(t[0]) == t[1]"
   ]
  },
  {
   "cell_type": "code",
   "execution_count": 70,
   "metadata": {},
   "outputs": [],
   "source": [
    "r = \"qzmt-zixmtkozy-ivhz-343[abcde]\"\n",
    "name, id, check = re.match(\"((?:[a-z]+-?)+)-(\\d+)\\[(\\w{5})\\]\", r).groups()"
   ]
  },
  {
   "cell_type": "code",
   "execution_count": 71,
   "metadata": {},
   "outputs": [
    {
     "output_type": "execute_result",
     "data": {
      "text/plain": [
       "'qzmt-zixmtkozy-ivhz'"
      ]
     },
     "metadata": {},
     "execution_count": 71
    }
   ],
   "source": [
    "name"
   ]
  },
  {
   "cell_type": "code",
   "execution_count": 72,
   "metadata": {},
   "outputs": [],
   "source": [
    "import string"
   ]
  },
  {
   "cell_type": "code",
   "execution_count": 80,
   "metadata": {},
   "outputs": [],
   "source": [
    "id = int(id)"
   ]
  },
  {
   "cell_type": "code",
   "execution_count": 89,
   "metadata": {},
   "outputs": [
    {
     "output_type": "execute_result",
     "data": {
      "text/plain": [
       "'very encrypted name'"
      ]
     },
     "metadata": {},
     "execution_count": 89
    }
   ],
   "source": []
  },
  {
   "cell_type": "code",
   "execution_count": 101,
   "metadata": {
    "tags": []
   },
   "outputs": [
    {
     "output_type": "stream",
     "name": "stdout",
     "text": [
      "northpole object storage 993\nxxx\n"
     ]
    }
   ],
   "source": [
    "letters = string.ascii_lowercase\n",
    "def get_real_name(r):\n",
    "    name, id, check = re.match(\"((?:[a-z]+-?)+)-(\\d+)\\[(\\w{5})\\]\", r).groups()\n",
    "    return \" \".join([\"\".join([letters[(letters.index(l)+int(id))%26] for l in word]) for word in name.split('-')])\n",
    "\n",
    "\n",
    "with open(\"data/04.txt\") as f:\n",
    "    rooms = [l.strip() for l in f.readlines()]\n",
    "    for r in rooms:\n",
    "        id = check_room(r)\n",
    "        if id > 0:\n",
    "            name = get_real_name(r)\n",
    "            if name.find('north') > -1:\n",
    "                print(name, id)\n",
    "                print('xxx')\n",
    "            "
   ]
  },
  {
   "cell_type": "code",
   "execution_count": null,
   "metadata": {},
   "outputs": [],
   "source": []
  }
 ]
}