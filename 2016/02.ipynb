{
 "metadata": {
  "language_info": {
   "codemirror_mode": {
    "name": "ipython",
    "version": 3
   },
   "file_extension": ".py",
   "mimetype": "text/x-python",
   "name": "python",
   "nbconvert_exporter": "python",
   "pygments_lexer": "ipython3",
   "version": "3.9.0-final"
  },
  "orig_nbformat": 2,
  "kernelspec": {
   "name": "python3",
   "display_name": "Python 3"
  }
 },
 "nbformat": 4,
 "nbformat_minor": 2,
 "cells": [
  {
   "cell_type": "code",
   "execution_count": 1,
   "metadata": {},
   "outputs": [],
   "source": [
    "import numpy as np"
   ]
  },
  {
   "cell_type": "code",
   "execution_count": 11,
   "metadata": {},
   "outputs": [],
   "source": [
    "dirs = {\n",
    "    'U': lambda x: x-3 if x-3 > 0 else x,\n",
    "    'D': lambda x: x+3 if x+3 < 10 else x,\n",
    "    'R': lambda x: x+1 if x%3!=0 else x,\n",
    "    'L': lambda x: x-1 if x%3!=1 else x\n",
    "}"
   ]
  },
  {
   "cell_type": "code",
   "execution_count": 13,
   "metadata": {},
   "outputs": [],
   "source": [
    "in1 = \"\"\"ULL\n",
    "RRDDD\n",
    "LURDL\n",
    "UUUUD\"\"\""
   ]
  },
  {
   "cell_type": "code",
   "execution_count": 34,
   "metadata": {},
   "outputs": [],
   "source": [
    "def part1(data):\n",
    "    d = 5\n",
    "    res = ''\n",
    "    for row in (r.strip() for r in data.split('\\n')):\n",
    "        for c in row:\n",
    "            d = dirs[c](d)\n",
    "        res += str(d)\n",
    "    return res"
   ]
  },
  {
   "cell_type": "code",
   "execution_count": 35,
   "metadata": {},
   "outputs": [
    {
     "output_type": "execute_result",
     "data": {
      "text/plain": [
       "'1985'"
      ]
     },
     "metadata": {},
     "execution_count": 35
    }
   ],
   "source": [
    "part1(in1)"
   ]
  },
  {
   "cell_type": "code",
   "execution_count": 36,
   "metadata": {},
   "outputs": [
    {
     "output_type": "stream",
     "name": "stdout",
     "text": [
      "92435\n"
     ]
    }
   ],
   "source": [
    "with open(\"data/02.txt\") as f:\n",
    "    print(part1(f.read().strip()))"
   ]
  },
  {
   "cell_type": "code",
   "execution_count": 89,
   "metadata": {},
   "outputs": [],
   "source": [
    "pad = np.array([list(r) for r in \"\"\"       \n",
    "   1   \n",
    "  234  \n",
    " 56789 \n",
    "  ABC  \n",
    "   D   \n",
    "       \"\"\".split('\\n')])"
   ]
  },
  {
   "cell_type": "code",
   "execution_count": 90,
   "metadata": {},
   "outputs": [
    {
     "output_type": "execute_result",
     "data": {
      "text/plain": [
       "array([[' ', ' ', ' ', ' ', ' ', ' ', ' '],\n",
       "       [' ', ' ', ' ', '1', ' ', ' ', ' '],\n",
       "       [' ', ' ', '2', '3', '4', ' ', ' '],\n",
       "       [' ', '5', '6', '7', '8', '9', ' '],\n",
       "       [' ', ' ', 'A', 'B', 'C', ' ', ' '],\n",
       "       [' ', ' ', ' ', 'D', ' ', ' ', ' '],\n",
       "       [' ', ' ', ' ', ' ', ' ', ' ', ' ']], dtype='<U1')"
      ]
     },
     "metadata": {},
     "execution_count": 90
    }
   ],
   "source": [
    "pad"
   ]
  },
  {
   "cell_type": "code",
   "execution_count": 91,
   "metadata": {},
   "outputs": [],
   "source": [
    "def possible(pos):\n",
    "    return pad[pos] != ' '\n",
    "def add(p1, p2):\n",
    "    return (p1[0] + p2[0], p1[1] + p2[1])"
   ]
  },
  {
   "cell_type": "code",
   "execution_count": 92,
   "metadata": {},
   "outputs": [],
   "source": [
    "dirs = {\n",
    "    'U': (-1,0),\n",
    "    'D': (1,0),\n",
    "    'R': (0,1),\n",
    "    'L': (0,-1),\n",
    "}\n",
    "def move(dir, pos):\n",
    "    new_pos = add(dirs[dir], pos)\n",
    "    return new_pos if possible(new_pos) else pos\n"
   ]
  },
  {
   "cell_type": "code",
   "execution_count": 96,
   "metadata": {},
   "outputs": [
    {
     "output_type": "execute_result",
     "data": {
      "text/plain": [
       "'5DB3'"
      ]
     },
     "metadata": {},
     "execution_count": 96
    }
   ],
   "source": [
    "def part2(data):\n",
    "    pos = (3,1)\n",
    "    res = ''\n",
    "    for row in (r.strip() for r in data.split('\\n')):\n",
    "        for c in row:\n",
    "            pos = move(c, pos)\n",
    "        res += pad[pos]\n",
    "    return res\n",
    "\n",
    "part2(in1)"
   ]
  },
  {
   "cell_type": "code",
   "execution_count": 95,
   "metadata": {},
   "outputs": [
    {
     "output_type": "stream",
     "name": "stdout",
     "text": [
      "C1A88\n"
     ]
    }
   ],
   "source": [
    "with open(\"data/02.txt\") as f:\n",
    "    print(part2(f.read().strip()))"
   ]
  },
  {
   "cell_type": "code",
   "execution_count": null,
   "metadata": {},
   "outputs": [],
   "source": []
  }
 ]
}