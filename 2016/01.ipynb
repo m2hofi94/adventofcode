{
 "metadata": {
  "language_info": {
   "codemirror_mode": {
    "name": "ipython",
    "version": 3
   },
   "file_extension": ".py",
   "mimetype": "text/x-python",
   "name": "python",
   "nbconvert_exporter": "python",
   "pygments_lexer": "ipython3",
   "version": "3.9.0-final"
  },
  "orig_nbformat": 2,
  "kernelspec": {
   "name": "python3",
   "display_name": "Python 3"
  }
 },
 "nbformat": 4,
 "nbformat_minor": 2,
 "cells": [
  {
   "cell_type": "code",
   "execution_count": 85,
   "metadata": {},
   "outputs": [],
   "source": [
    "in1 = \"R8, R4, R4, R8\".split(', ')"
   ]
  },
  {
   "cell_type": "code",
   "execution_count": 40,
   "metadata": {},
   "outputs": [],
   "source": [
    "import numpy as np"
   ]
  },
  {
   "cell_type": "code",
   "execution_count": 41,
   "metadata": {},
   "outputs": [],
   "source": [
    "from collections import deque"
   ]
  },
  {
   "cell_type": "code",
   "execution_count": 42,
   "metadata": {},
   "outputs": [],
   "source": []
  },
  {
   "cell_type": "code",
   "execution_count": 78,
   "metadata": {},
   "outputs": [],
   "source": [
    "def part1(data):\n",
    "    pos = np.array([0,0])\n",
    "    dirs = deque([np.array([0,-1]), np.array([1,0]), np.array([0,1]), np.array([-1,0])])\n",
    "    \n",
    "    for inst in data:\n",
    "        if inst[0] == 'R':\n",
    "            dirs.rotate(1)\n",
    "        else:\n",
    "            dirs.rotate(-1)\n",
    "        # print(inst, pos)\n",
    "        pos += int(inst[1:]) * dirs[0]\n",
    "\n",
    "    return sum(abs(pos))"
   ]
  },
  {
   "cell_type": "code",
   "execution_count": 71,
   "metadata": {},
   "outputs": [
    {
     "output_type": "stream",
     "name": "stdout",
     "text": [
      "R5 [0 0]\nL5 [-5  0]\nR5 [-5 -5]\nR3 [-10  -5]\n"
     ]
    },
    {
     "output_type": "execute_result",
     "data": {
      "text/plain": [
       "12"
      ]
     },
     "metadata": {},
     "execution_count": 71
    }
   ],
   "source": [
    "part1(in1)"
   ]
  },
  {
   "cell_type": "code",
   "execution_count": 72,
   "metadata": {},
   "outputs": [
    {
     "output_type": "execute_result",
     "data": {
      "text/plain": [
       "'L4, L3, R1, L4, R2, R2, L1, L2, R1, R1, L3, R5, L2, R5, L4, L3, R2, R2, L5, L1, R4, L1, R3, L3, R5, R2, L5, R2, R1, R1, L5, R1, L3, L2, L5, R4, R4, L2, L1, L1, R1, R1, L185, R4, L1, L1, R5, R1, L1, L3, L2, L1, R2, R2, R2, L1, L1, R4, R5, R53, L1, R1, R78, R3, R4, L1, R5, L1, L4, R3, R3, L3, L3, R191, R4, R1, L4, L1, R3, L1, L2, R3, R2, R4, R5, R5, L3, L5, R2, R3, L1, L1, L3, R1, R4, R1, R3, R4, R4, R4, R5, R2, L5, R1, R2, R5, L3, L4, R1, L5, R1, L4, L3, R5, R5, L3, L4, L4, R2, R2, L5, R3, R1, R2, R5, L5, L3, R4, L5, R5, L3, R1, L1, R4, R4, L3, R2, R5, R1, R2, L1, R4, R1, L3, L3, L5, R2, R5, L1, L4, R3, R3, L3, R2, L5, R1, R3, L3, R2, L1, R4, R3, L4, R5, L2, L2, R5, R1, R2, L4, L4, L5, R3, L4'"
      ]
     },
     "metadata": {},
     "execution_count": 72
    }
   ],
   "source": [
    "puzzle"
   ]
  },
  {
   "cell_type": "code",
   "execution_count": 79,
   "metadata": {},
   "outputs": [
    {
     "output_type": "execute_result",
     "data": {
      "text/plain": [
       "332"
      ]
     },
     "metadata": {},
     "execution_count": 79
    }
   ],
   "source": [
    "with open(\"data/01.txt\") as f:\n",
    "    puzzle = f.readlines()[0].strip().split(', ')\n",
    "\n",
    "part1(puzzle)"
   ]
  },
  {
   "cell_type": "code",
   "execution_count": 93,
   "metadata": {},
   "outputs": [
    {
     "output_type": "execute_result",
     "data": {
      "text/plain": [
       "4"
      ]
     },
     "metadata": {},
     "execution_count": 93
    }
   ],
   "source": [
    "def part2(data):\n",
    "    pos = np.array([0,0])\n",
    "    dirs = deque([np.array([0,-1]), np.array([1,0]), np.array([0,1]), np.array([-1,0])])\n",
    "    visited = set([\"0,0\"])\n",
    "    \n",
    "    for inst in data:\n",
    "        if inst[0] == 'R':\n",
    "            dirs.rotate(1)\n",
    "        else:\n",
    "            dirs.rotate(-1)\n",
    "        for _ in range(int(inst[1:])):\n",
    "            pos += dirs[0]\n",
    "            str_pos = f\"{pos[0]},{pos[1]}\"\n",
    "            #print(visited, str_pos)\n",
    "            if str_pos in visited:\n",
    "                return sum(abs(pos))\n",
    "            else:\n",
    "                visited.add(str_pos)\n",
    "\n",
    "    return sum(abs(pos))\n",
    "\n",
    "part2(in1)"
   ]
  },
  {
   "cell_type": "code",
   "execution_count": 94,
   "metadata": {},
   "outputs": [
    {
     "output_type": "execute_result",
     "data": {
      "text/plain": [
       "166"
      ]
     },
     "metadata": {},
     "execution_count": 94
    }
   ],
   "source": [
    "part2(puzzle)"
   ]
  },
  {
   "cell_type": "code",
   "execution_count": null,
   "metadata": {},
   "outputs": [],
   "source": []
  }
 ]
}