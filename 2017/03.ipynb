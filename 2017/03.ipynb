{
 "metadata": {
  "language_info": {
   "codemirror_mode": {
    "name": "ipython",
    "version": 3
   },
   "file_extension": ".py",
   "mimetype": "text/x-python",
   "name": "python",
   "nbconvert_exporter": "python",
   "pygments_lexer": "ipython3",
   "version": "3.9.0-final"
  },
  "orig_nbformat": 2,
  "kernelspec": {
   "name": "python3",
   "display_name": "Python 3"
  }
 },
 "nbformat": 4,
 "nbformat_minor": 2,
 "cells": [
  {
   "cell_type": "code",
   "execution_count": 1,
   "metadata": {},
   "outputs": [
    {
     "output_type": "execute_result",
     "data": {
      "text/plain": [
       "537.8903233931617"
      ]
     },
     "metadata": {},
     "execution_count": 1
    }
   ],
   "source": [
    "289326 ** 0.5"
   ]
  },
  {
   "cell_type": "code",
   "execution_count": 2,
   "metadata": {},
   "outputs": [
    {
     "output_type": "execute_result",
     "data": {
      "text/plain": [
       "288369"
      ]
     },
     "metadata": {},
     "execution_count": 2
    }
   ],
   "source": [
    "537**2"
   ]
  },
  {
   "cell_type": "code",
   "execution_count": 3,
   "metadata": {},
   "outputs": [],
   "source": [
    "in1 = 12"
   ]
  },
  {
   "cell_type": "code",
   "execution_count": 4,
   "metadata": {},
   "outputs": [],
   "source": [
    "import math"
   ]
  },
  {
   "cell_type": "code",
   "execution_count": 42,
   "metadata": {},
   "outputs": [],
   "source": [
    "def get_radius(num):\n",
    "    r = math.ceil((math.sqrt(num) - 1) / 2)\n",
    "    base = (r*2+1)\n",
    "    return r, (base-2)**2+1, base**2, base"
   ]
  },
  {
   "cell_type": "code",
   "execution_count": 119,
   "metadata": {},
   "outputs": [],
   "source": [
    "def get_distance(num):\n",
    "    r, low, high, base = get_radius(num)\n",
    "    pos = (num-low)%(base-1)\n",
    "    d = abs((r-1)-pos)\n",
    "    return r+d,base-pos"
   ]
  },
  {
   "cell_type": "code",
   "execution_count": 135,
   "metadata": {},
   "outputs": [
    {
     "output_type": "execute_result",
     "data": {
      "text/plain": [
       "(3565868, 709060)"
      ]
     },
     "metadata": {},
     "execution_count": 135
    }
   ],
   "source": [
    "get_distance(18274987321493)"
   ]
  },
  {
   "cell_type": "code",
   "execution_count": 60,
   "metadata": {},
   "outputs": [],
   "source": [
    "import numpy as np"
   ]
  },
  {
   "cell_type": "code",
   "execution_count": 69,
   "metadata": {},
   "outputs": [],
   "source": [
    "grid = np.zeros((5,5), dtype=np.int)"
   ]
  },
  {
   "cell_type": "code",
   "execution_count": 83,
   "metadata": {},
   "outputs": [
    {
     "output_type": "execute_result",
     "data": {
      "text/plain": [
       "array([[0, 0, 0, 0, 0],\n",
       "       [0, 0, 0, 0, 0],\n",
       "       [0, 0, 1, 0, 0],\n",
       "       [0, 0, 1, 0, 0],\n",
       "       [0, 0, 0, 0, 0]])"
      ]
     },
     "metadata": {},
     "execution_count": 83
    }
   ],
   "source": [
    "pos = (3,2)\n",
    "grid[pos] = 1\n",
    "grid"
   ]
  },
  {
   "cell_type": "code",
   "execution_count": 84,
   "metadata": {},
   "outputs": [],
   "source": [
    "def sum_neighbor(grid, pos):\n",
    "    low_x = pos[0]-1\n",
    "    high_x = pos[0]+2\n",
    "    low_y = pos[1]-1\n",
    "    high_y = pos[1]+2\n",
    "    return sum(sum(grid[low_x:high_x, low_y:high_y]))"
   ]
  },
  {
   "cell_type": "code",
   "execution_count": 86,
   "metadata": {},
   "outputs": [
    {
     "output_type": "execute_result",
     "data": {
      "text/plain": [
       "1"
      ]
     },
     "metadata": {},
     "execution_count": 86
    }
   ],
   "source": [
    "sum_neighbor(grid, (1,1))"
   ]
  },
  {
   "cell_type": "code",
   "execution_count": 87,
   "metadata": {},
   "outputs": [],
   "source": [
    "from collections import deque"
   ]
  },
  {
   "cell_type": "code",
   "execution_count": 88,
   "metadata": {},
   "outputs": [],
   "source": [
    "dirs = deque([(0,1),(-1,0),(0,-1),(1,0)])"
   ]
  },
  {
   "cell_type": "code",
   "execution_count": 91,
   "metadata": {},
   "outputs": [],
   "source": [
    "def add(*args):\n",
    "    return tuple(map(sum, zip(*args)))"
   ]
  },
  {
   "cell_type": "code",
   "execution_count": 92,
   "metadata": {},
   "outputs": [
    {
     "output_type": "execute_result",
     "data": {
      "text/plain": [
       "(2, 3)"
      ]
     },
     "metadata": {},
     "execution_count": 92
    }
   ],
   "source": [
    "pos = (2,2)\n",
    "add(pos, dirs[0])"
   ]
  },
  {
   "cell_type": "code",
   "execution_count": 182,
   "metadata": {},
   "outputs": [],
   "source": [
    "def part2(size, inp):\n",
    "    half = size // 2\n",
    "    pos = (half,half)\n",
    "\n",
    "    dirs = deque([(-1,0),(0,-1),(1,0),(0,1)])\n",
    "\n",
    "    grid = np.zeros((size,size), dtype=np.int)\n",
    "    grid[pos] = 1\n",
    "    pos = add(pos, dirs[0])\n",
    "    for r in range(half):\n",
    "        # print(\"rad:\", r)\n",
    "        base = (r*2+1)\n",
    "        low = (base-2)**2+1\n",
    "        high = base ** 2\n",
    "        pos = add((half,half), (r-1, r))\n",
    "        for num in range(low, high + 1):\n",
    "            res = sum_neighbor(grid, pos)\n",
    "            grid[pos] = res\n",
    "            if res > inp:\n",
    "                return res, num, grid\n",
    "            c = (num-low)%(base-1)\n",
    "            # print(num, c)\n",
    "            if c == base-2:\n",
    "                dirs.rotate(-1)\n",
    "            pos = add(pos, dirs[0])\n"
   ]
  },
  {
   "cell_type": "code",
   "execution_count": 183,
   "metadata": {},
   "outputs": [
    {
     "output_type": "execute_result",
     "data": {
      "text/plain": [
       "array([[     0,      0,      0,      0,      0,      0,      0,      0,\n",
       "             0,      0],\n",
       "       [     0,      0,      0,      0,      0,      0, 295229, 279138,\n",
       "        266330, 130654],\n",
       "       [     0,      0,   6591,   6444,   6155,   5733,   5336,   5022,\n",
       "          2450, 128204],\n",
       "       [     0,      0,  13486,    147,    142,    133,    122,     59,\n",
       "          2391, 123363],\n",
       "       [     0,      0,  14267,    304,      5,      4,      2,     57,\n",
       "          2275, 116247],\n",
       "       [     0,      0,  15252,    330,     10,      1,      1,     54,\n",
       "          2105, 109476],\n",
       "       [     0,      0,  16295,    351,     11,     23,     25,     26,\n",
       "          1968, 103128],\n",
       "       [     0,      0,  17008,    362,    747,    806,    880,    931,\n",
       "           957,  98098],\n",
       "       [     0,      0,  17370,  35487,  37402,  39835,  42452,  45220,\n",
       "         47108,  48065],\n",
       "       [     0,      0,      0,      0,      0,      0,      0,      0,\n",
       "             0,      0]])"
      ]
     },
     "metadata": {},
     "execution_count": 183
    }
   ],
   "source": [
    "n, r, g = part2(10,289326)\n",
    "g"
   ]
  },
  {
   "cell_type": "code",
   "execution_count": 184,
   "metadata": {},
   "outputs": [
    {
     "output_type": "execute_result",
     "data": {
      "text/plain": [
       "60"
      ]
     },
     "metadata": {},
     "execution_count": 184
    }
   ],
   "source": [
    "r"
   ]
  },
  {
   "cell_type": "code",
   "execution_count": 1,
   "metadata": {},
   "outputs": [
    {
     "output_type": "execute_result",
     "data": {
      "text/plain": [
       "count(1, 2)"
      ]
     },
     "metadata": {},
     "execution_count": 1
    }
   ],
   "source": [
    "from itertools import count\n",
    "count(1,2)"
   ]
  },
  {
   "cell_type": "code",
   "execution_count": 2,
   "metadata": {},
   "outputs": [
    {
     "output_type": "stream",
     "text": [
      "\u001b[0;31mInit signature:\u001b[0m \u001b[0mcount\u001b[0m\u001b[0;34m(\u001b[0m\u001b[0mstart\u001b[0m\u001b[0;34m=\u001b[0m\u001b[0;36m0\u001b[0m\u001b[0;34m,\u001b[0m \u001b[0mstep\u001b[0m\u001b[0;34m=\u001b[0m\u001b[0;36m1\u001b[0m\u001b[0;34m)\u001b[0m\u001b[0;34m\u001b[0m\u001b[0;34m\u001b[0m\u001b[0m\n",
      "\u001b[0;31mDocstring:\u001b[0m     \n",
      "Return a count object whose .__next__() method returns consecutive values.\n",
      "\n",
      "Equivalent to:\n",
      "    def count(firstval=0, step=1):\n",
      "        x = firstval\n",
      "        while 1:\n",
      "            yield x\n",
      "            x += step\n",
      "\u001b[0;31mType:\u001b[0m           type\n",
      "\u001b[0;31mSubclasses:\u001b[0m     \n"
     ],
     "name": "stdout"
    }
   ],
   "source": [
    "count?"
   ]
  },
  {
   "cell_type": "code",
   "execution_count": null,
   "metadata": {},
   "outputs": [],
   "source": []
  }
 ]
}