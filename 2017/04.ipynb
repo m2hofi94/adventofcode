{
 "metadata": {
  "language_info": {
   "codemirror_mode": {
    "name": "ipython",
    "version": 3
   },
   "file_extension": ".py",
   "mimetype": "text/x-python",
   "name": "python",
   "nbconvert_exporter": "python",
   "pygments_lexer": "ipython3",
   "version": "3.9.0-final"
  },
  "orig_nbformat": 2,
  "kernelspec": {
   "name": "python3",
   "display_name": "Python 3"
  }
 },
 "nbformat": 4,
 "nbformat_minor": 2,
 "cells": [
  {
   "cell_type": "code",
   "execution_count": 2,
   "metadata": {},
   "outputs": [
    {
     "output_type": "execute_result",
     "data": {
      "text/plain": [
       "False"
      ]
     },
     "metadata": {},
     "execution_count": 2
    }
   ],
   "source": [
    "inp = \"aa bb cc dd aa\"\n",
    "parts = inp.split(' ')\n",
    "len(set(parts)) == len(parts)"
   ]
  },
  {
   "cell_type": "code",
   "execution_count": 6,
   "metadata": {},
   "outputs": [
    {
     "output_type": "stream",
     "name": "stdout",
     "text": [
      "451\n"
     ]
    }
   ],
   "source": [
    "parts = []\n",
    "with open(\"data/04.txt\") as f:\n",
    "    parts = [l.strip().split(' ') for l in f.readlines()]\n",
    "    print(sum(len(set(l)) == len(l) for l in parts))\n"
   ]
  },
  {
   "cell_type": "code",
   "execution_count": 30,
   "metadata": {},
   "outputs": [
    {
     "output_type": "stream",
     "name": "stdout",
     "text": [
      "223\n"
     ]
    }
   ],
   "source": [
    "lines = []\n",
    "with open(\"data/04.txt\") as f:\n",
    "    lines = [[\"\".join(sorted(w)) for w in l.strip().split(' ')] for l in f.readlines()]\n",
    "    print(sum(len(set(l)) == len(l) for l in lines))"
   ]
  },
  {
   "cell_type": "code",
   "execution_count": null,
   "metadata": {},
   "outputs": [],
   "source": []
  }
 ]
}