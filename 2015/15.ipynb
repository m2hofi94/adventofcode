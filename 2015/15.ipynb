{
 "metadata": {
  "language_info": {
   "codemirror_mode": {
    "name": "ipython",
    "version": 3
   },
   "file_extension": ".py",
   "mimetype": "text/x-python",
   "name": "python",
   "nbconvert_exporter": "python",
   "pygments_lexer": "ipython3",
   "version": "3.9.0-final"
  },
  "orig_nbformat": 2,
  "kernelspec": {
   "name": "python3",
   "display_name": "Python 3",
   "language": "python"
  }
 },
 "nbformat": 4,
 "nbformat_minor": 2,
 "cells": [
  {
   "cell_type": "code",
   "execution_count": 65,
   "metadata": {},
   "outputs": [],
   "source": [
    "raw = \"\"\"Butterscotch: capacity -1, durability -2, flavor 6, texture 3, calories 8\n",
    "Cinnamon: capacity 2, durability 3, flavor -2, texture -1, calories 3\"\"\"\n",
    "raw = open('data/15.txt').read()\n",
    "\n",
    "import re\n",
    "num = re.compile('-?\\d+')\n",
    "\n",
    "ings = {l.split(':')[0]: [int(n) for n in num.findall(l)] for l in raw.splitlines()}\n"
   ]
  },
  {
   "cell_type": "code",
   "execution_count": 66,
   "metadata": {},
   "outputs": [],
   "source": [
    "from math import prod\n",
    "def calc_score_no_cal(amounts, ings):\n",
    "    mult = [[amounts[name] * i for i in ings[name][:-1]] for name in ings]\n",
    "    cals = sum([amounts[name] * ings[name][-1] for name in ings])\n",
    "    if cals != 500:\n",
    "        return -1\n",
    "    return prod(max(0, sum(pair)) for pair in zip(*mult))\n",
    "        "
   ]
  },
  {
   "cell_type": "code",
   "execution_count": 64,
   "metadata": {},
   "outputs": [
    {
     "output_type": "execute_result",
     "data": {
      "text/plain": [
       "57600000"
      ]
     },
     "metadata": {},
     "execution_count": 64
    }
   ],
   "source": [
    "calc_score_no_cal({\n",
    "    'Butterscotch': 40,\n",
    "    'Cinnamon': 60\n",
    "}, ings)"
   ]
  },
  {
   "cell_type": "code",
   "execution_count": 67,
   "metadata": {},
   "outputs": [
    {
     "output_type": "execute_result",
     "data": {
      "text/plain": [
       "15862900"
      ]
     },
     "metadata": {},
     "execution_count": 67
    }
   ],
   "source": [
    "max(calc_score_no_cal({\n",
    "    'Butterscotch': b, \n",
    "    'Frosting': f,\n",
    "    'Sugar': s,\n",
    "    'Candy': c\n",
    "}, ings) for b,f,s,c in sum_to_100())\n",
    "    \n"
   ]
  },
  {
   "cell_type": "code",
   "execution_count": 35,
   "metadata": {},
   "outputs": [
    {
     "output_type": "stream",
     "name": "stdout",
     "text": [
      "100\n100\n100\n100\n100\n100\n100\n100\n100\n100\n"
     ]
    }
   ],
   "source": [
    "def sum_to_100():\n",
    "    for i in range(100):\n",
    "        for j in range(100-i):\n",
    "            for k in range(100-i-j):\n",
    "                yield (i,j,k,100-i-j-k)\n"
   ]
  },
  {
   "cell_type": "code",
   "execution_count": null,
   "metadata": {},
   "outputs": [],
   "source": []
  }
 ]
}