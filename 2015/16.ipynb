{
 "metadata": {
  "language_info": {
   "codemirror_mode": {
    "name": "ipython",
    "version": 3
   },
   "file_extension": ".py",
   "mimetype": "text/x-python",
   "name": "python",
   "nbconvert_exporter": "python",
   "pygments_lexer": "ipython3",
   "version": "3.9.0-final"
  },
  "orig_nbformat": 2,
  "kernelspec": {
   "name": "python3",
   "display_name": "Python 3",
   "language": "python"
  }
 },
 "nbformat": 4,
 "nbformat_minor": 2,
 "cells": [
  {
   "cell_type": "code",
   "execution_count": 28,
   "metadata": {},
   "outputs": [
    {
     "output_type": "execute_result",
     "data": {
      "text/plain": [
       "{'children': 3,\n",
       " 'cats': 7,\n",
       " 'samoyeds': 2,\n",
       " 'pomeranians': 3,\n",
       " 'akitas': 0,\n",
       " 'vizslas': 0,\n",
       " 'goldfish': 5,\n",
       " 'trees': 3,\n",
       " 'cars': 2,\n",
       " 'perfumes': 1}"
      ]
     },
     "metadata": {},
     "execution_count": 28
    }
   ],
   "source": [
    "aunt_raw = \"\"\"children: 3\n",
    "cats: 7\n",
    "samoyeds: 2\n",
    "pomeranians: 3\n",
    "akitas: 0\n",
    "vizslas: 0\n",
    "goldfish: 5\n",
    "trees: 3\n",
    "cars: 2\n",
    "perfumes: 1\"\"\"\n",
    "\n",
    "def parse_aunt(raw, split='\\n'):\n",
    "    props = {p: int(val) for p, val in [l.split(': ') for l in raw.split(split)]}\n",
    "    return props\n",
    "\n",
    "SUE = parse_aunt(aunt_raw)\n",
    "SUE"
   ]
  },
  {
   "cell_type": "code",
   "execution_count": 29,
   "metadata": {
    "tags": []
   },
   "outputs": [],
   "source": [
    "aunts_raw = open('data/16.txt').readlines()\n",
    "aunts = {}\n",
    "for a in aunts_raw:\n",
    "    name, _, props = a.partition(': ')\n",
    "    aunts[name] = parse_aunt(props, ', ')"
   ]
  },
  {
   "cell_type": "code",
   "execution_count": 30,
   "metadata": {},
   "outputs": [],
   "source": [
    "def could_be(aunt):\n",
    "    for p in aunt:\n",
    "        if SUE[p] != aunt[p]:\n",
    "            return False\n",
    "    return True\n"
   ]
  },
  {
   "cell_type": "code",
   "execution_count": 23,
   "metadata": {},
   "outputs": [
    {
     "output_type": "execute_result",
     "data": {
      "text/plain": [
       "['Sue 373']"
      ]
     },
     "metadata": {},
     "execution_count": 23
    }
   ],
   "source": [
    "[name for name in aunts if could_be(aunts[name])]"
   ]
  },
  {
   "cell_type": "code",
   "execution_count": 52,
   "metadata": {},
   "outputs": [],
   "source": [
    "def could_be_2(aunt):\n",
    "    for p in aunt:\n",
    "        if p in ('cats', 'trees'):\n",
    "            if SUE[p] >= aunt[p]:\n",
    "                return False\n",
    "        elif p in ('pomeranians', 'goldfish'):\n",
    "            if SUE[p] <= aunt[p]:\n",
    "                return False\n",
    "        elif SUE[p] != aunt[p]:\n",
    "            return False\n",
    "\n",
    "    return True"
   ]
  },
  {
   "cell_type": "code",
   "execution_count": 53,
   "metadata": {},
   "outputs": [
    {
     "output_type": "execute_result",
     "data": {
      "text/plain": [
       "['Sue 260']"
      ]
     },
     "metadata": {},
     "execution_count": 53
    }
   ],
   "source": [
    "[name for name in aunts if could_be_2(aunts[name])]"
   ]
  },
  {
   "cell_type": "code",
   "execution_count": null,
   "metadata": {},
   "outputs": [],
   "source": []
  }
 ]
}