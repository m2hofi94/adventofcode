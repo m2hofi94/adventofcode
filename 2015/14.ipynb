{
 "metadata": {
  "language_info": {
   "codemirror_mode": {
    "name": "ipython",
    "version": 3
   },
   "file_extension": ".py",
   "mimetype": "text/x-python",
   "name": "python",
   "nbconvert_exporter": "python",
   "pygments_lexer": "ipython3",
   "version": "3.9.0-final"
  },
  "orig_nbformat": 2,
  "kernelspec": {
   "name": "python3",
   "display_name": "Python 3"
  }
 },
 "nbformat": 4,
 "nbformat_minor": 2,
 "cells": [
  {
   "cell_type": "code",
   "execution_count": 62,
   "metadata": {},
   "outputs": [],
   "source": [
    "import re"
   ]
  },
  {
   "cell_type": "code",
   "execution_count": 75,
   "metadata": {},
   "outputs": [],
   "source": [
    "inp = \"\"\"Comet can fly 14 km/s for 10 seconds, but then must rest for 127 seconds.\n",
    "Dancer can fly 16 km/s for 11 seconds, but then must rest for 162 seconds.\"\"\"\n",
    "\n",
    "with open(\"data/14.txt\") as f:\n",
    "    inp = f.read().strip()\n",
    "\n",
    "class Deer():\n",
    "    def __init__(self, speed, endurance, rest, name):\n",
    "        self.speed = int(speed)\n",
    "        self.endurance = int(endurance)\n",
    "        self.rest = int(rest)\n",
    "\n",
    "        self.name = name\n",
    "        self.distance = 0\n",
    "        self.points = 0\n",
    "        \n",
    "        self._resting = True\n",
    "        self._remaining = 0\n",
    "\n",
    "\n",
    "    def __repr__(self):\n",
    "        return f\"{self.name}: {self.distance}, Rest: {self._resting}\"\n",
    "\n",
    "    def run(self):\n",
    "        if self._remaining == 0:\n",
    "            self._resting = not self._resting\n",
    "            self._remaining = self.rest if self._resting else self.endurance\n",
    "        if not self._resting:\n",
    "            self.distance += self.speed\n",
    "        self._remaining -= 1\n",
    "        \n",
    "\n",
    "\n",
    "deers = []\n",
    "for l in inp.split('\\n'):\n",
    "    props = re.findall(r'\\d+',l)\n",
    "    deers.append(Deer(*props, l.split(' ')[0]))\n"
   ]
  },
  {
   "cell_type": "code",
   "execution_count": 76,
   "metadata": {},
   "outputs": [],
   "source": [
    "for i in range(1, 2504):\n",
    "    for d in deers:\n",
    "        d.run()\n",
    "    max(deers, key=lambda d: d.distance).points += 1\n",
    "    #print(i, deers)"
   ]
  },
  {
   "cell_type": "code",
   "execution_count": 79,
   "metadata": {},
   "outputs": [
    {
     "output_type": "execute_result",
     "data": {
      "text/plain": [
       "1059"
      ]
     },
     "metadata": {},
     "execution_count": 79
    }
   ],
   "source": [
    "max(deers, key=lambda d: d.points).points"
   ]
  }
 ]
}