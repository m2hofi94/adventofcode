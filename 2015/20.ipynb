{
 "metadata": {
  "language_info": {
   "codemirror_mode": {
    "name": "ipython",
    "version": 3
   },
   "file_extension": ".py",
   "mimetype": "text/x-python",
   "name": "python",
   "nbconvert_exporter": "python",
   "pygments_lexer": "ipython3",
   "version": "3.9.0-final"
  },
  "orig_nbformat": 2,
  "kernelspec": {
   "name": "python3",
   "display_name": "Python 3",
   "language": "python"
  }
 },
 "nbformat": 4,
 "nbformat_minor": 2,
 "cells": [
  {
   "source": [
    "```\n",
    "House 1 got 10 presents.\n",
    "House 2 got 30 presents.\n",
    "House 3 got 40 presents.\n",
    "House 4 got 70 presents.\n",
    "House 5 got 60 presents.\n",
    "House 6 got 120 presents.\n",
    "House 7 got 80 presents.\n",
    "House 8 got 150 presents.\n",
    "House 9 got 130 presents.\n",
    "```"
   ],
   "cell_type": "markdown",
   "metadata": {}
  },
  {
   "cell_type": "code",
   "execution_count": 33,
   "metadata": {},
   "outputs": [
    {
     "output_type": "stream",
     "name": "stdout",
     "text": [
      "1 [10]\n2 [10, 30]\n3 [10, 40, 50]\n4 [10, 50, 70, 80]\n5 [10, 60, 90, 120, 90]\n6 [10, 70, 110, 160, 130, 140]\n7 [10, 80, 130, 200, 170, 220, 130]\n8 [10, 90, 150, 240, 210, 300, 190, 190]\n9 [10, 100, 170, 280, 250, 380, 250, 300, 190]\n"
     ]
    }
   ],
   "source": [
    "elves = 0\n",
    "houses = []\n",
    "def add(elves, houses):\n",
    "    elves += 1\n",
    "    houses.append(elves*10)\n",
    "    return elves, houses\n",
    "\n",
    "def run(elves, houses):\n",
    "    for i in range(elves):\n",
    "        for j in range(i,len(houses), i+1):\n",
    "            houses[j] += i*10\n",
    "    return houses\n",
    "\n",
    "for _ in range(9):\n",
    "    elves, houses = add(elves, houses)\n",
    "    houses = run(elves, houses)\n",
    "    print(elves, houses)\n"
   ]
  },
  {
   "cell_type": "code",
   "execution_count": 204,
   "metadata": {},
   "outputs": [],
   "source": [
    "from functools import cache\n",
    "\n",
    "def primeFactors(n): \n",
    "    while n % 2 == 0: \n",
    "        yield 2\n",
    "        n = n // 2\n",
    "          \n",
    "    for i in range(3,int(math.sqrt(n))+1,2):\n",
    "        while n % i== 0: \n",
    "            yield i\n",
    "            n = n // i\n",
    "    if n > 2: \n",
    "        yield n\n"
   ]
  },
  {
   "cell_type": "code",
   "execution_count": 213,
   "metadata": {},
   "outputs": [],
   "source": [
    "from more_itertools import powerset\n",
    "def presents_iter(h):\n",
    "    return sum(math.prod(el)*10 for el in set(powerset(primeFactors(h))))"
   ]
  },
  {
   "cell_type": "code",
   "execution_count": 206,
   "metadata": {},
   "outputs": [
    {
     "output_type": "execute_result",
     "data": {
      "text/plain": [
       "2170"
      ]
     },
     "metadata": {},
     "execution_count": 206
    }
   ],
   "source": [
    "def presents_slow(h):\n",
    "    return sum(i*10 for i in range(1, h+1) if h%i==0)\n",
    "\n",
    "presents_slow(100)"
   ]
  },
  {
   "cell_type": "code",
   "execution_count": 196,
   "metadata": {},
   "outputs": [],
   "source": [
    "i = 1\n",
    "target = 29000000\n",
    "while presents_iter(i) < target:\n",
    "    i+=1"
   ]
  },
  {
   "cell_type": "code",
   "execution_count": 199,
   "metadata": {},
   "outputs": [
    {
     "output_type": "execute_result",
     "data": {
      "text/plain": [
       "665280"
      ]
     },
     "metadata": {},
     "execution_count": 199
    }
   ],
   "source": [
    "n = i\n",
    "n"
   ]
  },
  {
   "source": [
    "# Part 2"
   ],
   "cell_type": "markdown",
   "metadata": {}
  },
  {
   "cell_type": "code",
   "execution_count": 220,
   "metadata": {},
   "outputs": [],
   "source": [
    "def presents_iter_2(h):\n",
    "    return sum(math.prod(el)*11 for el in set(powerset(primeFactors(h))) if h // math.prod(el)<=50 )"
   ]
  },
  {
   "cell_type": "code",
   "execution_count": 221,
   "metadata": {},
   "outputs": [
    {
     "output_type": "execute_result",
     "data": {
      "text/plain": [
       "705600"
      ]
     },
     "metadata": {},
     "execution_count": 221
    }
   ],
   "source": [
    "i = 1\n",
    "target = 29000000\n",
    "while presents_iter_2(i) < target:\n",
    "    i+=1\n",
    "\n",
    "i"
   ]
  },
  {
   "cell_type": "code",
   "execution_count": null,
   "metadata": {},
   "outputs": [],
   "source": [
    "776160"
   ]
  },
  {
   "cell_type": "code",
   "execution_count": 218,
   "metadata": {},
   "outputs": [
    {
     "output_type": "stream",
     "name": "stdout",
     "text": [
      "1 10 10\n2 30 30\n3 40 40\n4 70 70\n5 60 60\n6 120 120\n7 80 80\n8 150 150\n9 130 130\n10 180 180\n11 120 120\n12 280 280\n13 140 140\n14 240 240\n15 240 240\n16 310 310\n17 180 180\n18 390 390\n19 200 200\n20 420 420\n21 320 320\n22 360 360\n23 240 240\n24 600 600\n25 310 310\n26 420 420\n27 400 400\n28 560 560\n29 300 300\n30 720 720\n31 320 320\n32 630 630\n33 480 480\n34 540 540\n35 480 480\n36 910 910\n37 380 380\n38 600 600\n39 560 560\n40 900 900\n41 420 420\n42 960 960\n43 440 440\n44 840 840\n45 780 780\n46 720 720\n47 480 480\n48 1240 1240\n49 570 570\n50 930 930\n51 720 710\n52 980 970\n53 540 530\n54 1200 1190\n55 720 710\n56 1200 1190\n57 800 790\n58 900 890\n59 600 590\n60 1680 1670\n61 620 610\n62 960 950\n63 1040 1030\n64 1270 1260\n65 840 830\n66 1440 1430\n67 680 670\n68 1260 1250\n69 960 950\n70 1440 1430\n71 720 710\n72 1950 1940\n73 740 730\n74 1140 1130\n75 1240 1230\n76 1400 1390\n77 960 950\n78 1680 1670\n79 800 790\n80 1860 1850\n81 1210 1200\n82 1260 1250\n83 840 830\n84 2240 2230\n85 1080 1070\n86 1320 1310\n87 1200 1190\n88 1800 1790\n89 900 890\n90 2340 2330\n91 1120 1110\n92 1680 1670\n93 1280 1270\n94 1440 1430\n95 1200 1190\n96 2520 2510\n97 980 970\n98 1710 1700\n99 1560 1550\n100 2170 2160\n101 1020 1010\n102 2160 2130\n103 1040 1030\n104 2100 2070\n105 1920 1910\n106 1620 1590\n107 1080 1070\n108 2800 2770\n109 1100 1090\n110 2160 2130\n111 1520 1510\n112 2480 2450\n113 1140 1130\n114 2400 2370\n115 1440 1430\n116 2100 2070\n117 1820 1810\n118 1800 1770\n119 1440 1430\n120 3600 3570\n121 1330 1320\n122 1860 1830\n123 1680 1670\n124 2240 2210\n125 1560 1550\n126 3120 3090\n127 1280 1270\n128 2550 2520\n129 1760 1750\n130 2520 2490\n131 1320 1310\n132 3360 3330\n133 1600 1590\n134 2040 2010\n135 2400 2390\n136 2700 2670\n137 1380 1370\n138 2880 2850\n139 1400 1390\n140 3360 3330\n141 1920 1910\n142 2160 2130\n143 1680 1670\n144 4030 4000\n145 1800 1790\n146 2220 2190\n147 2280 2270\n148 2660 2630\n149 1500 1490\n150 3720 3690\n151 1520 1510\n152 3000 2970\n153 2340 2300\n154 2880 2850\n155 1920 1910\n156 3920 3860\n157 1580 1570\n158 2400 2370\n159 2160 2120\n160 3780 3750\n161 1920 1910\n162 3630 3570\n163 1640 1630\n164 2940 2910\n165 2880 2840\n166 2520 2490\n167 1680 1670\n168 4800 4740\n169 1830 1820\n170 3240 3210\n171 2600 2560\n172 3080 3050\n173 1740 1730\n174 3600 3540\n175 2480 2470\n176 3720 3690\n177 2400 2360\n178 2700 2670\n179 1800 1790\n180 5460 5400\n181 1820 1810\n182 3360 3330\n183 2480 2440\n184 3600 3570\n185 2280 2270\n186 3840 3780\n187 2160 2150\n188 3360 3330\n189 3200 3160\n190 3600 3570\n191 1920 1910\n192 5080 5020\n193 1940 1930\n194 2940 2910\n195 3360 3320\n196 3990 3960\n197 1980 1970\n198 4680 4620\n199 2000 1990\n"
     ]
    }
   ],
   "source": [
    "for h in range(1,200):\n",
    "    print(h, presents_iter(h), presents_iter_2(h))"
   ]
  },
  {
   "cell_type": "code",
   "execution_count": null,
   "metadata": {},
   "outputs": [],
   "source": []
  }
 ]
}