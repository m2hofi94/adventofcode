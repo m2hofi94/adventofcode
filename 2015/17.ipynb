{
 "metadata": {
  "language_info": {
   "codemirror_mode": {
    "name": "ipython",
    "version": 3
   },
   "file_extension": ".py",
   "mimetype": "text/x-python",
   "name": "python",
   "nbconvert_exporter": "python",
   "pygments_lexer": "ipython3",
   "version": "3.9.0-final"
  },
  "orig_nbformat": 2,
  "kernelspec": {
   "name": "python3",
   "display_name": "Python 3",
   "language": "python"
  }
 },
 "nbformat": 4,
 "nbformat_minor": 2,
 "cells": [
  {
   "cell_type": "code",
   "execution_count": 1,
   "metadata": {},
   "outputs": [
    {
     "output_type": "execute_result",
     "data": {
      "text/plain": [
       "[43, 3, 4, 10, 21, 44, 4, 6, 47, 41, 34, 17, 17, 44, 36, 31, 46, 9, 27, 38]"
      ]
     },
     "metadata": {},
     "execution_count": 1
    }
   ],
   "source": [
    "raw = \"\"\"43\n",
    "3\n",
    "4\n",
    "10\n",
    "21\n",
    "44\n",
    "4\n",
    "6\n",
    "47\n",
    "41\n",
    "34\n",
    "17\n",
    "17\n",
    "44\n",
    "36\n",
    "31\n",
    "46\n",
    "9\n",
    "27\n",
    "38\"\"\"\n",
    "containers = [int(i) for i in raw.splitlines()]\n",
    "containers\n"
   ]
  },
  {
   "cell_type": "code",
   "execution_count": 4,
   "metadata": {},
   "outputs": [
    {
     "output_type": "execute_result",
     "data": {
      "text/plain": [
       "[(1, 2), (1, 3), (2, 3)]"
      ]
     },
     "metadata": {},
     "execution_count": 4
    }
   ],
   "source": [
    "from itertools import combinations\n",
    "\n",
    "list(combinations([1,2,3],2))"
   ]
  },
  {
   "cell_type": "code",
   "execution_count": 6,
   "metadata": {},
   "outputs": [],
   "source": [
    "res = []\n",
    "for i in range(len(containers)):\n",
    "    all_high = True\n",
    "    for c in combinations(containers, i+1):\n",
    "        s = sum(c)\n",
    "        if s == 150:\n",
    "            res.append(c)\n",
    "        elif s < 150:\n",
    "            all_high = False\n",
    "    if all_high:\n",
    "        break "
   ]
  },
  {
   "cell_type": "code",
   "execution_count": 8,
   "metadata": {},
   "outputs": [
    {
     "output_type": "execute_result",
     "data": {
      "text/plain": [
       "1638"
      ]
     },
     "metadata": {},
     "execution_count": 8
    }
   ],
   "source": [
    "len(res)"
   ]
  },
  {
   "cell_type": "code",
   "execution_count": 12,
   "metadata": {},
   "outputs": [
    {
     "output_type": "execute_result",
     "data": {
      "text/plain": [
       "17"
      ]
     },
     "metadata": {},
     "execution_count": 12
    }
   ],
   "source": [
    "m = min(len(c) for c in res)\n",
    "len([c for c in res if len(c) == m])"
   ]
  },
  {
   "cell_type": "code",
   "execution_count": null,
   "metadata": {},
   "outputs": [],
   "source": []
  }
 ]
}