{
 "metadata": {
  "language_info": {
   "codemirror_mode": {
    "name": "ipython",
    "version": 3
   },
   "file_extension": ".py",
   "mimetype": "text/x-python",
   "name": "python",
   "nbconvert_exporter": "python",
   "pygments_lexer": "ipython3",
   "version": "3.9.0-final"
  },
  "orig_nbformat": 2,
  "kernelspec": {
   "name": "python3",
   "display_name": "Python 3",
   "language": "python"
  }
 },
 "nbformat": 4,
 "nbformat_minor": 2,
 "cells": [
  {
   "cell_type": "code",
   "execution_count": 1,
   "metadata": {},
   "outputs": [],
   "source": [
    "repl_raw = \"\"\"H => HO\n",
    "H => OH\n",
    "O => HH\"\"\"\n",
    "start = \"HOHOHO\"\n",
    "\n",
    "repl_raw, start = open('data/19.txt').read().split('\\n\\n')\n",
    "\n",
    "def parse(repl_raw):\n",
    "    return [(k,v) for k,v in [l.split(' => ') for l in repl_raw.splitlines()]]\n",
    "\n",
    "replacements = parse(repl_raw)"
   ]
  },
  {
   "cell_type": "code",
   "execution_count": 2,
   "metadata": {},
   "outputs": [],
   "source": [
    "import re\n",
    "\n",
    "res = set()\n",
    "\n",
    "for inp,out in replacements:\n",
    "    for m in re.finditer(inp, start):\n",
    "        a,b = m.span()\n",
    "        res.add(start[:a]+out+start[b:])"
   ]
  },
  {
   "cell_type": "code",
   "execution_count": 3,
   "metadata": {},
   "outputs": [
    {
     "output_type": "execute_result",
     "data": {
      "text/plain": [
       "535"
      ]
     },
     "metadata": {},
     "execution_count": 3
    }
   ],
   "source": [
    "len(res)"
   ]
  },
  {
   "source": [
    "# Part 2"
   ],
   "cell_type": "markdown",
   "metadata": {}
  },
  {
   "cell_type": "code",
   "execution_count": 4,
   "metadata": {},
   "outputs": [],
   "source": [
    "repl_raw = \"\"\"e => H\n",
    "e => O\n",
    "H => HO\n",
    "H => OH\n",
    "O => HH\"\"\"\n",
    "\n",
    "start = (\"e\",)\n",
    "target = \"HOHOHO\"\n",
    "\n",
    "repl_raw, target = open('data/19.txt').read().split('\\n\\n')\n",
    "\n",
    "replacements = parse(repl_raw)\n",
    "reductions = {k:v for v,k in replacements}"
   ]
  },
  {
   "cell_type": "code",
   "execution_count": 5,
   "metadata": {},
   "outputs": [
    {
     "output_type": "execute_result",
     "data": {
      "text/plain": [
       "{'ThF': 'Al',\n",
       " 'ThRnFAr': 'Al',\n",
       " 'BCa': 'B',\n",
       " 'TiB': 'B',\n",
       " 'TiRnFAr': 'B',\n",
       " 'CaCa': 'Ca',\n",
       " 'PB': 'Ca',\n",
       " 'PRnFAr': 'Ca',\n",
       " 'SiRnFYFAr': 'Ca',\n",
       " 'SiRnMgAr': 'Ca',\n",
       " 'SiTh': 'Ca',\n",
       " 'CaF': 'F',\n",
       " 'PMg': 'F',\n",
       " 'SiAl': 'F',\n",
       " 'CRnAlAr': 'H',\n",
       " 'CRnFYFYFAr': 'H',\n",
       " 'CRnFYMgAr': 'H',\n",
       " 'CRnMgYFAr': 'H',\n",
       " 'HCa': 'H',\n",
       " 'NRnFYFAr': 'H',\n",
       " 'NRnMgAr': 'H',\n",
       " 'NTh': 'H',\n",
       " 'OB': 'H',\n",
       " 'ORnFAr': 'H',\n",
       " 'BF': 'Mg',\n",
       " 'TiMg': 'Mg',\n",
       " 'CRnFAr': 'N',\n",
       " 'HSi': 'N',\n",
       " 'CRnFYFAr': 'O',\n",
       " 'CRnMgAr': 'O',\n",
       " 'HP': 'O',\n",
       " 'NRnFAr': 'O',\n",
       " 'OTi': 'O',\n",
       " 'CaP': 'P',\n",
       " 'PTi': 'P',\n",
       " 'SiRnFAr': 'P',\n",
       " 'CaSi': 'Si',\n",
       " 'ThCa': 'Th',\n",
       " 'BP': 'Ti',\n",
       " 'TiTi': 'Ti',\n",
       " 'HF': 'e',\n",
       " 'NAl': 'e',\n",
       " 'OMg': 'e'}"
      ]
     },
     "metadata": {},
     "execution_count": 5
    }
   ],
   "source": [
    "reductions"
   ]
  },
  {
   "cell_type": "code",
   "execution_count": 8,
   "metadata": {},
   "outputs": [
    {
     "output_type": "execute_result",
     "data": {
      "text/plain": [
       "(0, False)"
      ]
     },
     "metadata": {},
     "execution_count": 8
    }
   ],
   "source": [
    "from functools import cache\n",
    "\n",
    "def red(mol):\n",
    "    if mol == 'e':\n",
    "        return 1, True\n",
    "\n",
    "    for el in reductions:\n",
    "        for m in re.finditer(el, mol):\n",
    "            a,b = m.span()\n",
    "            c, worked = red(mol[:a]+reductions[el]+mol[b:])\n",
    "            if worked:\n",
    "                return c+1, True\n",
    "\n",
    "    return 0, False\n",
    "\n",
    "red('HOHOHO')"
   ]
  },
  {
   "cell_type": "code",
   "execution_count": 9,
   "metadata": {},
   "outputs": [
    {
     "output_type": "execute_result",
     "data": {
      "text/plain": [
       "212"
      ]
     },
     "metadata": {},
     "execution_count": 9
    }
   ],
   "source": [
    "n, _ = red(target)\n",
    "n - 1"
   ]
  },
  {
   "cell_type": "code",
   "execution_count": null,
   "metadata": {},
   "outputs": [],
   "source": []
  }
 ]
}