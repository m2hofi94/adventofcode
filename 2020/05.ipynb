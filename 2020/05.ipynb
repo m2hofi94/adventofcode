{
 "metadata": {
  "language_info": {
   "codemirror_mode": {
    "name": "ipython",
    "version": 3
   },
   "file_extension": ".py",
   "mimetype": "text/x-python",
   "name": "python",
   "nbconvert_exporter": "python",
   "pygments_lexer": "ipython3",
   "version": "3.9.0-final"
  },
  "orig_nbformat": 2,
  "kernelspec": {
   "name": "python3",
   "display_name": "Python 3"
  }
 },
 "nbformat": 4,
 "nbformat_minor": 2,
 "cells": [
  {
   "cell_type": "code",
   "execution_count": 42,
   "metadata": {},
   "outputs": [
    {
     "output_type": "execute_result",
     "data": {
      "text/plain": [
       "357"
      ]
     },
     "metadata": {},
     "execution_count": 42
    }
   ],
   "source": [
    "inp = \"FBFBBFFRLR\"\n",
    "\n",
    "row = \"\"\n",
    "for l in inp[:7]:\n",
    "    row += \"0\" if l == \"F\" else \"1\"\n",
    "col = \"\"\n",
    "for l in inp[7:]:\n",
    "    col += \"0\" if l == \"L\" else \"1\"\n",
    "\n",
    "row = int(row,2)\n",
    "col = int(col,2)\n",
    "\n",
    "row * 8 + col"
   ]
  },
  {
   "cell_type": "code",
   "execution_count": 44,
   "metadata": {},
   "outputs": [
    {
     "output_type": "execute_result",
     "data": {
      "text/plain": [
       "357"
      ]
     },
     "metadata": {},
     "execution_count": 44
    }
   ],
   "source": [
    "int(replace(inp, {\"F\": \"0\", \"B\": \"1\", \"L\": \"0\", \"R\": \"1\"}),2)"
   ]
  },
  {
   "cell_type": "code",
   "execution_count": 46,
   "metadata": {},
   "outputs": [],
   "source": [
    "def parse_id(seat):\n",
    "    row = int(\"\".join([\"0\" if l == \"F\" else \"1\" for l in seat[:7]]),2)\n",
    "    col = int(\"\".join([\"0\" if l == \"L\" else \"1\" for l in seat[7:]]),2)\n",
    "\n",
    "    return row*8+col"
   ]
  },
  {
   "cell_type": "code",
   "execution_count": 47,
   "metadata": {},
   "outputs": [
    {
     "output_type": "stream",
     "name": "stdout",
     "text": [
      "892\n"
     ]
    }
   ],
   "source": [
    "with open(\"data/05.txt\") as f:\n",
    "    print(max(parse_id(l.strip()) for l in f.readlines()))"
   ]
  },
  {
   "source": [
    "## Part 2"
   ],
   "cell_type": "markdown",
   "metadata": {}
  },
  {
   "cell_type": "code",
   "execution_count": 48,
   "metadata": {},
   "outputs": [],
   "source": [
    "def parse(seat):\n",
    "    row = int(\"\".join([\"0\" if l == \"F\" else \"1\" for l in seat[:7]]),2)\n",
    "    col = int(\"\".join([\"0\" if l == \"L\" else \"1\" for l in seat[7:]]),2)\n",
    "\n",
    "    return row,col"
   ]
  },
  {
   "cell_type": "code",
   "execution_count": 49,
   "metadata": {},
   "outputs": [],
   "source": [
    "with open(\"data/05.txt\") as f:\n",
    "    seats = [parse(l.strip()) for l in f.readlines()]"
   ]
  },
  {
   "cell_type": "code",
   "execution_count": 50,
   "metadata": {},
   "outputs": [],
   "source": [
    "last, first  = max(map(lambda x: x[0], seats)), min(map(lambda x: x[0], seats))"
   ]
  },
  {
   "cell_type": "code",
   "execution_count": 88,
   "metadata": {},
   "outputs": [],
   "source": [
    "def get_id(row, col):\n",
    "    return row*8+col\n"
   ]
  },
  {
   "cell_type": "code",
   "execution_count": 94,
   "metadata": {},
   "outputs": [],
   "source": [
    "ids = set()\n",
    "for row in range(first+1, last):\n",
    "    for col in range(8):\n",
    "        ids.add(get_id(row, col))"
   ]
  },
  {
   "cell_type": "code",
   "execution_count": 95,
   "metadata": {},
   "outputs": [],
   "source": [
    "seat_ids = set(map(lambda seat: get_id(*seat), seats))"
   ]
  },
  {
   "cell_type": "code",
   "execution_count": 96,
   "metadata": {},
   "outputs": [
    {
     "output_type": "execute_result",
     "data": {
      "text/plain": [
       "{625}"
      ]
     },
     "metadata": {},
     "execution_count": 96
    }
   ],
   "source": [
    "ids.difference(seat_ids)"
   ]
  },
  {
   "cell_type": "code",
   "execution_count": 18,
   "metadata": {},
   "outputs": [],
   "source": [
    "seat = 357\n",
    "\n",
    "row, col = seat // 8, seat%8"
   ]
  },
  {
   "cell_type": "code",
   "execution_count": 19,
   "metadata": {},
   "outputs": [
    {
     "output_type": "execute_result",
     "data": {
      "text/plain": [
       "(44, 5)"
      ]
     },
     "metadata": {},
     "execution_count": 19
    }
   ],
   "source": [
    "row, col"
   ]
  },
  {
   "cell_type": "code",
   "execution_count": 22,
   "metadata": {},
   "outputs": [
    {
     "output_type": "execute_result",
     "data": {
      "text/plain": [
       "'FBFBBFFRLR'"
      ]
     },
     "metadata": {},
     "execution_count": 22
    }
   ],
   "source": [
    "\"\".join([\"B\" if d == \"1\" else \"F\" for d in bin(row)[2:].zfill(7)] + [\"R\" if d == \"1\" else \"L\" for d in bin(col)[2:].zfill(3)])"
   ]
  },
  {
   "cell_type": "code",
   "execution_count": 32,
   "metadata": {},
   "outputs": [],
   "source": []
  },
  {
   "cell_type": "code",
   "execution_count": 38,
   "metadata": {},
   "outputs": [],
   "source": [
    "def replace(s, table):\n",
    "    for k, v in table.items():\n",
    "        s = s.replace(k, v)\n",
    "    return s"
   ]
  },
  {
   "cell_type": "code",
   "execution_count": 41,
   "metadata": {},
   "outputs": [
    {
     "output_type": "execute_result",
     "data": {
      "text/plain": [
       "'FBFBBFFRLR'"
      ]
     },
     "metadata": {},
     "execution_count": 41
    }
   ],
   "source": [
    "binary = f\"{seat:0>10b}\"\n",
    "row = binary[:7]\n",
    "col = binary[7:]\n",
    "\n",
    "replace(row, {\"1\": \"B\", \"0\": \"F\"}) + replace(col, {\"1\": \"R\", \"0\": \"L\"})"
   ]
  },
  {
   "source": [
    "# Cool short solution"
   ],
   "cell_type": "markdown",
   "metadata": {}
  },
  {
   "cell_type": "code",
   "execution_count": 7,
   "metadata": {},
   "outputs": [
    {
     "output_type": "execute_result",
     "data": {
      "text/plain": [
       "(892, 625)"
      ]
     },
     "metadata": {},
     "execution_count": 7
    }
   ],
   "source": [
    "from functools import reduce\n",
    "seats = sorted(int(seat.translate(str.maketrans('FBLR','0101')), 2) for seat in open(\"data/05.txt\"))\n",
    "\n",
    "seats[-1], reduce(lambda a,b: b if a+1==b else a, seats, seats[0]-1) + 1"
   ]
  },
  {
   "cell_type": "code",
   "execution_count": 96,
   "metadata": {},
   "outputs": [],
   "source": []
  },
  {
   "cell_type": "code",
   "execution_count": 97,
   "metadata": {},
   "outputs": [
    {
     "output_type": "execute_result",
     "data": {
      "text/plain": [
       "625"
      ]
     },
     "metadata": {},
     "execution_count": 97
    }
   ],
   "source": []
  },
  {
   "cell_type": "code",
   "execution_count": null,
   "metadata": {},
   "outputs": [],
   "source": []
  }
 ]
}