{
 "metadata": {
  "language_info": {
   "codemirror_mode": {
    "name": "ipython",
    "version": 3
   },
   "file_extension": ".py",
   "mimetype": "text/x-python",
   "name": "python",
   "nbconvert_exporter": "python",
   "pygments_lexer": "ipython3",
   "version": "3.9.0-final"
  },
  "orig_nbformat": 2,
  "kernelspec": {
   "name": "python3",
   "display_name": "Python 3",
   "language": "python"
  }
 },
 "nbformat": 4,
 "nbformat_minor": 2,
 "cells": [
  {
   "cell_type": "code",
   "execution_count": 4,
   "metadata": {},
   "outputs": [],
   "source": [
    "jolts = sorted(int(l) for l in \"\"\"16\n",
    "10\n",
    "15\n",
    "5\n",
    "1\n",
    "11\n",
    "7\n",
    "19\n",
    "6\n",
    "12\n",
    "4\"\"\".splitlines())"
   ]
  },
  {
   "cell_type": "code",
   "execution_count": 68,
   "metadata": {},
   "outputs": [],
   "source": [
    "jolts = sorted(int(l) for l in open(\"data/10.txt\"))"
   ]
  },
  {
   "cell_type": "code",
   "execution_count": 1,
   "metadata": {},
   "outputs": [],
   "source": [
    "jolts = sorted(int(l) for l in \"\"\"28\n",
    "33\n",
    "18\n",
    "42\n",
    "31\n",
    "14\n",
    "46\n",
    "20\n",
    "48\n",
    "47\n",
    "24\n",
    "23\n",
    "49\n",
    "45\n",
    "19\n",
    "38\n",
    "39\n",
    "11\n",
    "1\n",
    "32\n",
    "25\n",
    "35\n",
    "8\n",
    "17\n",
    "7\n",
    "9\n",
    "4\n",
    "2\n",
    "34\n",
    "10\n",
    "3\"\"\".splitlines())"
   ]
  },
  {
   "cell_type": "code",
   "execution_count": 2,
   "metadata": {},
   "outputs": [],
   "source": [
    "jolts = [0] + jolts + [jolts[-1]+3]"
   ]
  },
  {
   "cell_type": "code",
   "execution_count": 26,
   "metadata": {},
   "outputs": [],
   "source": [
    "import numpy as np"
   ]
  },
  {
   "cell_type": "code",
   "execution_count": 27,
   "metadata": {},
   "outputs": [
    {
     "output_type": "execute_result",
     "data": {
      "text/plain": [
       "220"
      ]
     },
     "metadata": {},
     "execution_count": 27
    }
   ],
   "source": [
    "_, c = np.unique(np.diff(jolts), return_counts=True)\n",
    "c[0]*c[1]"
   ]
  },
  {
   "cell_type": "code",
   "execution_count": 28,
   "metadata": {},
   "outputs": [],
   "source": [
    "gaps = list(np.diff(jolts))"
   ]
  },
  {
   "cell_type": "code",
   "execution_count": 74,
   "metadata": {},
   "outputs": [],
   "source": [
    "parts = []\n",
    "while len(gaps)>0:\n",
    "    i = gaps.index(3)\n",
    "    parts.append(jolts[:i+1])\n",
    "    gaps = gaps[i+1:]\n",
    "    jolts = jolts[i+1:]"
   ]
  },
  {
   "cell_type": "code",
   "execution_count": 75,
   "metadata": {},
   "outputs": [
    {
     "output_type": "execute_result",
     "data": {
      "text/plain": [
       "[3,\n",
       " 5,\n",
       " 4,\n",
       " 1,\n",
       " 3,\n",
       " 5,\n",
       " 4,\n",
       " 1,\n",
       " 4,\n",
       " 1,\n",
       " 1,\n",
       " 4,\n",
       " 5,\n",
       " 3,\n",
       " 1,\n",
       " 2,\n",
       " 5,\n",
       " 1,\n",
       " 4,\n",
       " 1,\n",
       " 4,\n",
       " 1,\n",
       " 4,\n",
       " 5,\n",
       " 1,\n",
       " 1,\n",
       " 1,\n",
       " 5,\n",
       " 5,\n",
       " 5,\n",
       " 5,\n",
       " 2,\n",
       " 5]"
      ]
     },
     "metadata": {},
     "execution_count": 75
    }
   ],
   "source": [
    "[len(p) for p in parts]"
   ]
  },
  {
   "cell_type": "code",
   "execution_count": 76,
   "metadata": {},
   "outputs": [
    {
     "output_type": "execute_result",
     "data": {
      "text/plain": [
       "[[0, 1, 2],\n",
       " [5, 6, 7, 8, 9],\n",
       " [12, 13, 14, 15],\n",
       " [18],\n",
       " [21, 22, 23],\n",
       " [26, 27, 28, 29, 30],\n",
       " [33, 34, 35, 36],\n",
       " [39],\n",
       " [42, 43, 44, 45],\n",
       " [48],\n",
       " [51],\n",
       " [54, 55, 56, 57],\n",
       " [60, 61, 62, 63, 64],\n",
       " [67, 68, 69],\n",
       " [72],\n",
       " [75, 76],\n",
       " [79, 80, 81, 82, 83],\n",
       " [86],\n",
       " [89, 90, 91, 92],\n",
       " [95],\n",
       " [98, 99, 100, 101],\n",
       " [104],\n",
       " [107, 108, 109, 110],\n",
       " [113, 114, 115, 116, 117],\n",
       " [120],\n",
       " [123],\n",
       " [126],\n",
       " [129, 130, 131, 132, 133],\n",
       " [136, 137, 138, 139, 140],\n",
       " [143, 144, 145, 146, 147],\n",
       " [150, 151, 152, 153, 154],\n",
       " [157, 158],\n",
       " [161, 162, 163, 164, 165]]"
      ]
     },
     "metadata": {},
     "execution_count": 76
    }
   ],
   "source": [
    "parts"
   ]
  },
  {
   "source": [
    "lookup = {\n",
    "    1: 1,\n",
    "    2: 1,\n",
    "    3: 2,\n",
    "    4: 4,\n",
    "    5: 7,\n",
    "}"
   ],
   "cell_type": "code",
   "metadata": {},
   "execution_count": 15,
   "outputs": []
  },
  {
   "cell_type": "code",
   "execution_count": 78,
   "metadata": {},
   "outputs": [],
   "source": [
    "import math"
   ]
  },
  {
   "cell_type": "code",
   "execution_count": 79,
   "metadata": {},
   "outputs": [
    {
     "output_type": "execute_result",
     "data": {
      "text/plain": [
       "37024595836928"
      ]
     },
     "metadata": {},
     "execution_count": 79
    }
   ],
   "source": [
    "math.prod([lookup[len(p)] for p in parts])"
   ]
  },
  {
   "cell_type": "code",
   "execution_count": 13,
   "metadata": {},
   "outputs": [],
   "source": [
    "import math\n",
    "import numpy as np\n",
    "#def part_2():\n",
    "jolts = sorted(int(l) for l in open(\"data/10.txt\"))\n",
    "jolts = [0] + jolts + [jolts[-1]+3]\n",
    "gaps = list(np.diff(jolts))\n",
    "parts = []\n",
    "while len(gaps)>0:\n",
    "    i = gaps.index(3)\n",
    "    parts.append(jolts[:i+1])\n",
    "    gaps = gaps[i+1:]\n",
    "    jolts = jolts[i+1:]\n",
    "#return math.prod([lookup[len(p)] for p in parts])"
   ]
  },
  {
   "cell_type": "code",
   "execution_count": 36,
   "metadata": {},
   "outputs": [
    {
     "output_type": "execute_result",
     "data": {
      "text/plain": [
       "[[0, 1, 2, 3, 4],\n",
       " [7, 8, 9, 10, 11],\n",
       " [14],\n",
       " [17, 18, 19, 20],\n",
       " [23, 24, 25],\n",
       " [28],\n",
       " [31, 32, 33, 34, 35],\n",
       " [38, 39],\n",
       " [42],\n",
       " [45, 46, 47, 48, 49],\n",
       " [52]]"
      ]
     },
     "metadata": {},
     "execution_count": 36
    }
   ],
   "source": [
    "last = jolts[0]\n",
    "parts = [[last]]\n",
    "for i in range(1, len(jolts)):\n",
    "    if jolts[i]-3 == last:\n",
    "        parts.append([jolts[i]])\n",
    "    else:\n",
    "        parts[-1].append(jolts[i])\n",
    "    last = jolts[i]\n",
    "parts"
   ]
  },
  {
   "cell_type": "code",
   "execution_count": 5,
   "metadata": {},
   "outputs": [
    {
     "output_type": "execute_result",
     "data": {
      "text/plain": [
       "[0,\n",
       " 1,\n",
       " 2,\n",
       " 3,\n",
       " 4,\n",
       " 7,\n",
       " 8,\n",
       " 9,\n",
       " 10,\n",
       " 11,\n",
       " 14,\n",
       " 17,\n",
       " 18,\n",
       " 19,\n",
       " 20,\n",
       " 23,\n",
       " 24,\n",
       " 25,\n",
       " 28,\n",
       " 31,\n",
       " 32,\n",
       " 33,\n",
       " 34,\n",
       " 35,\n",
       " 38,\n",
       " 39,\n",
       " 42,\n",
       " 45,\n",
       " 46,\n",
       " 47,\n",
       " 48,\n",
       " 49,\n",
       " 52]"
      ]
     },
     "metadata": {},
     "execution_count": 5
    }
   ],
   "source": [
    "jolts"
   ]
  },
  {
   "cell_type": "code",
   "execution_count": 6,
   "metadata": {},
   "outputs": [
    {
     "output_type": "execute_result",
     "data": {
      "text/plain": [
       "[array([0, 1, 2, 3, 4]),\n",
       " array([ 7,  8,  9, 10, 11]),\n",
       " array([14]),\n",
       " array([17, 18, 19, 20]),\n",
       " array([23, 24, 25]),\n",
       " array([28]),\n",
       " array([31, 32, 33, 34, 35]),\n",
       " array([38, 39]),\n",
       " array([42]),\n",
       " array([45, 46, 47, 48, 49]),\n",
       " array([52])]"
      ]
     },
     "metadata": {},
     "execution_count": 6
    }
   ],
   "source": [
    "import numpy as np\n",
    "np.split(jolts, np.where(np.diff([-1] + jolts) == 3)[0])\n"
   ]
  },
  {
   "cell_type": "code",
   "execution_count": null,
   "metadata": {},
   "outputs": [],
   "source": []
  }
 ]
}