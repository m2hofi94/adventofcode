{
 "metadata": {
  "language_info": {
   "codemirror_mode": {
    "name": "ipython",
    "version": 3
   },
   "file_extension": ".py",
   "mimetype": "text/x-python",
   "name": "python",
   "nbconvert_exporter": "python",
   "pygments_lexer": "ipython3",
   "version": "3.9.0-final"
  },
  "orig_nbformat": 2,
  "kernelspec": {
   "name": "python3",
   "display_name": "Python 3",
   "language": "python"
  }
 },
 "nbformat": 4,
 "nbformat_minor": 2,
 "cells": [
  {
   "cell_type": "code",
   "execution_count": 4,
   "metadata": {},
   "outputs": [],
   "source": [
    "from collections import deque\n",
    "dirs = {\n",
    "    'E': (1,0),\n",
    "    'S': (0,-1),\n",
    "    'W': (-1,0),\n",
    "    'N': (0,1)\n",
    "}\n",
    "rots = deque(dirs.values())"
   ]
  },
  {
   "cell_type": "code",
   "execution_count": 5,
   "metadata": {},
   "outputs": [
    {
     "output_type": "stream",
     "name": "stdout",
     "text": [
      "deque([(1, 0), (0, -1), (-1, 0), (0, 1)])\n"
     ]
    },
    {
     "output_type": "execute_result",
     "data": {
      "text/plain": [
       "deque([(0, -1), (-1, 0), (0, 1), (1, 0)])"
      ]
     },
     "metadata": {},
     "execution_count": 5
    }
   ],
   "source": [
    "def rotate(a: str, c: int, rots: deque):\n",
    "    if a == \"L\":\n",
    "        r = 1\n",
    "    elif a == \"R\":\n",
    "        r = -1\n",
    "    else:\n",
    "        return\n",
    "    c = c//90\n",
    "    rots.rotate(r*c)\n",
    "print(rots)\n",
    "rotate(\"R\", 90, rots)\n",
    "rots"
   ]
  },
  {
   "cell_type": "code",
   "execution_count": 6,
   "metadata": {},
   "outputs": [
    {
     "output_type": "execute_result",
     "data": {
      "text/plain": [
       "(0, 10)"
      ]
     },
     "metadata": {},
     "execution_count": 6
    }
   ],
   "source": [
    "def move(action: str, dirs: dict, rots: deque):\n",
    "    a = action[0]\n",
    "    c = int(action[1:])\n",
    "    rotate(a, c, rots)\n",
    "    if a in dirs:\n",
    "        return (dirs[a][0]*c, dirs[a][1]*c)\n",
    "    elif a == \"F\":\n",
    "        return (rots[0][0]*c, rots[0][1]*c)\n",
    "    return (0,0)\n",
    "\n",
    "move(\"N10\", dirs, rots)"
   ]
  },
  {
   "cell_type": "code",
   "execution_count": 11,
   "metadata": {},
   "outputs": [],
   "source": [
    "actions = \"\"\"F10\n",
    "N3\n",
    "F7\n",
    "R90\n",
    "F11\"\"\".splitlines()"
   ]
  },
  {
   "cell_type": "code",
   "execution_count": 37,
   "metadata": {},
   "outputs": [],
   "source": [
    "actions = open(\"data/12.txt\").read().splitlines()"
   ]
  },
  {
   "cell_type": "code",
   "execution_count": 9,
   "metadata": {},
   "outputs": [],
   "source": [
    "\n",
    "\n",
    "rots = deque(dirs.values())\n",
    "\n",
    "p_x, p_y = 0,0\n",
    "for a in actions:\n",
    "    d_x, d_y = move(a, dirs, rots)\n",
    "    p_x += d_x\n",
    "    p_y += d_y\n",
    "    #print(p_x, p_y)"
   ]
  },
  {
   "cell_type": "code",
   "execution_count": 10,
   "metadata": {},
   "outputs": [
    {
     "output_type": "execute_result",
     "data": {
      "text/plain": [
       "364"
      ]
     },
     "metadata": {},
     "execution_count": 10
    }
   ],
   "source": [
    "sum(map(abs, [p_x, p_y]))"
   ]
  },
  {
   "cell_type": "code",
   "execution_count": 12,
   "metadata": {},
   "outputs": [],
   "source": [
    "def move_wp(wp, a: str, c: int, dirs: dict):\n",
    "    if a in dirs:\n",
    "        return (wp[0] + dirs[a][0]*c, wp[1] + dirs[a][1]*c)\n",
    "    return wp\n",
    "    "
   ]
  },
  {
   "cell_type": "code",
   "execution_count": 38,
   "metadata": {},
   "outputs": [
    {
     "output_type": "execute_result",
     "data": {
      "text/plain": [
       "39518"
      ]
     },
     "metadata": {},
     "execution_count": 38
    }
   ],
   "source": [
    "wp = (10,1)\n",
    "ship = (0,0)\n",
    "rots = deque(dirs.values())\n",
    "\n",
    "for action in actions:\n",
    "    a = action[0]\n",
    "    c = int(action[1:])\n",
    "    #print(a,c)\n",
    "    wp = move_wp(wp, a, c, dirs)\n",
    "    if a in [\"R\", \"L\"]:\n",
    "        wp = rotate_wp(wp, (0,0), a, c, rots)\n",
    "    if a == \"F\":\n",
    "        ship = forward(ship, wp, c)\n",
    "    #print(wp,ship)\n",
    "\n",
    "sum(map(abs, ship))\n"
   ]
  },
  {
   "cell_type": "code",
   "execution_count": 29,
   "metadata": {},
   "outputs": [
    {
     "output_type": "execute_result",
     "data": {
      "text/plain": [
       "(-134, -5972)"
      ]
     },
     "metadata": {},
     "execution_count": 29
    }
   ],
   "source": [
    "ship"
   ]
  },
  {
   "cell_type": "code",
   "execution_count": 26,
   "metadata": {},
   "outputs": [
    {
     "output_type": "execute_result",
     "data": {
      "text/plain": [
       "(0, 10)"
      ]
     },
     "metadata": {},
     "execution_count": 26
    }
   ],
   "source": [
    "def rotate_wp(wp, ship, a, c, rots):\n",
    "    if c == 180:\n",
    "        return (2*ship[0]-wp[0], 2*ship[1]-wp[1])\n",
    "\n",
    "    if (a==\"L\" and c==90) or (a==\"R\" and c==270):\n",
    "        return (ship[0]+(ship[1]-wp[1]), ship[1]-(ship[0]-wp[0]))\n",
    "\n",
    "    if (a==\"R\" and c==90) or (a==\"L\" and c==270):\n",
    "        return (ship[0]-(ship[1]-wp[1]), ship[1]+(ship[0]-wp[0]))\n",
    "\n",
    "\n",
    "rotate_wp((0,0), (5,5), \"L\", 270, rots)"
   ]
  },
  {
   "cell_type": "code",
   "execution_count": 32,
   "metadata": {},
   "outputs": [],
   "source": [
    "def forward(ship, wp, c):\n",
    "    return (ship[0] + c*wp[0], ship[1]+c*wp[1])\n"
   ]
  },
  {
   "cell_type": "code",
   "execution_count": null,
   "metadata": {},
   "outputs": [],
   "source": []
  }
 ]
}