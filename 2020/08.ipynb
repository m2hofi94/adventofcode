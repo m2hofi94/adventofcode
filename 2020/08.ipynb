{
 "metadata": {
  "language_info": {
   "codemirror_mode": {
    "name": "ipython",
    "version": 3
   },
   "file_extension": ".py",
   "mimetype": "text/x-python",
   "name": "python",
   "nbconvert_exporter": "python",
   "pygments_lexer": "ipython3",
   "version": "3.9.0-final"
  },
  "orig_nbformat": 2,
  "kernelspec": {
   "name": "python3",
   "display_name": "Python 3"
  }
 },
 "nbformat": 4,
 "nbformat_minor": 2,
 "cells": [
  {
   "cell_type": "code",
   "execution_count": 30,
   "metadata": {},
   "outputs": [],
   "source": [
    "prog = \"\"\"nop +0\n",
    "acc +1\n",
    "jmp +4\n",
    "acc +3\n",
    "jmp -3\n",
    "acc -99\n",
    "acc +1\n",
    "jmp -4\n",
    "acc +6\"\"\".splitlines()\n"
   ]
  },
  {
   "cell_type": "code",
   "execution_count": 34,
   "metadata": {},
   "outputs": [],
   "source": [
    "prog = open(\"data/08.txt\").readlines()"
   ]
  },
  {
   "cell_type": "code",
   "execution_count": 35,
   "metadata": {},
   "outputs": [
    {
     "output_type": "execute_result",
     "data": {
      "text/plain": [
       "(1675, 352)"
      ]
     },
     "metadata": {},
     "execution_count": 35
    }
   ],
   "source": [
    "\n",
    "acc, p = 0, 0\n",
    "visited = set()\n",
    "\n",
    "while True:\n",
    "    inst, num = prog[p].split(' ')\n",
    "    if p in visited:\n",
    "        break\n",
    "    visited.add(p)\n",
    "\n",
    "    if inst == \"jmp\":\n",
    "        p += int(num)\n",
    "        continue\n",
    "    if inst == \"acc\":\n",
    "        #print(p)\n",
    "        acc += int(num)\n",
    "    p += 1\n",
    "\n",
    "acc, p"
   ]
  },
  {
   "cell_type": "code",
   "execution_count": 36,
   "metadata": {},
   "outputs": [],
   "source": [
    "def terminates(prog):\n",
    "    acc, p = 0, 0\n",
    "    visited = set()\n",
    "    loop = False\n",
    "    while True:\n",
    "        if p > len(prog):\n",
    "            return acc, \"invalid\"\n",
    "        if p == len(prog):\n",
    "            return acc, \"valid\"\n",
    "        if p in visited:\n",
    "            return acc, \"loop\"\n",
    "        \n",
    "        inst, num = prog[p].split(' ')\n",
    "        visited.add(p)\n",
    "\n",
    "        if inst == \"jmp\":\n",
    "            p += int(num)\n",
    "            continue\n",
    "        if inst == \"acc\":\n",
    "            #print(p)\n",
    "            acc += int(num)\n",
    "        p += 1\n",
    "    return acc, None"
   ]
  },
  {
   "cell_type": "code",
   "execution_count": 45,
   "metadata": {},
   "outputs": [
    {
     "output_type": "execute_result",
     "data": {
      "text/plain": [
       "(1532, 195, 'jmp -147\\n')"
      ]
     },
     "metadata": {},
     "execution_count": 45
    }
   ],
   "source": [
    "def repair(prog):\n",
    "    for i in range(len(prog)):\n",
    "        inst, num = prog[i].split(' ')\n",
    "        inst = (\"nop\" if inst == \"jmp\" else \n",
    "                \"jmp\" if inst == \"nop\" else inst)\n",
    "        \n",
    "        test = prog[:]\n",
    "        test[i] = inst + \" \" + num\n",
    "        acc, res = terminates(test)\n",
    "        if res == \"valid\":\n",
    "            return acc, i, prog[i]\n",
    "\n",
    "repair(prog)"
   ]
  },
  {
   "cell_type": "code",
   "execution_count": 44,
   "metadata": {},
   "outputs": [
    {
     "output_type": "execute_result",
     "data": {
      "text/plain": [
       "'nop'"
      ]
     },
     "metadata": {},
     "execution_count": 44
    }
   ],
   "source": [
    "inst = \"jmp\"\n",
    "inst"
   ]
  },
  {
   "cell_type": "code",
   "execution_count": null,
   "metadata": {},
   "outputs": [],
   "source": []
  }
 ]
}