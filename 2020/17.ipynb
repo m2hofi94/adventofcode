{
 "metadata": {
  "language_info": {
   "codemirror_mode": {
    "name": "ipython",
    "version": 3
   },
   "file_extension": ".py",
   "mimetype": "text/x-python",
   "name": "python",
   "nbconvert_exporter": "python",
   "pygments_lexer": "ipython3",
   "version": "3.9.0-final"
  },
  "orig_nbformat": 2,
  "kernelspec": {
   "name": "python3",
   "display_name": "Python 3",
   "language": "python"
  }
 },
 "nbformat": 4,
 "nbformat_minor": 2,
 "cells": [
  {
   "cell_type": "code",
   "execution_count": 1,
   "metadata": {},
   "outputs": [],
   "source": [
    "from collections import defaultdict\n",
    "from copy import deepcopy\n",
    "from itertools import product\n"
   ]
  },
  {
   "cell_type": "code",
   "execution_count": 2,
   "metadata": {},
   "outputs": [],
   "source": [
    "def neighbors(p):\n",
    "    return product(*[range(d-1, d+2) for d in p])\n"
   ]
  },
  {
   "cell_type": "code",
   "execution_count": 4,
   "metadata": {},
   "outputs": [],
   "source": [
    "def get_active(raw,d):\n",
    "    active = set()\n",
    "    for y,l in enumerate(state_raw.splitlines()):\n",
    "        for x,s in enumerate(l):\n",
    "            if s == '#':\n",
    "                active.add((x,y,*([0]*(d-2))))\n",
    "    return active"
   ]
  },
  {
   "cell_type": "code",
   "execution_count": 5,
   "metadata": {},
   "outputs": [],
   "source": [
    "def get_points_to_check(active):\n",
    "    state = defaultdict(lambda: False)\n",
    "    for p in active:\n",
    "        for n in neighbors(p):\n",
    "            state[n] = False\n",
    "    for p in active:\n",
    "        state[p] = True\n",
    "    return state"
   ]
  },
  {
   "cell_type": "code",
   "execution_count": 6,
   "metadata": {},
   "outputs": [],
   "source": [
    "def step(active):\n",
    "    state = get_points_to_check(active)\n",
    "    new_state = {}\n",
    "    for p in list(state.keys()): # since we will change the keys by looking up\n",
    "        s = sum(int(state[n]) for n in neighbors(p))\n",
    "        s -= state[p]\n",
    "        if state[p] and not(2<=s<=3):\n",
    "            new_state[p] = False\n",
    "        elif not state[p] and s == 3:\n",
    "            new_state[p] = True\n",
    "        else:\n",
    "            new_state[p] = state[p]\n",
    "\n",
    "    return [p for p in new_state if new_state[p] == True]\n"
   ]
  },
  {
   "cell_type": "code",
   "execution_count": 7,
   "metadata": {},
   "outputs": [],
   "source": [
    "def get_num_active_after(raw, d):\n",
    "    active = get_active(raw, d)\n",
    "    for _ in range(6):\n",
    "        active = step(active)\n",
    "    return len(active)"
   ]
  },
  {
   "cell_type": "code",
   "execution_count": 13,
   "metadata": {},
   "outputs": [
    {
     "output_type": "stream",
     "name": "stdout",
     "text": [
      "112\n",
      "848\n"
     ]
    }
   ],
   "source": [
    "state_raw = \"\"\".#.\n",
    "..#\n",
    "###\"\"\"\n",
    "print(get_num_active_after(state_raw, 3))\n",
    "print(get_num_active_after(state_raw, 4))"
   ]
  },
  {
   "cell_type": "code",
   "execution_count": 16,
   "metadata": {},
   "outputs": [
    {
     "output_type": "stream",
     "name": "stdout",
     "text": [
      "271\n",
      "2064\n",
      "CPU times: user 2.54 s, sys: 0 ns, total: 2.54 s\n",
      "Wall time: 2.54 s\n"
     ]
    }
   ],
   "source": [
    "%%time\n",
    "state_raw = open('data/17.txt').read()\n",
    "print(get_num_active_after(state_raw, 3))\n",
    "print(get_num_active_after(state_raw, 4))"
   ]
  },
  {
   "cell_type": "code",
   "execution_count": 15,
   "metadata": {},
   "outputs": [
    {
     "output_type": "stream",
     "name": "stdout",
     "text": [
      "13548\nCPU times: user 1min 43s, sys: 580 ms, total: 1min 44s\nWall time: 1min 44s\n"
     ]
    }
   ],
   "source": [
    "%%time\n",
    "print(get_num_active_after(state_raw, 5))"
   ]
  },
  {
   "cell_type": "code",
   "execution_count": null,
   "metadata": {},
   "outputs": [],
   "source": []
  }
 ]
}