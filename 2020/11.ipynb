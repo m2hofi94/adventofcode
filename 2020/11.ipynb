{
 "metadata": {
  "language_info": {
   "codemirror_mode": {
    "name": "ipython",
    "version": 3
   },
   "file_extension": ".py",
   "mimetype": "text/x-python",
   "name": "python",
   "nbconvert_exporter": "python",
   "pygments_lexer": "ipython3",
   "version": "3.9.0-final"
  },
  "orig_nbformat": 2,
  "kernelspec": {
   "name": "python3",
   "display_name": "Python 3",
   "language": "python"
  }
 },
 "nbformat": 4,
 "nbformat_minor": 2,
 "cells": [
  {
   "cell_type": "code",
   "execution_count": 54,
   "metadata": {},
   "outputs": [],
   "source": [
    "def parse(raw):\n",
    "    grid = [list(l) for l in raw.splitlines()]\n",
    "    pad = [['x']*len(grid[0])]\n",
    "    pad.extend(grid)\n",
    "    pad.append(['x']*len(grid[0]))\n",
    "    grid = pad\n",
    "    grid = [['x'] + l + ['x']for l in grid]\n",
    "    return grid"
   ]
  },
  {
   "cell_type": "code",
   "execution_count": 98,
   "metadata": {},
   "outputs": [],
   "source": [
    "example = \"\"\"L.LL.LL.LL\n",
    "LLLLLLL.LL\n",
    "L.L.L..L..\n",
    "LLLL.LL.LL\n",
    "L.LL.LL.LL\n",
    "L.LLLLL.LL\n",
    "..L.L.....\n",
    "LLLLLLLLLL\n",
    "L.LLLLLL.L\n",
    "L.LLLLL.LL\"\"\"\n",
    "grid = parse(raw)"
   ]
  },
  {
   "cell_type": "code",
   "execution_count": 77,
   "metadata": {},
   "outputs": [],
   "source": [
    "grid = parse(open('data/11.txt').read())"
   ]
  },
  {
   "cell_type": "code",
   "execution_count": 78,
   "metadata": {},
   "outputs": [
    {
     "output_type": "execute_result",
     "data": {
      "text/plain": [
       "'#'"
      ]
     },
     "metadata": {},
     "execution_count": 78
    }
   ],
   "source": [
    "def state_1(pos_i,pos_j, grid):\n",
    "    occ = 0\n",
    "    for i in range(pos_i-1, pos_i+2):\n",
    "        for j in range(pos_j-1, pos_j+2):\n",
    "            if grid[i][j] == '#':\n",
    "                occ+=1\n",
    "    if grid[pos_i][pos_j] == 'L' and occ==0:\n",
    "        return '#'\n",
    "    if grid[pos_i][pos_j] == '#' and occ > 4: # since we count ourself...\n",
    "        return 'L'\n",
    "    return grid[pos_i][pos_j]\n",
    "\n",
    "\n",
    "state_1(1,1, grid)"
   ]
  },
  {
   "cell_type": "code",
   "execution_count": 79,
   "metadata": {},
   "outputs": [],
   "source": [
    "from copy import deepcopy\n",
    "def run(grid, state_func):\n",
    "    new_grid = deepcopy(grid)\n",
    "    for i in range(1, len(grid)-1):\n",
    "        for j in range(1, len(grid[i])-1):\n",
    "            if grid[i][j] != '.':\n",
    "                new_grid[i][j] = state_func(i,j,grid)\n",
    "    return new_grid\n",
    "\n",
    "def count_occ(grid):\n",
    "    return \"\".join([\"\".join(l) for l in grid]).count('#')"
   ]
  },
  {
   "cell_type": "code",
   "execution_count": 80,
   "metadata": {},
   "outputs": [],
   "source": [
    "def find_stable(grid, state_func, stab = 10):\n",
    "    last, c = 0,0\n",
    "    while c < stab:\n",
    "        occ = count_occ(grid)\n",
    "        if occ == last:\n",
    "            c+=1\n",
    "        else:\n",
    "            last = occ\n",
    "            c = 0\n",
    "        grid = run(grid, state_func)\n",
    "    return last, c, grid\n",
    "\n",
    "#last, c, grid = find_stable(grid, state_1)\n",
    "#last\n"
   ]
  },
  {
   "source": [
    "## 2"
   ],
   "cell_type": "markdown",
   "metadata": {}
  },
  {
   "cell_type": "code",
   "execution_count": 154,
   "metadata": {},
   "outputs": [],
   "source": [
    "grid = parse(open('data/11.txt').read())"
   ]
  },
  {
   "cell_type": "code",
   "execution_count": 144,
   "metadata": {},
   "outputs": [],
   "source": [
    "grid = parse(raw)"
   ]
  },
  {
   "cell_type": "code",
   "execution_count": 145,
   "metadata": {},
   "outputs": [],
   "source": [
    "dirs = set(permutations([-1,0,1,-1,1], 2))\n",
    "def state_2(pos_i, pos_j, grid):\n",
    "    occ = 0\n",
    "    #print(grid[pos_i][pos_j])\n",
    "    for d_i,d_j in dirs:\n",
    "        c = 0\n",
    "        #print(\"dir\", d_i, d_j)\n",
    "        while True:\n",
    "            c += 1\n",
    "            try:\n",
    "                i = pos_i + c*d_i\n",
    "                j = pos_j + c*d_j\n",
    "                if i < 0 or j < 0:\n",
    "                    #print(\"below\")\n",
    "                    raise IndexError\n",
    "                if grid[i][j] == '#':\n",
    "                    #print(\"found\", i,j,occ)\n",
    "                    occ += 1\n",
    "                    break\n",
    "                elif grid[i][j] == 'L':\n",
    "                    #print(\"empty\", i,j,occ)\n",
    "                    break\n",
    "            except IndexError:\n",
    "                break\n",
    "    #print(occ)\n",
    "    if grid[pos_i][pos_j] == 'L' and occ==0:\n",
    "        return '#'\n",
    "    if grid[pos_i][pos_j] == '#' and occ >= 5:\n",
    "        return 'L'\n",
    "    return grid[pos_i][pos_j]\n",
    "\n"
   ]
  },
  {
   "cell_type": "code",
   "execution_count": 146,
   "metadata": {},
   "outputs": [
    {
     "output_type": "execute_result",
     "data": {
      "text/plain": [
       "'L'"
      ]
     },
     "metadata": {},
     "execution_count": 146
    }
   ],
   "source": [
    "state_2(5,4,parse(\"\"\".......#.\n",
    "...#.....\n",
    ".#.......\n",
    ".........\n",
    "..#L....#\n",
    "....#....\n",
    ".........\n",
    "#........\n",
    "...#.....\"\"\"))"
   ]
  },
  {
   "cell_type": "code",
   "execution_count": 147,
   "metadata": {},
   "outputs": [
    {
     "output_type": "execute_result",
     "data": {
      "text/plain": [
       "'#'"
      ]
     },
     "metadata": {},
     "execution_count": 147
    }
   ],
   "source": [
    "state_2(2,2,parse(\"\"\".............\n",
    ".L.L.#.#.#.#.\n",
    ".............\"\"\"))"
   ]
  },
  {
   "cell_type": "code",
   "execution_count": 148,
   "metadata": {},
   "outputs": [
    {
     "output_type": "execute_result",
     "data": {
      "text/plain": [
       "'#'"
      ]
     },
     "metadata": {},
     "execution_count": 148
    }
   ],
   "source": [
    "state_2(4,4,parse(\"\"\".##.##.\n",
    "#.#.#.#\n",
    "##...##\n",
    "...L...\n",
    "##...##\n",
    "#.#.#.#\n",
    ".##.##.\"\"\"))"
   ]
  },
  {
   "cell_type": "code",
   "execution_count": 149,
   "metadata": {},
   "outputs": [
    {
     "output_type": "execute_result",
     "data": {
      "text/plain": [
       "[['x', 'x', 'x', 'x', 'x', 'x', 'x', 'x', 'x', 'x', 'x', 'x'],\n",
       " ['x', '#', '.', 'L', 'L', '.', 'L', 'L', '.', 'L', '#', 'x'],\n",
       " ['x', '#', 'L', 'L', 'L', 'L', 'L', 'L', '.', 'L', 'L', 'x'],\n",
       " ['x', 'L', '.', 'L', '.', 'L', '.', '.', 'L', '.', '.', 'x'],\n",
       " ['x', 'L', 'L', 'L', 'L', '.', 'L', 'L', '.', 'L', 'L', 'x'],\n",
       " ['x', 'L', '.', 'L', 'L', '.', 'L', 'L', '.', 'L', 'L', 'x'],\n",
       " ['x', 'L', '.', 'L', 'L', 'L', 'L', 'L', '.', 'L', 'L', 'x'],\n",
       " ['x', '.', '.', 'L', '.', 'L', '.', '.', '.', '.', '.', 'x'],\n",
       " ['x', 'L', 'L', 'L', 'L', 'L', 'L', 'L', 'L', 'L', '#', 'x'],\n",
       " ['x', '#', '.', 'L', 'L', 'L', 'L', 'L', 'L', '.', 'L', 'x'],\n",
       " ['x', '#', '.', 'L', 'L', 'L', 'L', 'L', '.', 'L', '#', 'x'],\n",
       " ['x', 'x', 'x', 'x', 'x', 'x', 'x', 'x', 'x', 'x', 'x', 'x']]"
      ]
     },
     "metadata": {},
     "execution_count": 149
    }
   ],
   "source": [
    "run(run(grid,state_2), state_2)"
   ]
  },
  {
   "cell_type": "code",
   "execution_count": 155,
   "metadata": {},
   "outputs": [
    {
     "output_type": "execute_result",
     "data": {
      "text/plain": [
       "2039"
      ]
     },
     "metadata": {},
     "execution_count": 155
    }
   ],
   "source": [
    "r,i,g = find_stable(grid, state_2)\n",
    "r"
   ]
  },
  {
   "cell_type": "code",
   "execution_count": null,
   "metadata": {},
   "outputs": [],
   "source": []
  }
 ]
}