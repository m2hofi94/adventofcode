{
 "metadata": {
  "language_info": {
   "codemirror_mode": {
    "name": "ipython",
    "version": 3
   },
   "file_extension": ".py",
   "mimetype": "text/x-python",
   "name": "python",
   "nbconvert_exporter": "python",
   "pygments_lexer": "ipython3",
   "version": "3.9.0-final"
  },
  "orig_nbformat": 2,
  "kernelspec": {
   "name": "python3",
   "display_name": "Python 3",
   "language": "python"
  }
 },
 "nbformat": 4,
 "nbformat_minor": 2,
 "cells": [
  {
   "cell_type": "code",
   "execution_count": 136,
   "metadata": {},
   "outputs": [],
   "source": [
    "raw=\"\"\"939\n",
    "7,13,x,x,59,x,31,19\"\"\".splitlines()\n"
   ]
  },
  {
   "cell_type": "code",
   "execution_count": 137,
   "metadata": {},
   "outputs": [],
   "source": [
    "raw = open(\"data/13.txt\").readlines()"
   ]
  },
  {
   "cell_type": "code",
   "execution_count": 147,
   "metadata": {},
   "outputs": [],
   "source": [
    "from math import prod"
   ]
  },
  {
   "cell_type": "code",
   "execution_count": 146,
   "metadata": {},
   "outputs": [],
   "source": [
    "id = int(raw[0])\n",
    "busses = [int(b) for b in raw[1].split(',') if b != \"x\"]"
   ]
  },
  {
   "cell_type": "code",
   "execution_count": 140,
   "metadata": {},
   "outputs": [
    {
     "output_type": "execute_result",
     "data": {
      "text/plain": [
       "2406"
      ]
     },
     "metadata": {},
     "execution_count": 140
    }
   ],
   "source": [
    "prod(min([((id//b + 1)*b-id,b) for b in busses], key=lambda v: v[0]))"
   ]
  },
  {
   "source": [
    "## Part 2"
   ],
   "cell_type": "markdown",
   "metadata": {}
  },
  {
   "cell_type": "code",
   "execution_count": 148,
   "metadata": {},
   "outputs": [
    {
     "output_type": "execute_result",
     "data": {
      "text/plain": [
       "[Bus(id=23, t=0),\n",
       " Bus(id=41, t=13),\n",
       " Bus(id=509, t=23),\n",
       " Bus(id=13, t=36),\n",
       " Bus(id=17, t=37),\n",
       " Bus(id=29, t=52),\n",
       " Bus(id=401, t=54),\n",
       " Bus(id=37, t=60),\n",
       " Bus(id=19, t=73)]"
      ]
     },
     "metadata": {},
     "execution_count": 148
    }
   ],
   "source": [
    "from collections import namedtuple\n",
    "Bus = namedtuple('Bus', ('id', 't'))\n",
    "l = raw[1].split(',')\n",
    "busses = [Bus(int(b), i) for i,b in enumerate(raw[1].split(',')) if b != 'x']\n",
    "busses\n"
   ]
  },
  {
   "source": [
    "```\n",
    "7a                   = t\n",
    "  13b             -1 = t\n",
    "     59c          -4 = t\n",
    "        31d       -6 = t\n",
    "           19e    -7 = t\n",
    "```"
   ],
   "cell_type": "markdown",
   "metadata": {}
  },
  {
   "cell_type": "code",
   "execution_count": 149,
   "metadata": {},
   "outputs": [
    {
     "output_type": "stream",
     "name": "stdout",
     "text": [
      "187\n102\n"
     ]
    }
   ],
   "source": [
    "def find_first_t(bus_1, bus_2, diff):\n",
    "    for i in range(bus_2):\n",
    "        if (bus_1*i+diff) % bus_2 == 0:\n",
    "            return i * bus_1\n",
    "print(find_first_t(17,19,3))\n",
    "print(find_first_t(17,13,2))        "
   ]
  },
  {
   "cell_type": "code",
   "execution_count": 150,
   "metadata": {},
   "outputs": [
    {
     "output_type": "execute_result",
     "data": {
      "text/plain": [
       "225850756401039"
      ]
     },
     "metadata": {},
     "execution_count": 150
    }
   ],
   "source": [
    "#busses = [Bus(*b) for b in [(17,0),(13,2),(19,3)]]\n",
    "\n",
    "def part_2(busses):\n",
    "    combined = busses[0]\n",
    "    for b in busses[1:]:\n",
    "        diff = (b.t+combined.t)%b.id\n",
    "        t = find_first_t(combined.id, b.id, diff)\n",
    "        combined = Bus(combined.id * b.id, t + combined.t)\n",
    "\n",
    "    return combined[1]\n",
    "\n",
    "part_2(busses)"
   ]
  }
 ]
}