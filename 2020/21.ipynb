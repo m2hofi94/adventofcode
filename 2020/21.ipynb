{
 "metadata": {
  "language_info": {
   "codemirror_mode": {
    "name": "ipython",
    "version": 3
   },
   "file_extension": ".py",
   "mimetype": "text/x-python",
   "name": "python",
   "nbconvert_exporter": "python",
   "pygments_lexer": "ipython3",
   "version": "3.9.0-final"
  },
  "orig_nbformat": 2,
  "kernelspec": {
   "name": "python3",
   "display_name": "Python 3",
   "language": "python"
  }
 },
 "nbformat": 4,
 "nbformat_minor": 2,
 "cells": [
  {
   "cell_type": "code",
   "execution_count": 40,
   "metadata": {},
   "outputs": [],
   "source": [
    "raw = \"\"\"mxmxvkd kfcds sqjhc nhms (contains dairy, fish)\n",
    "trh fvjkl sbzzf mxmxvkd (contains dairy)\n",
    "sqjhc fvjkl (contains soy)\n",
    "sqjhc mxmxvkd sbzzf (contains fish)\"\"\"\n"
   ]
  },
  {
   "source": [
    "raw = open(\"data/21.txt\").read()"
   ],
   "cell_type": "code",
   "metadata": {},
   "execution_count": 69,
   "outputs": []
  },
  {
   "cell_type": "code",
   "execution_count": 70,
   "metadata": {},
   "outputs": [],
   "source": [
    "def parse(raw):\n",
    "    lines =  [l.split('(') for l in raw.splitlines()]\n",
    "    return [(ingredients.strip().split(' '), allergens[9:-1].split(', ')) for ingredients, allergens in lines]\n",
    "\n",
    "foods = parse(raw)\n",
    "#foods"
   ]
  },
  {
   "cell_type": "code",
   "execution_count": 71,
   "metadata": {},
   "outputs": [],
   "source": [
    "from collections import defaultdict\n",
    "all_all = {}\n",
    "ing_list = set()\n",
    "\n",
    "for ing, allergen in foods:\n",
    "    for a in allergen:\n",
    "        if a not in all_all:\n",
    "            all_all[a] = set(ing)\n",
    "        else:\n",
    "            all_all[a].intersection_update(ing)\n",
    "    for i in ing:\n",
    "        ing_list.add(i)"
   ]
  },
  {
   "cell_type": "code",
   "execution_count": 72,
   "metadata": {},
   "outputs": [],
   "source": [
    "from functools import reduce"
   ]
  },
  {
   "cell_type": "code",
   "execution_count": 73,
   "metadata": {},
   "outputs": [],
   "source": [
    "could_contain = reduce(lambda a,b: a.union(b), all_all.values())"
   ]
  },
  {
   "cell_type": "code",
   "execution_count": 74,
   "metadata": {},
   "outputs": [
    {
     "output_type": "execute_result",
     "data": {
      "text/plain": [
       "{'dvjrrkv', 'fsr', 'lqbcg', 'mgbv', 'ndnlm', 'skrxt', 'xcljh', 'zbhp'}"
      ]
     },
     "metadata": {},
     "execution_count": 74
    }
   ],
   "source": [
    "could_contain"
   ]
  },
  {
   "cell_type": "code",
   "execution_count": 75,
   "metadata": {},
   "outputs": [],
   "source": [
    "dont_contain = ing_list.difference(could_contain)\n",
    "#dont_contain    "
   ]
  },
  {
   "cell_type": "code",
   "execution_count": 76,
   "metadata": {},
   "outputs": [
    {
     "output_type": "execute_result",
     "data": {
      "text/plain": [
       "2389"
      ]
     },
     "metadata": {},
     "execution_count": 76
    }
   ],
   "source": [
    "f = foods[0]\n",
    "sum(len(dont_contain.intersection(f[0])) for f in foods)"
   ]
  },
  {
   "cell_type": "code",
   "execution_count": 83,
   "metadata": {},
   "outputs": [],
   "source": [
    "all_all = {a: list(all_all[a]) for a in all_all}\n",
    "while sum(len(a) for a in all_all.values()) > len(all_all):\n",
    "    for a in all_all.values():\n",
    "        if len(a) == 1:\n",
    "            for b in all_all.values():\n",
    "                if len(b) > 1:\n",
    "                    try:\n",
    "                        b.remove(a[0])\n",
    "                    except ValueError:\n",
    "                        pass\n"
   ]
  },
  {
   "cell_type": "code",
   "execution_count": 89,
   "metadata": {},
   "outputs": [
    {
     "output_type": "execute_result",
     "data": {
      "text/plain": [
       "'fsr,skrxt,lqbcg,mgbv,dvjrrkv,ndnlm,xcljh,zbhp'"
      ]
     },
     "metadata": {},
     "execution_count": 89
    }
   ],
   "source": [
    "\",\".join(all_all[k][0] for k in sorted(all_all.keys()))"
   ]
  },
  {
   "cell_type": "code",
   "execution_count": null,
   "metadata": {},
   "outputs": [],
   "source": []
  }
 ]
}