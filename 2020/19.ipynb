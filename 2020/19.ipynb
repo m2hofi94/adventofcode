{
 "metadata": {
  "language_info": {
   "codemirror_mode": {
    "name": "ipython",
    "version": 3
   },
   "file_extension": ".py",
   "mimetype": "text/x-python",
   "name": "python",
   "nbconvert_exporter": "python",
   "pygments_lexer": "ipython3",
   "version": "3.9.0-final"
  },
  "orig_nbformat": 2,
  "kernelspec": {
   "name": "python3",
   "display_name": "Python 3",
   "language": "python"
  }
 },
 "nbformat": 4,
 "nbformat_minor": 2,
 "cells": [
  {
   "cell_type": "code",
   "execution_count": 1,
   "metadata": {},
   "outputs": [],
   "source": [
    "def parse(raw):\n",
    "    return {i: r.replace('\"', '') for i,r in [l.split(': ') for l in raw.splitlines()]}"
   ]
  },
  {
   "cell_type": "code",
   "execution_count": 2,
   "metadata": {},
   "outputs": [
    {
     "output_type": "execute_result",
     "data": {
      "text/plain": [
       "{'0': '4 1 5',\n",
       " '1': '2 3 | 3 2',\n",
       " '2': '4 4 | 5 5',\n",
       " '3': '4 5 | 5 4',\n",
       " '4': 'a',\n",
       " '5': 'b'}"
      ]
     },
     "metadata": {},
     "execution_count": 2
    }
   ],
   "source": [
    "rules_raw = \"\"\"0: 4 1 5\n",
    "1: 2 3 | 3 2\n",
    "2: 4 4 | 5 5\n",
    "3: 4 5 | 5 4\n",
    "4: \"a\"\n",
    "5: \"b\\\"\"\"\"\n",
    "rules = parse(rules_raw)\n",
    "rules"
   ]
  },
  {
   "cell_type": "code",
   "execution_count": 46,
   "metadata": {},
   "outputs": [],
   "source": [
    "rules_raw, data_raw = open('data/19.txt').read().split('\\n\\n')\n",
    "rules = parse(rules_raw)\n",
    "#rules"
   ]
  },
  {
   "cell_type": "code",
   "execution_count": 3,
   "metadata": {
    "tags": []
   },
   "outputs": [],
   "source": [
    "import re\n",
    "from functools import cache\n",
    "import ring\n",
    "re_num = re.compile('\\d+')\n",
    "\n",
    "@cache\n",
    "def expand(r: str):\n",
    "    #print('new call', r)\n",
    "    pos_dash = r.find('|')\n",
    "    contains_num = re_num.findall(r)\n",
    "\n",
    "    if pos_dash > 0:\n",
    "        return expand(r[:pos_dash]).union(expand(r[pos_dash+1:]))\n",
    "\n",
    "    if re_num.fullmatch(r.strip()):\n",
    "        return expand(rules[contains_num[0]])\n",
    "\n",
    "    if not contains_num and pos_dash < 0:\n",
    "        return set([r.replace(' ', '')])    \n",
    "\n",
    "    res = set()\n",
    "    for m in re_num.finditer(r):\n",
    "        #print(m)\n",
    "        to_add = set(r[:m.span()[0]] + poss + r[m.span()[1]:] for poss in expand(m.group()))\n",
    "        #print('to_add', to_add)\n",
    "        expanded =  [expand(e.strip()) for e in to_add]\n",
    "        res = res.union(*expanded)\n",
    "    #print(\"res\", res)\n",
    "\n",
    "    return res\n",
    "\n",
    "#print(expand('\"a\" \"b\"'))\n",
    "all_rules = expand('0')\n"
   ]
  },
  {
   "cell_type": "code",
   "execution_count": 4,
   "metadata": {},
   "outputs": [
    {
     "output_type": "error",
     "ename": "NameError",
     "evalue": "name 'data_raw' is not defined",
     "traceback": [
      "\u001b[0;31m---------------------------------------------------------------------------\u001b[0m",
      "\u001b[0;31mNameError\u001b[0m                                 Traceback (most recent call last)",
      "\u001b[0;32m<ipython-input-4-f22f0c5bb06d>\u001b[0m in \u001b[0;36m<module>\u001b[0;34m\u001b[0m\n\u001b[0;32m----> 1\u001b[0;31m \u001b[0msum\u001b[0m\u001b[0;34m(\u001b[0m\u001b[0;36m1\u001b[0m \u001b[0;32mfor\u001b[0m \u001b[0mm\u001b[0m \u001b[0;32min\u001b[0m \u001b[0mdata_raw\u001b[0m\u001b[0;34m.\u001b[0m\u001b[0msplitlines\u001b[0m\u001b[0;34m(\u001b[0m\u001b[0;34m)\u001b[0m \u001b[0;32mif\u001b[0m \u001b[0mm\u001b[0m \u001b[0;32min\u001b[0m \u001b[0mall_rules\u001b[0m\u001b[0;34m)\u001b[0m\u001b[0;34m\u001b[0m\u001b[0;34m\u001b[0m\u001b[0m\n\u001b[0m",
      "\u001b[0;31mNameError\u001b[0m: name 'data_raw' is not defined"
     ]
    }
   ],
   "source": [
    "sum(1 for m in data_raw.splitlines() if m in all_rules)"
   ]
  },
  {
   "cell_type": "code",
   "execution_count": 5,
   "metadata": {},
   "outputs": [
    {
     "output_type": "error",
     "ename": "NameError",
     "evalue": "name 'data_raw' is not defined",
     "traceback": [
      "\u001b[0;31m---------------------------------------------------------------------------\u001b[0m",
      "\u001b[0;31mNameError\u001b[0m                                 Traceback (most recent call last)",
      "\u001b[0;32m<ipython-input-5-dcd08365b524>\u001b[0m in \u001b[0;36m<module>\u001b[0;34m\u001b[0m\n\u001b[0;32m----> 1\u001b[0;31m \u001b[0mlen\u001b[0m\u001b[0;34m(\u001b[0m\u001b[0mdata_raw\u001b[0m\u001b[0;34m.\u001b[0m\u001b[0msplitlines\u001b[0m\u001b[0;34m(\u001b[0m\u001b[0;34m)\u001b[0m\u001b[0;34m)\u001b[0m\u001b[0;34m\u001b[0m\u001b[0;34m\u001b[0m\u001b[0m\n\u001b[0m",
      "\u001b[0;31mNameError\u001b[0m: name 'data_raw' is not defined"
     ]
    }
   ],
   "source": [
    "len(data_raw.splitlines())"
   ]
  },
  {
   "source": [
    "# Part 2"
   ],
   "cell_type": "markdown",
   "metadata": {}
  },
  {
   "cell_type": "code",
   "execution_count": 29,
   "metadata": {},
   "outputs": [],
   "source": [
    "rules_raw, data_raw = \"\"\"42: 9 14 | 10 1\n",
    "9: 14 27 | 1 26\n",
    "10: 23 14 | 28 1\n",
    "1: \"a\"\n",
    "11: 42 31\n",
    "5: 1 14 | 15 1\n",
    "19: 14 1 | 14 14\n",
    "12: 24 14 | 19 1\n",
    "16: 15 1 | 14 14\n",
    "31: 14 17 | 1 13\n",
    "6: 14 14 | 1 14\n",
    "2: 1 24 | 14 4\n",
    "0: 8 11\n",
    "13: 14 3 | 1 12\n",
    "15: 1 | 14\n",
    "17: 14 2 | 1 7\n",
    "23: 25 1 | 22 14\n",
    "28: 16 1\n",
    "4: 1 1\n",
    "20: 14 14 | 1 15\n",
    "3: 5 14 | 16 1\n",
    "27: 1 6 | 14 18\n",
    "14: \"b\"\n",
    "21: 14 1 | 1 14\n",
    "25: 1 1 | 1 14\n",
    "22: 14 14\n",
    "8: 42\n",
    "26: 14 22 | 1 20\n",
    "18: 15 15\n",
    "7: 14 5 | 1 21\n",
    "24: 14 1\n",
    "\n",
    "abbbbbabbbaaaababbaabbbbabababbbabbbbbbabaaaa\n",
    "bbabbbbaabaabba\n",
    "babbbbaabbbbbabbbbbbaabaaabaaa\n",
    "aaabbbbbbaaaabaababaabababbabaaabbababababaaa\n",
    "bbbbbbbaaaabbbbaaabbabaaa\n",
    "bbbababbbbaaaaaaaabbababaaababaabab\n",
    "ababaaaaaabaaab\n",
    "ababaaaaabbbaba\n",
    "baabbaaaabbaaaababbaababb\n",
    "abbbbabbbbaaaababbbbbbaaaababb\n",
    "aaaaabbaabaaaaababaa\n",
    "aaaabbaaaabbaaa\n",
    "aaaabbaabbaaaaaaabbbabbbaaabbaabaaa\n",
    "babaaabbbaaabaababbaabababaaab\n",
    "aabbbbbaabbbaaaaaabbbbbababaaaaabbaaabba\"\"\".split('\\n\\n')\n",
    "rules = parse(rules_raw)\n",
    "expand.cache_clear()\n",
    "#rules"
   ]
  },
  {
   "cell_type": "code",
   "execution_count": 47,
   "metadata": {},
   "outputs": [],
   "source": [
    "expand.cache_clear()\n",
    "all_rules = expand('0')\n",
    "four2 = expand('42')\n",
    "three1 = expand('31')"
   ]
  },
  {
   "cell_type": "code",
   "execution_count": 49,
   "metadata": {},
   "outputs": [
    {
     "output_type": "execute_result",
     "data": {
      "text/plain": [
       "128"
      ]
     },
     "metadata": {},
     "execution_count": 49
    }
   ],
   "source": [
    "len(three1)"
   ]
  },
  {
   "cell_type": "code",
   "execution_count": 50,
   "metadata": {},
   "outputs": [
    {
     "output_type": "stream",
     "name": "stdout",
     "text": [
      "232 132\n"
     ]
    }
   ],
   "source": [
    "already_good = sum(1 for m in data_raw.splitlines() if m in all_rules)\n",
    "to_check = [m for m in data_raw.splitlines() if m not in all_rules]\n",
    "print(len(to_check), already_good)"
   ]
  },
  {
   "cell_type": "code",
   "execution_count": 54,
   "metadata": {},
   "outputs": [],
   "source": [
    "@cache\n",
    "def get_31s(d):\n",
    "    #print('call', d)\n",
    "    p = set(d[len(c):] for c in three1 if d.startswith(c))\n",
    "    if len(p) == 0:\n",
    "        return set([d])\n",
    "    for a in p:\n",
    "        return set('31 ' + b for b in get_31s(a))\n",
    "get_31s.cache_clear()"
   ]
  },
  {
   "cell_type": "code",
   "execution_count": 55,
   "metadata": {},
   "outputs": [],
   "source": [
    "@cache\n",
    "def get_42s(d):\n",
    "    #print('call', d)\n",
    "    p = set(d[len(c):] for c in four2 if d.startswith(c))\n",
    "    if len(p) == 0:\n",
    "        return set([d])\n",
    "    for a in p:\n",
    "        return set('42 ' + b for b in get_42s(a))\n",
    "get_42s.cache_clear()\n",
    "get_31s.cache_clear()"
   ]
  },
  {
   "cell_type": "code",
   "execution_count": 56,
   "metadata": {},
   "outputs": [],
   "source": [
    "def is_valid(d: str):\n",
    "    d = d.strip()\n",
    "    s = set(d.split(' '))\n",
    "    if not s in [set(['31', '42']), set(['42'])]:\n",
    "        return False\n",
    "    if not d.startswith('42'):\n",
    "        return False\n",
    "    if d.count('42 31') != 1:\n",
    "        return False\n",
    "    if d.count('31 42') > 0:\n",
    "        return False\n",
    "    if d.count('31') >= d.count('42'):\n",
    "        return False\n",
    "    #print(d)\n",
    "    return True\n",
    "    \n"
   ]
  },
  {
   "cell_type": "code",
   "execution_count": 57,
   "metadata": {},
   "outputs": [
    {
     "output_type": "stream",
     "name": "stdout",
     "text": [
      "{'42 42 42 31 31'} abbbabaabbabaaabbbaabbbabaaabbabbabbbbbb\n{'42 42 42 42 42 31 31 31'} bbbbbabbababaabbbbaababbbbbaaabbaabaaaabaaabbbbabaabbbbbaabbabaa\n{'42 42 42 42 31 31'} baababaaabbabbbbaaaabbbababaababaabbbabaaaabbbbb\n{'42 42 42 31'} abaababbabbaaaaaabbbabababaaaaab\n{'42 42 42 42 42 31 31 31'} aabbababbabaabbaabaababbbaabaabbbabbababaaabaababbbbaabbbaaaaabb\n{'42 42 42 31'} babbabbaabbabaaaabbabbbaaaabbbab\n{'42 42 42 42 42 42 31'} babaababbaabbbabababaabaaaabbaaababbabbaabbaaabbbbaaabba\n{'42 42 42 31'} baabbababbbabbaaaabbaaaabbbbaaaa\n{'42 42 42 42 42 31'} baabbabbbbaaabaaabababaabbabaaabaababbabbaaabaab\n{'42 42 42 42 42 31 31 31 31'} aaaaaaaaabaabaabbbaaabbbbabbabbbababbaabbbbaabaabbaaaabbaaababbbbbabaaba\n{'42 42 42 42 31'} bbbaaabaaabbbaaabbbabbaaaaaaaabbbbbbabbb\n{'42 42 42 42 31 31'} aabbbabbbbaabbbaabaabaaabbaababbaabbabaababbbabb\n{'42 42 42 42 31 31'} babbababbbbaabbaaabaabbbbabbbbabbaaabaabbabaaaab\n{'42 42 42 31 31'} abbbbaabbbbbbbbababbaaaaabbaabbbbbbabaaa\n{'42 42 42 42 31 31'} ababbababbaababababbbbabaabbbaaaababbbbaaaabaaba\n{'42 42 42 42 42 31 31'} abbabababababaaabbbaaababaababbbbbabbbaaabaaababaababaab\n{'42 42 42 42 42 31'} baabbababaabaaaaababbbaabbaaababbbababaaabbbbabb\n{'42 42 42 42 42 31'} bbababbabaabaabbbbaabababababbaaabbaaaaaaabbbbbb\n{'42 42 42 31'} abaabbbbaabbabbabbabaaabaababaab\n{'42 42 42 31'} bbaabbbabbbbbabbabaababbaaabbbaa\n{'42 42 42 42 31 31'} abaabbaaaabbabababbbbbaaaabaaabbabaabbabbbaaaaab\n{'42 42 42 42 31'} babaabaabbbaabbabbabbaabbaabababbaaabaaa\n{'42 42 42 31 31'} bbababbbbbbabbbaaaaaababaabababbbbaaaaaa\n{'42 42 42 42 31'} aabbababbbbabbaaabababaabbabbbbabbbbaaba\n{'42 42 42 31 31'} aaabaabbbabbababbaabbabbbbbababbabbababb\n{'42 42 42 31 31'} aabaaabbbabbabbaabbbbaabbabaabbbababaaaa\n{'42 42 42 42 42 31 31 31'} bbabbabbabaababbbababbbbaabbabababaaaabaababaaaaabbbaaababaaaaaa\n{'42 42 42 31'} ababaabbbababbabbababbabbaaabbbb\n{'42 42 42 42 42 31'} abaabbbababbbaabbababaaaabbbababbabbaaabaaababaa\n{'42 42 42 42 31'} babbbaababbabaaabbaabbbababbbbaabbaabaaa\n{'42 42 42 42 31 31'} abbabbbabbbaaabbaabaaabbbbbbbbbbaaaaabbaabaaabba\n{'42 42 42 31'} aabbbabbbbbbababaabaabbbaaabaaaa\n{'42 42 42 42 31'} baabbbaaabababaabababbbaababaababbabbbbb\n{'42 42 42 31'} abbabababababbbbaabbabbaabbaaaba\n{'42 42 42 31 31'} baabababbabbabaabbababbaaaabbababbaabaaa\n{'42 42 42 42 31'} aabbaabbbbbbbabbbabbbbabbbbaabbaabbababb\n{'42 42 42 42 42 31 31'} bbbaaaaabaababbbabbabaabbbabbbaabbbaabbabaaabaabaaaabbbb\n{'42 42 42 31 31'} bbbaabbaaaaaaabbabbbabbbabbbabbaaaabbbbb\n{'42 42 42 42 31'} aabaaaabbabaabbaaabaaaaaabbbabababbbbabb\n{'42 42 42 42 42 31'} babbabaabababaaabbbbbbbbbaabbabbbbabbbaaaaaabbaa\n{'42 42 42 42 31'} aabbababbbbbbbbabaabbbababbabaabbabbbbba\n{'42 42 42 31'} abbbbaabbaaaabbaabaababbbaaaaabb\n{'42 42 42 31'} bbbbababbbbbabbabbbaaababaaaaabb\n{'42 42 42 42 42 31 31 31'} babbbaaabaaaaabababbbaababbbbaababbbbaabbbbbaaaabbaaaabbabbbbabb\n{'42 42 42 42 31'} abababbabbbaaaaababbaaabbbaaabbbaabbbbaa\n{'42 42 42 42 31 31'} bbaabbaaababaaabaababbaababbbbabbbbbaaaaabbbabba\n{'42 42 42 31 31'} aaaabbbababbabbbbbaabbaabaabbaabbbabaaba\n{'42 42 42 31'} abaabbaaabababbaabbbabaaababaaaa\n{'42 42 42 42 42 31'} bbbaabbaabbbbaabaabbbaaabababbaabbbabbaaaababbbb\n{'42 42 42 31'} aababbabaabaabbabbabbbbabaabbbbb\n{'42 42 42 42 31 31 31'} abbbabbbbabababbbbbbababababaaabbaaaaaabbbbbbaabbbabaabb\n{'42 42 42 31'} ababbabaaababbaababaababaabbaaba\n{'42 42 42 31 31'} aabaaaabbbaabababbaabbaaabaaabbbbaaabbab\n{'42 42 42 42 42 31 31 31 31'} bbbbababababbababbaabababaababbbaababaaabbabaabbbbaabaaabbaabbbbbbabbbbb\n{'42 42 42 31'} babbbbaabbbabbbaaaabbaaabbbaaaab\n{'42 42 42 42 42 31'} aabbbaabbabaababbbabbabbbbbbbaaabbbbbbbaabaaabbb\n{'42 42 42 31'} aaaabaababbbbabababbaaaaaabababa\n{'42 42 42 31 31'} bbbbabaabababbaaaaaaababbaaabaaaaaaabbab\n{'42 42 42 31'} bbbaaababaaaababbabbbbabbbaabaab\n{'42 42 42 31'} aabbbabbabbaaabbbbabaaaabbbbaaab\n{'42 42 42 42 31 31'} aaaabaaababbabbbabbababaabbbbbbbaaabaaaaaabbbbab\n{'42 42 42 31'} abbbbababbbbabaababaabaabbaaaaaa\n{'42 42 42 31'} baaaabbbbaabbbabbabaabbabbbbaaaa\n{'42 42 42 42 31 31'} baabbbabbaabbbaababbaaaabbbabbaaabbaaabaaaabaaba\n{'42 42 42 31 31'} abaabbbaabbbabbbabaaaabaabbaaabaababbabb\n{'42 42 42 31'} aaaaaabbababababaaaabaaaaaabbbbb\n{'42 42 42 42 31'} aabbaaaaaaaababaaaaabaaabaababaaaababaab\n{'42 42 42 31 31'} aaaaaaababbaaaaabbababbbaaaaabbaaaaababb\n{'42 42 42 42 42 31'} aaaabaababaabaaaaabbbaaaabababbaaaaabaabbbbabaaa\n{'42 42 42 42 31 31'} abbbbbababaabbbabababbaabababbbabbbbaabaabaabbab\n{'42 42 42 31 31'} bbaaabbbababbabababbaaabaaaabbaaaaaababb\n{'42 42 42 42 31 31'} aaaaaaaabbabaaababbabbbaabbaaaaaaaabbbaabbbbabbb\n{'42 42 42 31 31'} babbabbaaabaaaaaabbbbaaabbabbbbbaabababa\n{'42 42 42 31'} bbabaaabaaaaaaabbbabbbbaaababaab\n{'42 42 42 31 31'} aabbabbabbbaaaaabbbaabbaaaaaabaaaaabbbab\n{'42 42 42 42 42 31 31'} babaabaaabaabbaaabbbbaaabbbaaabaabbabaaaaabbabaabbbababa\n{'42 42 42 42 42 31 31 31'} bbabbbbaaabaaaaaaaaabababbbbbbbbbbbaaabbaababbbaabbbaaaaabbbabba\n{'42 42 42 42 31'} baababbbbabbabbabababbabbbbbbbabbabaabbb\n{'42 42 42 42 31'} ababbaabbababbbaaabbaaabaabbaaababbabbab\n{'42 42 42 31'} aabaabbbaabaaabbabbbbbabaaabbbbb\n{'42 42 42 42 31'} bbbabbaabaabbabbaabaabbbaababbabbbabbbab\n{'42 42 42 31 31'} aabbbaaabbbbbbbabaaaabbbbaabaaabaaabbbbb\n{'42 42 42 42 31'} bbbaabbaabbbabbbbabbabbbabbaaaaababaabbb\n{'42 42 42 42 31'} abbaababbabbbaabbababbbaaaaaaabbababbaaa\n{'42 42 42 42 31'} aababbaaabbbbaaabababaabababbaabbaabbbbb\n{'42 42 42 42 42 31 31'} babbabbabbabbbaaabbbababbbaabbbaaababbaaaababbbaaaababaa\n{'42 42 42 42 42 42 31 31'} babbbbabbabababbbbbaabbabaabbababababbbabbbbababaaabababaabaabab\n{'42 42 42 31'} bbaabbaabbbabbaaaaaaaaaabbbbaaba\n{'42 42 42 31 31'} bbbbbbbabababaabbbbaaabaabbbaaabbaabaaba\n{'42 42 42 42 31 31'} babbabbbbabaaabbaabbabbababbbaabaaabbbabbabaaaaa\n{'42 42 42 31'} ababaababaabaaaaaabbbaabbabbaaba\n{'42 42 42 31 31'} bbabbabbabaabbbbabbaaabbaaaabbaaabababbb\n{'42 42 42 42 42 31'} abaaaabababbabaabbaaabbbaabaaabbbbabbaabbbbbbaba\n{'42 42 42 31'} bababbbbbaabbbababaaaabbabbabbaa\n{'42 42 42 31 31'} abaabbbaabbbbaaabbbaaaaababbbabbaaabaaaa\n{'42 42 42 31'} bbbaaabbbbaaabaaaabbbaabbbbaaaab\n{'42 42 42 42 31 31 31'} baabbabbbababaaabababbabaabaaabbaaaababbbbabbbbbbbbaabbb\n{'42 42 42 31 31'} bbaabbbaaaaabbbaaabaaababaabbbbaaaaababb\n{'42 42 42 31'} babbabaaababababaabaabbabbbaabab\n{'42 42 42 31'} bbaabababaababaabbbbabbaaaababbb\n{'42 42 42 31'} abbbbaababaabaaaaaaaaaabbabbaaba\n{'42 42 42 42 31'} aaaaaaabbabaabaabaaaababbbabbababaaabbaa\n{'42 42 42 31'} aaaabbbaaabbaaabaabaaababbabaabb\n{'42 42 42 42 42 31 31 31'} abbbabbbaabaabbbabaababbbaaaabbaabaabaabbaaabababaaaaabbbbbaabaa\n{'42 42 42 31'} bbabaaabbbbabbaaaabaaaabaabbbbaa\n{'42 42 42 42 42 42 31'} babbbbaaaabaaabaabaabbaabbabaaaabbababaaaabbaabbaabbbaba\n{'42 42 42 31'} bbbabbbabbabbabbabaaaababaaabbab\n{'42 42 42 42 31'} baaaababbaaaabbbbbbbababaaabaabbaaaaabaa\n{'42 42 42 42 31'} bbabaaaabbabbabababaaabbaaabaabbbaabbbba\n{'42 42 42 31'} abaabbaabbaababbaaabbaaabbbbaaaa\n{'42 42 42 42 31 31 31'} babaabbaaaaaababbaabbabaaaaabaaabaabbaababbaaababaabbaaa\n{'42 42 42 31 31'} ababaaabbababbaababaabaaaaaaabaabaabbbba\n{'42 42 42 31'} babbbaabaababaaaaabaaabbbbabbbbb\n{'42 42 42 42 31'} abaabaaabbabbabbbbaaabbbaabbbaaaaaaaabaa\n{'42 42 42 42 42 31'} abaabaabbbbbbaaabbaababaaabaaaabbababbaaababbabb\n{'42 42 42 42 31 31 31'} bbabaaabababbaabbabaabaababbabbabbbbbabaabaaababbbbaaaab\n{'42 42 42 31'} aaaabbbabbbabbaaababbbaabbbabbab\n{'42 42 42 31 31'} babbabbbbababaabaaabbaaaaabbabaaabaaabbb\n{'42 42 42 42 31 31 31'} bababbaababbabbaaaabaabbbbabbbaaaabbbbbaabbaabbabaababba\n{'42 42 42 42 42 31 31'} baabbabbabbaabaababbababbbababbbbabbabbaaababbbaaababbbb\n{'42 42 42 42 42 31'} bbbbabaabbabbabbababaaababbbbbaaaabbbaabbbbbbbaa\n{'42 42 42 42 31'} aaaabbbababaaabaaabaabbaaabbababaaaaabaa\n{'42 42 42 42 42 31 31 31'} babbbbaaabbabbbbababbbaababaababbbbaaababbabbaaaababbbbbaaababab\n{'42 42 42 31'} baabababbaababbbaabbbabbbbabaabb\n{'42 42 42 42 42 31'} aabbabababbaaabbbabbbbabbabaabababbaaaaaaaababbb\n{'42 42 42 31 31'} bbbbbabbbabbbaaabbaababbabbbaabbbaabbaaa\n{'42 42 42 42 31 31 31'} bbaabbaaaabbabbabbabbaabbbaaabaabbbaabbbbbaaaabbabbbbabb\n{'42 42 42 31 31'} aabbaabbabbabbbbaaaaabababbbbabbbbbabbab\n{'42 42 42 42 31'} aabbbaabbbbaaabbbaaaababaaaabbbaaabbbbab\n{'42 42 42 31 31'} aabaaabaabbbababbabbaaaabbaabaabaaaabbaa\n{'42 42 42 42 31'} abaabbbaabaabaaabbaaabaabababbaaabaaabab\n{'42 42 42 42 42 31'} abbabaaaaabaaaababbbbaaabbbaaaaaabbbabaabbbaabaa\n{'42 42 42 31'} abaabbbabaaaabbbabbbbaaabbbaaaab\n{'42 42 42 42 31 31'} aabbaaababaababbabbbababbaaaaabaaaaaabbababaaaab\n{'42 42 42 42 42 42 31 31 31 31'} abbbabaabbbabbaabbbbbbbbabaabbbbabbbabbbabbbbaaaaabbbbbabaaaaaabbaaabbbabbbbaaba\n{'42 42 42 42 42 42 31'} babbbaababbbbbaaaabaabbbbaabbabbbbbaaabababaabaaaabbabaa\n{'42 42 42 42 31 31'} abababaabababbbbabaaaababbababaaabbbbbbaabbbaaaa\n{'42 42 42 31'} abbabaaaaabbaaabbbaaabbbbbbbaaab\n{'42 42 42 42 31 31'} bababaaabbbaaaaaabaabbbbaabaaaababbbbabbaabbabbb\n{'42 42 42 31 31'} abaabbaaabbbbbabbbaaababbbabbbabaaaaaaba\n{'42 42 42 31'} aaaabababbababbaaababbaabbbabbbb\n{'42 42 42 31'} abaabbaabaaaabbababaaabaaaaabbab\n{'42 42 42 31'} babbbaaaabababbaaabbbaababababbb\n{'42 42 42 42 31 31'} abbabbbaabbbbababaabaabbbbaaababbbbaababbaaabbaa\n{'42 42 42 42 42 31'} abbbbaababaaaababababbbbbabbabbbaaabbaaabbbabaab\n{'42 42 42 42 31'} bbbaaaaaabbabaabababbbaaaaabaabbbaaaaabb\n{'42 42 42 31'} bbbabbaabababbabaabaabbabbaaaaab\n{'42 42 42 42 31 31'} bbaabbbabbbbbbbabbababaabbbaaabbabbaaabaababbbbb\n{'42 42 42 42 31 31'} babbaaababaaaabbaababbabbbaababbbbaabbbbbabbaaba\n{'42 42 42 42 42 42 31 31 31'} aaaababaaaaabaaabbaabbaababaaabaaabbaaaaaabbbaaaaaaaabbbbbbababaabaaabbb\n{'42 42 42 42 42 31 31'} abbaababaabbaaaabababaaababbabbaaabaaaabaaababbaaabbbbba\n{'42 42 42 42 31'} abababbaaabbaaaaabaabaabbbbbabbaaaababba\n{'42 42 42 31 31'} aaabaabbbbababbbaaaaaabbaaabbbaabbbaabab\n{'42 42 42 42 31'} bbabbbaaaaaaaaaabaaaabbbbaaaababbbbbbaab\n{'42 42 42 42 42 31 31 31'} bbabbbbaabbbbaaabbababaabbbbababbbabaaabaaaaabbbabaaababbbbabbbb\n{'42 42 42 31'} baababaabababbbaababbbaaabaababa\n{'42 42 42 42 42 31 31 31 31'} ababbaabaaaaababababaabaabbbbaabbabbbbabaaabbababaaaaabbabbbaaabababbbba\n{'42 42 42 42 42 31'} aabaabbaaaaabaaaaabaaaaaaabbbaababbababaabaaaaab\n{'42 42 42 42 42 31 31'} babaababbabbbbababbbbaaabababbabbbbbabaaaaabaababbbbabbb\n{'42 42 42 31'} aaaabaabbaabbbaaaabbabbaaaabbabb\n{'42 42 42 31'} babbaaababbbbbaabbbabbbababaaaab\n{'42 42 42 31'} baaaababaabaaabaabbaabaabbabaabb\n{'42 42 42 42 42 31 31'} babbaaabbababaaababaabababababbababbbbaabbaabaaaabbbaabb\n{'42 42 42 31'} babaaabbaabaaabbaabbbabbabbbbbba\n{'42 42 42 42 31'} bababaaaaabbbaaaabbbabaabbbbbbabbaaabbab\n{'42 42 42 42 31 31'} abbbbaabaaaaaaaaabababaababaaabbabaaabababbabbaa\n{'42 42 42 42 31'} bbaabbbabaaaababbababbabaaabbaaaabaaabba\n{'42 42 42 31'} aababaaababaabaaaabaabbbbabbbbbb\n{'42 42 42 42 31 31'} bbabbbbabbabaaaaabaabbbabababbaaabaaaaababbaaaab\n{'42 42 42 42 31 31'} babbaaaaaabaabbabbbbbabbaaaaaaaabbababababaababa\n{'42 42 42 42 42 42 31 31'} bbbabbbaabbbbaababbaaabbababbaabaabbababbbabbabaaabbaabababaaaab\n{'42 42 42 31'} ababaaabbbabbaabbabaaabbaaabbbba\n{'42 42 42 42 42 31 31 31 31'} bababbabaabbaaaaababaabbbabbabbbbbabbbaaaabababababbbabaaaabbbbaababbaaa\n{'42 42 42 42 42 31 31 31 31'} bbaababbabbabaababbbbaababbabaaaabaaaabbaaabbabbabbbaabaaabababbaabbbbbb\n"
     ]
    },
    {
     "output_type": "execute_result",
     "data": {
      "text/plain": [
       "174"
      ]
     },
     "metadata": {},
     "execution_count": 57
    }
   ],
   "source": [
    "possibles = []\n",
    "for c in to_check:\n",
    "    res = set()\n",
    "    for cand in get_42s(c):\n",
    "        spl = cand.strip().split(' ')\n",
    "        for replaced in get_31s(spl[-1]):\n",
    "            res.add(\" \".join(spl[:-1] + [replaced.strip()]))\n",
    "        #res.update()\n",
    "    \n",
    "    possibles.append(res)\n",
    "\n",
    "res = 0\n",
    "for i,el in enumerate(possibles):\n",
    "    #print(el)\n",
    "    if any(map(is_valid, el)):\n",
    "        print(el, to_check[i])\n",
    "        res += 1\n",
    "res\n"
   ]
  },
  {
   "cell_type": "code",
   "execution_count": 44,
   "metadata": {},
   "outputs": [
    {
     "output_type": "execute_result",
     "data": {
      "text/plain": [
       "16"
      ]
     },
     "metadata": {},
     "execution_count": 44
    }
   ],
   "source": [
    "len(four2)"
   ]
  },
  {
   "cell_type": "code",
   "execution_count": 58,
   "metadata": {},
   "outputs": [
    {
     "output_type": "execute_result",
     "data": {
      "text/plain": [
       "306"
      ]
     },
     "metadata": {},
     "execution_count": 58
    }
   ],
   "source": [
    "res + already_good"
   ]
  },
  {
   "cell_type": "code",
   "execution_count": null,
   "metadata": {},
   "outputs": [],
   "source": []
  }
 ]
}