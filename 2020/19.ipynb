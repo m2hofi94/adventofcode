{
 "metadata": {
  "language_info": {
   "codemirror_mode": {
    "name": "ipython",
    "version": 3
   },
   "file_extension": ".py",
   "mimetype": "text/x-python",
   "name": "python",
   "nbconvert_exporter": "python",
   "pygments_lexer": "ipython3",
   "version": "3.9.0-final"
  },
  "orig_nbformat": 2,
  "kernelspec": {
   "name": "python3",
   "display_name": "Python 3",
   "language": "python"
  }
 },
 "nbformat": 4,
 "nbformat_minor": 2,
 "cells": [
  {
   "cell_type": "code",
   "execution_count": 1,
   "metadata": {},
   "outputs": [],
   "source": [
    "def parse(raw):\n",
    "    return {i: r.replace('\"', '') for i,r in [l.split(': ') for l in raw.splitlines()]}"
   ]
  },
  {
   "cell_type": "code",
   "execution_count": 2,
   "metadata": {},
   "outputs": [
    {
     "output_type": "execute_result",
     "data": {
      "text/plain": [
       "{'0': '4 1 5',\n",
       " '1': '2 3 | 3 2',\n",
       " '2': '4 4 | 5 5',\n",
       " '3': '4 5 | 5 4',\n",
       " '4': 'a',\n",
       " '5': 'b'}"
      ]
     },
     "metadata": {},
     "execution_count": 2
    }
   ],
   "source": [
    "rules_raw = \"\"\"0: 4 1 5\n",
    "1: 2 3 | 3 2\n",
    "2: 4 4 | 5 5\n",
    "3: 4 5 | 5 4\n",
    "4: \"a\"\n",
    "5: \"b\\\"\"\"\"\n",
    "rules = parse(rules_raw)\n",
    "rules"
   ]
  },
  {
   "cell_type": "code",
   "execution_count": 319,
   "metadata": {},
   "outputs": [],
   "source": [
    "rules_raw, data_raw = open('data/19.txt').read().split('\\n\\n')\n",
    "rules = parse(rules_raw)\n",
    "#rules"
   ]
  },
  {
   "cell_type": "code",
   "execution_count": 3,
   "metadata": {
    "tags": []
   },
   "outputs": [],
   "source": [
    "import re\n",
    "from functools import cache\n",
    "import ring\n",
    "re_num = re.compile('\\d+')\n",
    "\n",
    "@cache\n",
    "def expand(r: str):\n",
    "    #print('new call', r)\n",
    "    pos_dash = r.find('|')\n",
    "    contains_num = re_num.findall(r)\n",
    "\n",
    "    if pos_dash > 0:\n",
    "        return expand(r[:pos_dash]).union(expand(r[pos_dash+1:]))\n",
    "\n",
    "    if re_num.fullmatch(r.strip()):\n",
    "        return expand(rules[contains_num[0]])\n",
    "\n",
    "    if not contains_num and pos_dash < 0:\n",
    "        return set([r.replace(' ', '')])    \n",
    "\n",
    "    res = set()\n",
    "    for m in re_num.finditer(r):\n",
    "        #print(m)\n",
    "        to_add = set(r[:m.span()[0]] + poss + r[m.span()[1]:] for poss in expand(m.group()))\n",
    "        #print('to_add', to_add)\n",
    "        expanded =  [expand(e.strip()) for e in to_add]\n",
    "        res = res.union(*expanded)\n",
    "    #print(\"res\", res)\n",
    "\n",
    "    return res\n",
    "\n",
    "#print(expand('\"a\" \"b\"'))\n",
    "all_rules = expand('0')\n"
   ]
  },
  {
   "cell_type": "code",
   "execution_count": 4,
   "metadata": {},
   "outputs": [
    {
     "output_type": "error",
     "ename": "NameError",
     "evalue": "name 'data_raw' is not defined",
     "traceback": [
      "\u001b[0;31m---------------------------------------------------------------------------\u001b[0m",
      "\u001b[0;31mNameError\u001b[0m                                 Traceback (most recent call last)",
      "\u001b[0;32m<ipython-input-4-f22f0c5bb06d>\u001b[0m in \u001b[0;36m<module>\u001b[0;34m\u001b[0m\n\u001b[0;32m----> 1\u001b[0;31m \u001b[0msum\u001b[0m\u001b[0;34m(\u001b[0m\u001b[0;36m1\u001b[0m \u001b[0;32mfor\u001b[0m \u001b[0mm\u001b[0m \u001b[0;32min\u001b[0m \u001b[0mdata_raw\u001b[0m\u001b[0;34m.\u001b[0m\u001b[0msplitlines\u001b[0m\u001b[0;34m(\u001b[0m\u001b[0;34m)\u001b[0m \u001b[0;32mif\u001b[0m \u001b[0mm\u001b[0m \u001b[0;32min\u001b[0m \u001b[0mall_rules\u001b[0m\u001b[0;34m)\u001b[0m\u001b[0;34m\u001b[0m\u001b[0;34m\u001b[0m\u001b[0m\n\u001b[0m",
      "\u001b[0;31mNameError\u001b[0m: name 'data_raw' is not defined"
     ]
    }
   ],
   "source": [
    "sum(1 for m in data_raw.splitlines() if m in all_rules)"
   ]
  },
  {
   "cell_type": "code",
   "execution_count": 5,
   "metadata": {},
   "outputs": [
    {
     "output_type": "error",
     "ename": "NameError",
     "evalue": "name 'data_raw' is not defined",
     "traceback": [
      "\u001b[0;31m---------------------------------------------------------------------------\u001b[0m",
      "\u001b[0;31mNameError\u001b[0m                                 Traceback (most recent call last)",
      "\u001b[0;32m<ipython-input-5-dcd08365b524>\u001b[0m in \u001b[0;36m<module>\u001b[0;34m\u001b[0m\n\u001b[0;32m----> 1\u001b[0;31m \u001b[0mlen\u001b[0m\u001b[0;34m(\u001b[0m\u001b[0mdata_raw\u001b[0m\u001b[0;34m.\u001b[0m\u001b[0msplitlines\u001b[0m\u001b[0;34m(\u001b[0m\u001b[0;34m)\u001b[0m\u001b[0;34m)\u001b[0m\u001b[0;34m\u001b[0m\u001b[0;34m\u001b[0m\u001b[0m\n\u001b[0m",
      "\u001b[0;31mNameError\u001b[0m: name 'data_raw' is not defined"
     ]
    }
   ],
   "source": [
    "len(data_raw.splitlines())"
   ]
  },
  {
   "source": [
    "# Part 2"
   ],
   "cell_type": "markdown",
   "metadata": {}
  },
  {
   "cell_type": "code",
   "execution_count": 6,
   "metadata": {},
   "outputs": [],
   "source": [
    "rules_raw, data_raw = \"\"\"42: 9 14 | 10 1\n",
    "9: 14 27 | 1 26\n",
    "10: 23 14 | 28 1\n",
    "1: \"a\"\n",
    "11: 42 31\n",
    "5: 1 14 | 15 1\n",
    "19: 14 1 | 14 14\n",
    "12: 24 14 | 19 1\n",
    "16: 15 1 | 14 14\n",
    "31: 14 17 | 1 13\n",
    "6: 14 14 | 1 14\n",
    "2: 1 24 | 14 4\n",
    "0: 8 11\n",
    "13: 14 3 | 1 12\n",
    "15: 1 | 14\n",
    "17: 14 2 | 1 7\n",
    "23: 25 1 | 22 14\n",
    "28: 16 1\n",
    "4: 1 1\n",
    "20: 14 14 | 1 15\n",
    "3: 5 14 | 16 1\n",
    "27: 1 6 | 14 18\n",
    "14: \"b\"\n",
    "21: 14 1 | 1 14\n",
    "25: 1 1 | 1 14\n",
    "22: 14 14\n",
    "8: 42\n",
    "26: 14 22 | 1 20\n",
    "18: 15 15\n",
    "7: 14 5 | 1 21\n",
    "24: 14 1\n",
    "\n",
    "abbbbbabbbaaaababbaabbbbabababbbabbbbbbabaaaa\n",
    "bbabbbbaabaabba\n",
    "babbbbaabbbbbabbbbbbaabaaabaaa\n",
    "aaabbbbbbaaaabaababaabababbabaaabbababababaaa\n",
    "bbbbbbbaaaabbbbaaabbabaaa\n",
    "bbbababbbbaaaaaaaabbababaaababaabab\n",
    "ababaaaaaabaaab\n",
    "ababaaaaabbbaba\n",
    "baabbaaaabbaaaababbaababb\n",
    "abbbbabbbbaaaababbbbbbaaaababb\n",
    "aaaaabbaabaaaaababaa\n",
    "aaaabbaaaabbaaa\n",
    "aaaabbaabbaaaaaaabbbabbbaaabbaabaaa\n",
    "babaaabbbaaabaababbaabababaaab\n",
    "aabbbbbaabbbaaaaaabbbbbababaaaaabbaaabba\"\"\".split('\\n\\n')\n",
    "rules = parse(rules_raw)\n",
    "expand.cache_clear()\n",
    "#rules"
   ]
  },
  {
   "cell_type": "code",
   "execution_count": 7,
   "metadata": {},
   "outputs": [],
   "source": [
    "all_rules = expand('0')\n",
    "four2 = expand('42')\n",
    "three1 = expand('31')"
   ]
  },
  {
   "cell_type": "code",
   "execution_count": 8,
   "metadata": {},
   "outputs": [
    {
     "output_type": "execute_result",
     "data": {
      "text/plain": [
       "12"
      ]
     },
     "metadata": {},
     "execution_count": 8
    }
   ],
   "source": [
    "to_check = [m for m in data_raw.splitlines() if m not in all_rules]\n",
    "len(to_check)"
   ]
  },
  {
   "cell_type": "code",
   "execution_count": 9,
   "metadata": {},
   "outputs": [],
   "source": [
    "@cache\n",
    "def get_31s(d):\n",
    "    #print('call', d)\n",
    "    p = set(d[len(c):] for c in three1 if d.startswith(c))\n",
    "    if len(p) == 0:\n",
    "        return set([d])\n",
    "    for a in p:\n",
    "        return set('31 ' + b for b in get_31s(a))\n",
    "get_31s.cache_clear()"
   ]
  },
  {
   "cell_type": "code",
   "execution_count": 10,
   "metadata": {},
   "outputs": [],
   "source": [
    "@cache\n",
    "def get_42s(d):\n",
    "    #print('call', d)\n",
    "    p = set(d[len(c):] for c in four2 if d.startswith(c))\n",
    "    if len(p) == 0:\n",
    "        return set([d])\n",
    "    for a in p:\n",
    "        return set('42 ' + b for b in get_42s(a))\n",
    "get_42s.cache_clear()\n",
    "get_31s.cache_clear()"
   ]
  },
  {
   "cell_type": "code",
   "execution_count": 11,
   "metadata": {},
   "outputs": [],
   "source": [
    "def is_valid(d: str):\n",
    "    d = d.strip()\n",
    "    s = set(d.split(' '))\n",
    "    if not s in [set(['31', '42']), set(['42'])]:\n",
    "        return False\n",
    "    if not d.startswith('42'):\n",
    "        return False\n",
    "    if d.count('42 31') > 1:\n",
    "        return False\n",
    "    if d.count('31 42') > 0:\n",
    "        return False\n",
    "    if d.count('31') >= d.count('42'):\n",
    "        return False\n",
    "    return True\n",
    "    \n"
   ]
  },
  {
   "cell_type": "code",
   "execution_count": 22,
   "metadata": {},
   "outputs": [
    {
     "output_type": "execute_result",
     "data": {
      "text/plain": [
       "10"
      ]
     },
     "metadata": {},
     "execution_count": 22
    }
   ],
   "source": [
    "possibles = []\n",
    "for c in to_check:\n",
    "    res = set()\n",
    "    for cand in get_42s(c):\n",
    "        spl = cand.strip().split(' ')\n",
    "        for replaced in get_31s(spl[-1]):\n",
    "            res.add(\" \".join(spl[:-1] + [replaced.strip()]))\n",
    "        #res.update()\n",
    "    \n",
    "    possibles.append(res)\n",
    "\n",
    "res = 0\n",
    "for el in possibles:\n",
    "    res += any(map(is_valid, el))\n",
    "res\n"
   ]
  },
  {
   "cell_type": "code",
   "execution_count": null,
   "metadata": {},
   "outputs": [],
   "source": []
  }
 ]
}