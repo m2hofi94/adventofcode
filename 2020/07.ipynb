{
 "metadata": {
  "language_info": {
   "codemirror_mode": {
    "name": "ipython",
    "version": 3
   },
   "file_extension": ".py",
   "mimetype": "text/x-python",
   "name": "python",
   "nbconvert_exporter": "python",
   "pygments_lexer": "ipython3",
   "version": "3.9.0-final"
  },
  "orig_nbformat": 2,
  "kernelspec": {
   "name": "python3",
   "display_name": "Python 3"
  }
 },
 "nbformat": 4,
 "nbformat_minor": 2,
 "cells": [
  {
   "cell_type": "code",
   "execution_count": 1,
   "metadata": {},
   "outputs": [],
   "source": [
    "rules = \"\"\"light red bags contain 1 bright white bag, 2 muted yellow bags.\n",
    "dark orange bags contain 3 bright white bags, 4 muted yellow bags.\n",
    "bright white bags contain 1 shiny gold bag.\n",
    "muted yellow bags contain 2 shiny gold bags, 9 faded blue bags.\n",
    "shiny gold bags contain 1 dark olive bag, 2 vibrant plum bags.\n",
    "dark olive bags contain 3 faded blue bags, 4 dotted black bags.\n",
    "vibrant plum bags contain 5 faded blue bags, 6 dotted black bags.\n",
    "faded blue bags contain no other bags.\n",
    "dotted black bags contain no other bags.\"\"\""
   ]
  },
  {
   "cell_type": "code",
   "execution_count": 2,
   "metadata": {},
   "outputs": [],
   "source": [
    "rules = open(\"data/07.txt\").read()"
   ]
  },
  {
   "cell_type": "code",
   "execution_count": 52,
   "metadata": {},
   "outputs": [],
   "source": [
    "from __future__ import annotations\n",
    "class Bag:\n",
    "    def __init__(self, name):\n",
    "        self.name = name\n",
    "        \n",
    "        self._contains = set()\n",
    "        self._contained_in = set()\n",
    "\n",
    "    def __repr__(self):\n",
    "        c = \",\".join(c[1].name for c in self._contains)\n",
    "        return f\"{self.name} contains {c}\"\n",
    "\n",
    "    # Add a new bag, which is contained by this one\n",
    "    def add(self, num: int, bag: Bag):\n",
    "        self._contains.add((num, bag))\n",
    "        bag.register_parent(self)\n",
    "\n",
    "    # Register parent bag\n",
    "    def register_parent(self, bag: Bag):\n",
    "        self._contained_in.add(bag)\n",
    "\n",
    "    # Returns all the bags this one might (eventually) be contained in\n",
    "    def get_all_contained(self) -> set:\n",
    "        return self._contained_in.union(*[b.get_all_contained() for b in self._contained_in])\n",
    "\n",
    "    # Returns the number of bags you need, if you want to cary this bag\n",
    "    def get_num_bags(self) -> int:\n",
    "        return sum(n * b.get_num_bags() + n for n, b in self._contains)\n"
   ]
  },
  {
   "cell_type": "code",
   "execution_count": 56,
   "metadata": {},
   "outputs": [],
   "source": [
    "import re\n",
    "\n",
    "def ensure(color):\n",
    "    if color not in bags:\n",
    "        bags[color] = Bag(color)\n",
    "    return bags[color]\n",
    "\n",
    "bags = {}\n",
    "for r in rules.splitlines():\n",
    "    name = r[:r.index(\" bags contain\")]\n",
    "\n",
    "    ensure(name)\n",
    "    \n",
    "    containedBags = re.findall(r'((\\d+) ([a-z ]*) bags?)', r)\n",
    "    for  _, num, color in containedBags:\n",
    "        bags[name].add(int(num), ensure(color))"
   ]
  },
  {
   "cell_type": "code",
   "execution_count": 57,
   "metadata": {},
   "outputs": [
    {
     "output_type": "execute_result",
     "data": {
      "text/plain": [
       "205"
      ]
     },
     "metadata": {},
     "execution_count": 57
    }
   ],
   "source": [
    "len(bags[\"shiny gold\"].get_all_contained())"
   ]
  },
  {
   "cell_type": "code",
   "execution_count": 58,
   "metadata": {},
   "outputs": [
    {
     "output_type": "execute_result",
     "data": {
      "text/plain": [
       "80902"
      ]
     },
     "metadata": {},
     "execution_count": 58
    }
   ],
   "source": [
    "bags[\"shiny gold\"].get_num_bags()"
   ]
  },
  {
   "cell_type": "code",
   "execution_count": null,
   "metadata": {},
   "outputs": [],
   "source": []
  }
 ]
}