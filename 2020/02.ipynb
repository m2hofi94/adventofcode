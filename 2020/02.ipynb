{
 "metadata": {
  "language_info": {
   "codemirror_mode": {
    "name": "ipython",
    "version": 3
   },
   "file_extension": ".py",
   "mimetype": "text/x-python",
   "name": "python",
   "nbconvert_exporter": "python",
   "pygments_lexer": "ipython3",
   "version": "3.9.0-final"
  },
  "orig_nbformat": 2,
  "kernelspec": {
   "name": "python3",
   "display_name": "Python 3",
   "language": "python"
  }
 },
 "nbformat": 4,
 "nbformat_minor": 2,
 "cells": [
  {
   "source": [
    "# Day 02\n",
    "## Part 1"
   ],
   "cell_type": "markdown",
   "metadata": {}
  },
  {
   "cell_type": "code",
   "execution_count": 1,
   "metadata": {},
   "outputs": [],
   "source": [
    "import re\n",
    "from collections import namedtuple"
   ]
  },
  {
   "cell_type": "code",
   "execution_count": 3,
   "metadata": {},
   "outputs": [],
   "source": [
    "p = re.compile('(?P<low>\\d+)-(?P<high>\\d+) (?P<letter>\\w): (?P<pw>\\w+)')\n",
    "\n",
    "with open(\"data/02.txt\", 'r') as f:\n",
    "    entries = [p.search(l).groupdict() for l in f]\n",
    "\n",
    "Entry = namedtuple('Entry', entries[0].keys())\n",
    "entries = [Entry(int(e[\"low\"]), int(e[\"high\"]), e[\"letter\"], e[\"pw\"]) for e in entries]"
   ]
  },
  {
   "cell_type": "code",
   "execution_count": 4,
   "metadata": {},
   "outputs": [
    {
     "output_type": "execute_result",
     "data": {
      "text/plain": [
       "396"
      ]
     },
     "metadata": {},
     "execution_count": 4
    }
   ],
   "source": [
    "\n",
    "sum((e.low <= e.pw.count(e.letter) <= e.high for e in entries))"
   ]
  },
  {
   "source": [
    "## Part 2"
   ],
   "cell_type": "markdown",
   "metadata": {}
  },
  {
   "cell_type": "code",
   "execution_count": 5,
   "metadata": {},
   "outputs": [
    {
     "output_type": "execute_result",
     "data": {
      "text/plain": [
       "428"
      ]
     },
     "metadata": {},
     "execution_count": 5
    }
   ],
   "source": [
    "sum(((e.pw[e.low - 1] == e.letter) ^ (e.pw[e.high - 1] == e.letter) for e in entries))"
   ]
  },
  {
   "cell_type": "code",
   "execution_count": null,
   "metadata": {},
   "outputs": [],
   "source": []
  }
 ]
}