{
 "metadata": {
  "language_info": {
   "codemirror_mode": {
    "name": "ipython",
    "version": 3
   },
   "file_extension": ".py",
   "mimetype": "text/x-python",
   "name": "python",
   "nbconvert_exporter": "python",
   "pygments_lexer": "ipython3",
   "version": "3.9.0-final"
  },
  "orig_nbformat": 2,
  "kernelspec": {
   "name": "python3",
   "display_name": "Python 3",
   "language": "python"
  }
 },
 "nbformat": 4,
 "nbformat_minor": 2,
 "cells": [
  {
   "cell_type": "code",
   "execution_count": 73,
   "metadata": {},
   "outputs": [],
   "source": [
    "raw = \"\"\"class: 1-3 or 5-7\n",
    "row: 6-11 or 33-44\n",
    "seat: 13-40 or 45-50\n",
    "\n",
    "your ticket:\n",
    "7,1,14\n",
    "\n",
    "nearby tickets:\n",
    "7,3,47\n",
    "40,4,50\n",
    "55,2,20\n",
    "38,6,12\"\"\"\n"
   ]
  },
  {
   "cell_type": "code",
   "execution_count": 123,
   "metadata": {},
   "outputs": [],
   "source": [
    "raw = open(\"data/16.txt\").read().strip()"
   ]
  },
  {
   "cell_type": "code",
   "execution_count": 157,
   "metadata": {},
   "outputs": [],
   "source": [
    "import re\n",
    "class Rule():\n",
    "    def __init__(self, s):\n",
    "        name, rules = s.split(': ')\n",
    "        r1, r2 = rules.split(' or ')\n",
    "        low1, max1 = re.findall(\"\\d+\", r1)\n",
    "        low2, max2 = re.findall(\"\\d+\", r2)\n",
    "        self.low1 = int(low1)\n",
    "        self.max1 = int(max1)\n",
    "        self.low2 = int(low2)\n",
    "        self.max2 = int(max2)\n",
    "\n",
    "        self.name = name\n",
    "\n",
    "    def is_valid(self, field):\n",
    "        return (self.low1 <= field <= self.max1) or (self.low2 <= field <= self.max2)\n",
    "\n",
    "    def __repr__(self):\n",
    "        return f\"Rule - {self.name}: {self.low1}-{self.max1} or {self.low2}-{self.max2}\""
   ]
  },
  {
   "cell_type": "code",
   "execution_count": 158,
   "metadata": {},
   "outputs": [],
   "source": [
    "def parse(raw):\n",
    "    raw_rules, rest = [s.strip() for s in raw.split('your ticket:')]\n",
    "    raw_yours, raw_nearby = [s.strip() for s in rest.split('nearby tickets:')]\n",
    "    rules = [Rule(r) for r in raw_rules.splitlines()]\n",
    "    nearby = [[int(f) for f in t.split(',')] for t in raw_nearby.splitlines()]\n",
    "    yours = [int(f) for f in raw_yours.strip().split(',')]\n",
    "    \n",
    "    return rules, nearby, yours"
   ]
  },
  {
   "cell_type": "code",
   "execution_count": 159,
   "metadata": {},
   "outputs": [],
   "source": [
    "rules, nearby, yours = parse(raw)"
   ]
  },
  {
   "cell_type": "code",
   "execution_count": 160,
   "metadata": {},
   "outputs": [
    {
     "output_type": "execute_result",
     "data": {
      "text/plain": [
       "21081"
      ]
     },
     "metadata": {},
     "execution_count": 160
    }
   ],
   "source": [
    "res = []\n",
    "def can_be_valid(field, rules):\n",
    "    for rule in rules:\n",
    "        if rule.is_valid(field):\n",
    "            return True\n",
    "    return False\n",
    "for ticket in nearby:\n",
    "    for field in ticket:\n",
    "        if not can_be_valid(field, rules):\n",
    "            res.append(field)\n",
    "        \n",
    "sum(res)\n"
   ]
  },
  {
   "source": [
    "## Part 2"
   ],
   "cell_type": "markdown",
   "metadata": {}
  },
  {
   "cell_type": "code",
   "execution_count": 161,
   "metadata": {},
   "outputs": [],
   "source": [
    "raw = \"\"\"class: 0-1 or 4-19\n",
    "row: 0-5 or 8-19\n",
    "seat: 0-13 or 16-19\n",
    "\n",
    "your ticket:\n",
    "11,12,13\n",
    "\n",
    "nearby tickets:\n",
    "3,9,18\n",
    "15,1,5\n",
    "5,14,9\"\"\"\n",
    "rules_list, nearby, yours = parse(raw)"
   ]
  },
  {
   "cell_type": "code",
   "execution_count": 162,
   "metadata": {},
   "outputs": [],
   "source": [
    "raw = open(\"data/16.txt\").read().strip()\n",
    "rules_list, nearby, yours = parse(raw)"
   ]
  },
  {
   "cell_type": "code",
   "execution_count": 163,
   "metadata": {},
   "outputs": [],
   "source": [
    "nearby = [ticket for ticket in nearby if all(can_be_valid(field, rules_list) for field in ticket)]\n",
    "rules = {rule.name: rule for rule in rules_list}\n",
    "candidates = [list(rules.keys()) for i in list(range(len(nearby[0])))]\n"
   ]
  },
  {
   "cell_type": "code",
   "execution_count": 165,
   "metadata": {},
   "outputs": [],
   "source": [
    "for ticket in nearby:\n",
    "    for i,field in enumerate(ticket):\n",
    "        for r in rules:\n",
    "            if not rules[r].is_valid(field):\n",
    "                try:\n",
    "                    candidates[i].remove(rules[r].name)\n",
    "                except ValueError:\n",
    "                    pass"
   ]
  },
  {
   "cell_type": "code",
   "execution_count": 166,
   "metadata": {},
   "outputs": [],
   "source": [
    " while not sum(len(c) for c in candidates) == len(candidates):\n",
    "     for c in candidates:\n",
    "         if len(c) == 1:\n",
    "             for c2 in candidates:\n",
    "                 if len(c2) > 1:\n",
    "                    try:\n",
    "                        c2.remove(c[0])\n",
    "                    except ValueError:\n",
    "                        pass\n",
    "                "
   ]
  },
  {
   "cell_type": "code",
   "execution_count": 169,
   "metadata": {},
   "outputs": [
    {
     "output_type": "execute_result",
     "data": {
      "text/plain": [
       "314360510573"
      ]
     },
     "metadata": {},
     "execution_count": 169
    }
   ],
   "source": [
    "from math import prod\n",
    "prod(yours[i] for i,c in enumerate(candidates) if c[0].startswith('departure'))"
   ]
  }
 ]
}