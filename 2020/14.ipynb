{
 "metadata": {
  "language_info": {
   "codemirror_mode": {
    "name": "ipython",
    "version": 3
   },
   "file_extension": ".py",
   "mimetype": "text/x-python",
   "name": "python",
   "nbconvert_exporter": "python",
   "pygments_lexer": "ipython3",
   "version": "3.9.0-final"
  },
  "orig_nbformat": 2,
  "kernelspec": {
   "name": "python3",
   "display_name": "Python 3",
   "language": "python"
  }
 },
 "nbformat": 4,
 "nbformat_minor": 2,
 "cells": [
  {
   "cell_type": "code",
   "execution_count": 1,
   "metadata": {},
   "outputs": [],
   "source": [
    "raw = \"\"\"mask = XXXXXXXXXXXXXXXXXXXXXXXXXXXXX1XXXX0X\n",
    "mem[8] = 11\n",
    "mem[7] = 101\n",
    "mem[8] = 0\"\"\".splitlines()"
   ]
  },
  {
   "cell_type": "code",
   "execution_count": 41,
   "metadata": {},
   "outputs": [],
   "source": [
    "raw = open(\"data/14.txt\").readlines()"
   ]
  },
  {
   "cell_type": "code",
   "execution_count": 49,
   "metadata": {},
   "outputs": [],
   "source": [
    "def parse(raw):\n",
    "    inst = []\n",
    "    for l in raw:\n",
    "        if l.startswith('mask'):\n",
    "            mask = l.split(' = ')[-1]\n",
    "            inst.append(['m', mask])\n",
    "        else:\n",
    "            inst.append(['i'] + [int(d) for d in re.findall(r'\\d+',l)])\n",
    "    return inst"
   ]
  },
  {
   "cell_type": "code",
   "execution_count": 50,
   "metadata": {},
   "outputs": [],
   "source": [
    "def apply(mask, number):\n",
    "    n = f\"{number:036b}\"\n",
    "    return int(\"\".join([d if m=='X' else m for m,d in zip(mask, n)]), 2)"
   ]
  },
  {
   "cell_type": "code",
   "execution_count": 51,
   "metadata": {},
   "outputs": [],
   "source": [
    "mem = {}\n",
    "for i in inst:\n",
    "    if i[0] == 'm':\n",
    "        mask = i[1]\n",
    "    else:\n",
    "        mem[i[1]] = apply(mask, i[2])"
   ]
  },
  {
   "cell_type": "code",
   "execution_count": 52,
   "metadata": {},
   "outputs": [
    {
     "output_type": "execute_result",
     "data": {
      "text/plain": [
       "0"
      ]
     },
     "metadata": {},
     "execution_count": 52
    }
   ],
   "source": [
    "sum(mem.values())"
   ]
  },
  {
   "source": [
    "## Part 2"
   ],
   "cell_type": "markdown",
   "metadata": {}
  },
  {
   "cell_type": "code",
   "execution_count": 109,
   "metadata": {},
   "outputs": [],
   "source": [
    "raw = \"\"\"mask = 000000000000000000000000000000X1001X\n",
    "mem[42] = 100\n",
    "mask = 00000000000000000000000000000000X0XX\n",
    "mem[26] = 1\"\"\".splitlines()\n",
    "inst = parse(raw)"
   ]
  },
  {
   "cell_type": "code",
   "execution_count": 110,
   "metadata": {},
   "outputs": [],
   "source": [
    "raw = open(\"data/14.txt\").readlines()\n",
    "inst = parse(raw)"
   ]
  },
  {
   "cell_type": "code",
   "execution_count": 111,
   "metadata": {},
   "outputs": [],
   "source": [
    "def bitmask(mask, number):\n",
    "    n = f\"{number:036b}\"\n",
    "    return \"\".join(['1' if m=='1' else ('X' if m == 'X' else d) for m,d in zip(mask, n)])"
   ]
  },
  {
   "cell_type": "code",
   "execution_count": 115,
   "metadata": {},
   "outputs": [],
   "source": [
    "def get_real_addresses(floating: str):\n",
    "    c = floating.count('X') \n",
    "    if c == 0:\n",
    "        return set(floating)\n",
    "    if c == 1:\n",
    "        return set((floating.replace('X', '1'), floating.replace('X', '0')))\n",
    "    else:\n",
    "        return get_real_addresses(floating.replace('X', '1', 1)).union(get_real_addresses(floating.replace('X', '0', 1)))\n",
    "\n",
    "def write(mem: dict, pos: int, val:  int, mask: str):\n",
    "    floating = bitmask(mask, pos)\n",
    "    for a in get_real_addresses(floating):\n",
    "        mem[a] = val\n",
    "\n",
    "write(mem, inst[1][1], inst[1][2], inst[0][1])"
   ]
  },
  {
   "cell_type": "code",
   "execution_count": 116,
   "metadata": {},
   "outputs": [
    {
     "output_type": "execute_result",
     "data": {
      "text/plain": [
       "3687727854171"
      ]
     },
     "metadata": {},
     "execution_count": 116
    }
   ],
   "source": [
    "mem = {}\n",
    "for i in inst:\n",
    "    if i[0] == 'm':\n",
    "        mask = i[1]\n",
    "    else:\n",
    "        write(mem, i[1], i[2], mask)\n",
    "sum(mem.values())\n"
   ]
  },
  {
   "cell_type": "code",
   "execution_count": null,
   "metadata": {},
   "outputs": [],
   "source": []
  }
 ]
}