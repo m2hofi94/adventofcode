{
 "metadata": {
  "language_info": {
   "codemirror_mode": {
    "name": "ipython",
    "version": 3
   },
   "file_extension": ".py",
   "mimetype": "text/x-python",
   "name": "python",
   "nbconvert_exporter": "python",
   "pygments_lexer": "ipython3",
   "version": "3.9.0-final"
  },
  "orig_nbformat": 2,
  "kernelspec": {
   "name": "python3",
   "display_name": "Python 3"
  }
 },
 "nbformat": 4,
 "nbformat_minor": 2,
 "cells": [
  {
   "cell_type": "code",
   "execution_count": 51,
   "metadata": {},
   "outputs": [],
   "source": [
    "pre = 5\n",
    "xmas = \"\"\"35\n",
    "20\n",
    "15\n",
    "25\n",
    "47\n",
    "40\n",
    "62\n",
    "55\n",
    "65\n",
    "95\n",
    "102\n",
    "117\n",
    "150\n",
    "182\n",
    "127\n",
    "219\n",
    "299\n",
    "277\n",
    "309\n",
    "576\"\"\"\n",
    "xmas = [int(l) for l in xmas.splitlines()]"
   ]
  },
  {
   "cell_type": "code",
   "execution_count": 50,
   "metadata": {},
   "outputs": [],
   "source": []
  },
  {
   "cell_type": "code",
   "execution_count": 37,
   "metadata": {},
   "outputs": [],
   "source": [
    "from itertools import permutations"
   ]
  },
  {
   "cell_type": "code",
   "execution_count": 38,
   "metadata": {},
   "outputs": [],
   "source": [
    "def is_valid(num, lookup):\n",
    "    for a,b in permutations(lookup, 2):\n",
    "        if a+b==num:\n",
    "            return True\n",
    "    return False\n"
   ]
  },
  {
   "cell_type": "code",
   "execution_count": 47,
   "metadata": {},
   "outputs": [],
   "source": [
    "xmas = [int(l) for l in open(\"data/09.txt\").readlines()]\n",
    "pre = 25"
   ]
  },
  {
   "cell_type": "code",
   "execution_count": 48,
   "metadata": {},
   "outputs": [
    {
     "output_type": "execute_result",
     "data": {
      "text/plain": [
       "15690279"
      ]
     },
     "metadata": {},
     "execution_count": 48
    }
   ],
   "source": [
    "def find_invalid(xmas, pre):\n",
    "    lookup,xmas = xmas[:pre], xmas[pre:]\n",
    "    while len(xmas) > 0:\n",
    "        num = xmas.pop(0)\n",
    "        if not is_valid(num, lookup):\n",
    "            #print('here', num, lookup)\n",
    "            return num\n",
    "        lookup = lookup[1:] + [num]\n",
    "    return -1\n",
    "\n",
    "find_invalid(xmas, pre)"
   ]
  },
  {
   "source": [
    "## Part 2"
   ],
   "cell_type": "markdown",
   "metadata": {}
  },
  {
   "cell_type": "code",
   "execution_count": 60,
   "metadata": {},
   "outputs": [],
   "source": [
    "pre = 5\n",
    "xmas = \"\"\"35\n",
    "20\n",
    "15\n",
    "25\n",
    "47\n",
    "40\n",
    "62\n",
    "55\n",
    "65\n",
    "95\n",
    "102\n",
    "117\n",
    "150\n",
    "182\n",
    "127\n",
    "219\n",
    "299\n",
    "277\n",
    "309\n",
    "576\"\"\"\n",
    "xmas = [int(l) for l in xmas.splitlines()]"
   ]
  },
  {
   "cell_type": "code",
   "execution_count": 58,
   "metadata": {},
   "outputs": [],
   "source": [
    "xmas = [int(l) for l in open(\"data/09.txt\").readlines()]\n",
    "pre = 25"
   ]
  },
  {
   "cell_type": "code",
   "execution_count": 59,
   "metadata": {},
   "outputs": [
    {
     "output_type": "execute_result",
     "data": {
      "text/plain": [
       "2174232"
      ]
     },
     "metadata": {},
     "execution_count": 59
    }
   ],
   "source": [
    "def find_range(xmas, pre, target):\n",
    "    for i in range(len(xmas)):\n",
    "        s = 0\n",
    "        for j in range(i, len(xmas)):\n",
    "            s += xmas[j]\n",
    "            if s == target:\n",
    "                return i,j\n",
    "            if s > target:\n",
    "                break\n",
    "    return -1\n",
    "\n",
    "\n",
    "\n",
    "\n",
    "i, j = find_range(xmas, pre, find_invalid(xmas, pre))\n",
    "r = xmas[i:j+1]\n",
    "min(r) + max(r)"
   ]
  },
  {
   "cell_type": "code",
   "execution_count": null,
   "metadata": {},
   "outputs": [],
   "source": [
    "len(list(permutations(xmas)))"
   ]
  },
  {
   "cell_type": "code",
   "execution_count": null,
   "metadata": {},
   "outputs": [],
   "source": []
  }
 ]
}