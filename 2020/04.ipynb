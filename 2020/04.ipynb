{
 "metadata": {
  "language_info": {
   "codemirror_mode": {
    "name": "ipython",
    "version": 3
   },
   "file_extension": ".py",
   "mimetype": "text/x-python",
   "name": "python",
   "nbconvert_exporter": "python",
   "pygments_lexer": "ipython3",
   "version": "3.9.0-final"
  },
  "orig_nbformat": 2,
  "kernelspec": {
   "name": "python3",
   "display_name": "Python 3"
  }
 },
 "nbformat": 4,
 "nbformat_minor": 2,
 "cells": [
  {
   "cell_type": "code",
   "execution_count": 2,
   "metadata": {},
   "outputs": [],
   "source": [
    "import re"
   ]
  },
  {
   "cell_type": "code",
   "execution_count": 11,
   "metadata": {},
   "outputs": [],
   "source": [
    "inp = \"\"\"ecl:gry pid:860033327 eyr:2020 hcl:#fffffd\n",
    "byr:1937 iyr:2017 cid:147 hgt:183cm\n",
    "\n",
    "iyr:2013 ecl:amb cid:350 eyr:2023 pid:028048884\n",
    "hcl:#cfa07d byr:1929\n",
    "\n",
    "hcl:#ae17e1 iyr:2013\n",
    "eyr:2024\n",
    "ecl:brn pid:760753108 byr:1931\n",
    "hgt:179cm\n",
    "\n",
    "hcl:#cfa07d eyr:2025 pid:166559648\n",
    "iyr:2011 ecl:brn hgt:59in\"\"\""
   ]
  },
  {
   "cell_type": "code",
   "execution_count": 12,
   "metadata": {},
   "outputs": [],
   "source": [
    "keys = [\"byr:\",\"iyr\",\"eyr:\",\"hgt:\",\"hcl:\",\"ecl:\",\"pid:\",\"cid:\"]"
   ]
  },
  {
   "cell_type": "code",
   "execution_count": 13,
   "metadata": {
    "tags": []
   },
   "outputs": [
    {
     "output_type": "execute_result",
     "data": {
      "text/plain": [
       "2"
      ]
     },
     "metadata": {},
     "execution_count": 13
    }
   ],
   "source": [
    "def parse(inp):\n",
    "    return [l.strip().replace(\"\\n\", \" \") for l in inp.split('\\n\\n')]\n",
    "\n",
    "def part1(passports):\n",
    "    res = 0\n",
    "    r = re.compile(\"([a-z]{3}:)\")\n",
    "\n",
    "    for p in passports:\n",
    "        not_found = list(filter(lambda k: k not in p, keys))\n",
    "        found = r.findall(p)\n",
    "        assert(len(found) + len(not_found) == 8)\n",
    "        if len(not_found) == 0 or (len(not_found) == 1 and not_found[0] == \"cid:\"):\n",
    "            res += 1\n",
    "\n",
    "    return res\n",
    "\n",
    "part1(parse(inp))\n",
    "        "
   ]
  },
  {
   "cell_type": "code",
   "execution_count": 14,
   "metadata": {},
   "outputs": [
    {
     "output_type": "execute_result",
     "data": {
      "text/plain": [
       "228"
      ]
     },
     "metadata": {},
     "execution_count": 14
    }
   ],
   "source": [
    "with open('data/04.txt') as f:\n",
    "    inp = f.read().strip()\n",
    "\n",
    "part1(parse(inp))"
   ]
  },
  {
   "cell_type": "code",
   "execution_count": 17,
   "metadata": {},
   "outputs": [],
   "source": [
    "def parse2(inp):\n",
    "    res = []\n",
    "    r = re.compile(\"([a-z]{3}:\\S+)\")\n",
    "    for l in inp.split('\\n\\n'):\n",
    "        pp = {}\n",
    "        for f in r.findall(l):\n",
    "            v = f.split(':')\n",
    "            pp[v[0]] = v[1]\n",
    "        res.append(pp)\n",
    "    return res\n"
   ]
  },
  {
   "cell_type": "code",
   "execution_count": 18,
   "metadata": {},
   "outputs": [],
   "source": [
    "all_invalid = \"\"\"eyr:1972 cid:100\n",
    "hcl:#18171d ecl:amb hgt:170 pid:186cm iyr:2018 byr:1926\n",
    "\n",
    "iyr:2019\n",
    "hcl:#602927 eyr:1967 hgt:170cm\n",
    "ecl:grn pid:012533040 byr:1946\n",
    "\n",
    "hcl:dab227 iyr:2012\n",
    "ecl:brn hgt:182cm pid:021572410 eyr:2020 byr:1992 cid:277\n",
    "\n",
    "hgt:59cm ecl:zzz\n",
    "eyr:2038 hcl:74454a iyr:2023\n",
    "pid:3556412378 byr:2007\"\"\"\n",
    "\n",
    "all_valid = \"\"\"pid:087499704 hgt:74in ecl:grn iyr:2012 eyr:2030 byr:1980\n",
    "hcl:#623a2f\n",
    "\n",
    "eyr:2029 ecl:blu cid:129 byr:1989\n",
    "iyr:2014 pid:896056539 hcl:#a97842 hgt:165cm\n",
    "\n",
    "hcl:#888785\n",
    "hgt:164cm byr:2001 iyr:2015 cid:88\n",
    "pid:545766238 ecl:hzl\n",
    "eyr:2022\n",
    "\n",
    "iyr:2010 hgt:158cm hcl:#b6652a ecl:blu byr:1944 eyr:2021 pid:093154719\"\"\""
   ]
  },
  {
   "cell_type": "code",
   "execution_count": 19,
   "metadata": {},
   "outputs": [],
   "source": [
    "def val_hgt(v: str):\n",
    "    if v.endswith(\"cm\"):\n",
    "        return 150 <= int(v[:-2]) <= 193\n",
    "    elif v.endswith(\"in\"):\n",
    "        return 59 <= int(v[:-2]) <= 76\n",
    "    return False"
   ]
  },
  {
   "cell_type": "code",
   "execution_count": 21,
   "metadata": {},
   "outputs": [
    {
     "output_type": "execute_result",
     "data": {
      "text/plain": [
       "175"
      ]
     },
     "metadata": {},
     "execution_count": 21
    }
   ],
   "source": [
    "fields = {\n",
    "    \"byr\": lambda v: 1920 <= int(v) <= 2002,\n",
    "    \"iyr\": lambda v: 2010 <= int(v) <= 2020,\n",
    "    \"eyr\": lambda v: 2020 <= int(v) <= 2030,\n",
    "    \"hgt\": val_hgt,\n",
    "    \"hcl\": lambda v: re.match(\"^#[0-9a-f]{6}$\", v) is not None,\n",
    "    \"ecl\": lambda v: v in [\"amb\", \"blu\", \"brn\", \"gry\", \"grn\", \"hzl\", \"oth\"],\n",
    "    \"pid\": lambda v: re.match(\"^[0-9]{9}$\", v) is not None,\n",
    "    \"cid\": lambda v: True\n",
    "}\n",
    "def part2(passports):\n",
    "    res = 0\n",
    "\n",
    "    for p in passports:\n",
    "        not_found = list(filter(lambda k: k not in p.keys(), fields.keys()))\n",
    "        # print(not_found)\n",
    "        if len(not_found) == 0 or (len(not_found) == 1 and not_found[0] == \"cid\"):\n",
    "            p[\"cid\"] = 0\n",
    "            if sum(val(p[field]) for field, val in fields.items()) == 8:\n",
    "                res += 1\n",
    "\n",
    "    return res\n",
    "\n",
    "part2(parse2(inp))"
   ]
  },
  {
   "cell_type": "code",
   "execution_count": 22,
   "metadata": {},
   "outputs": [],
   "source": [
    "assert(fields[\"byr\"](\"2002\"))\n",
    "assert(fields[\"byr\"](\"2003\") == False)\n",
    "\n",
    "assert(fields[\"hgt\"](\"60in\"))\n",
    "assert(fields[\"hgt\"](\"190cm\"))\n",
    "assert(fields[\"hgt\"](\"190in\") == False)\n",
    "assert(fields[\"hgt\"](\"190\") == False)"
   ]
  },
  {
   "cell_type": "code",
   "execution_count": 23,
   "metadata": {},
   "outputs": [],
   "source": [
    "assert(fields[\"hcl\"](\"#123abc\"))\n",
    "assert(fields[\"hcl\"](\"#123abz\") == False)\n",
    "assert(fields[\"hcl\"](\"123abc\") == False)\n",
    "\n",
    "assert(fields[\"ecl\"](\"brn\"))\n",
    "assert(fields[\"ecl\"](\"wat\") == False)\n",
    "\n",
    "assert(fields[\"pid\"](\"000000001\"))\n",
    "assert(fields[\"pid\"](\"0123456789\") == False)"
   ]
  },
  {
   "cell_type": "code",
   "execution_count": null,
   "metadata": {},
   "outputs": [],
   "source": []
  }
 ]
}