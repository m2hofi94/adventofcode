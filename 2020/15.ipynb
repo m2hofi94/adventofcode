{
 "metadata": {
  "language_info": {
   "codemirror_mode": {
    "name": "ipython",
    "version": 3
   },
   "file_extension": ".py",
   "mimetype": "text/x-python",
   "name": "python",
   "nbconvert_exporter": "python",
   "pygments_lexer": "ipython3",
   "version": "3.9.0-final"
  },
  "orig_nbformat": 2,
  "kernelspec": {
   "name": "python3",
   "display_name": "Python 3",
   "language": "python"
  }
 },
 "nbformat": 4,
 "nbformat_minor": 2,
 "cells": [
  {
   "cell_type": "code",
   "execution_count": 22,
   "metadata": {},
   "outputs": [
    {
     "output_type": "execute_result",
     "data": {
      "text/plain": [
       "defaultdict(int, {0: 1, 14: 2, 1: 3, 3: 4, 7: 5, 9: 6})"
      ]
     },
     "metadata": {},
     "execution_count": 22
    }
   ],
   "source": [
    "from collections import defaultdict\n",
    "ns = [0,14,1,3,7,9]\n",
    "said = defaultdict(int)\n",
    "for i,n in enumerate(ns):\n",
    "    said[n] = i+1\n",
    "\n",
    "say = ns[-1]\n",
    "\n",
    "said    "
   ]
  },
  {
   "cell_type": "code",
   "execution_count": 23,
   "metadata": {},
   "outputs": [
    {
     "output_type": "stream",
     "name": "stdout",
     "text": [
      "0.03333333333333333\n",
      "0.06666666666666667\n",
      "0.1\n",
      "0.13333333333333333\n",
      "0.16666666666666666\n",
      "0.2\n",
      "0.23333333333333334\n",
      "0.26666666666666666\n",
      "0.3\n",
      "0.3333333333333333\n",
      "0.36666666666666664\n",
      "0.4\n",
      "0.43333333333333335\n",
      "0.4666666666666667\n",
      "0.5\n",
      "0.5333333333333333\n",
      "0.5666666666666667\n",
      "0.6\n",
      "0.6333333333333333\n",
      "0.6666666666666666\n",
      "0.7\n",
      "0.7333333333333333\n",
      "0.7666666666666667\n",
      "0.8\n",
      "0.8333333333333334\n",
      "0.8666666666666667\n",
      "0.9\n",
      "0.9333333333333333\n",
      "0.9666666666666667\n",
      "1.0\n"
     ]
    },
    {
     "output_type": "execute_result",
     "data": {
      "text/plain": [
       "1876406"
      ]
     },
     "metadata": {},
     "execution_count": 23
    }
   ],
   "source": [
    "for i in range(len(ns)+1,30000000+1):\n",
    "    #if i%1000000 == 0:\n",
    "    #    print(i/30000000)\n",
    "    if said[say] == 0: # first time said\n",
    "        said[say] = i - 1\n",
    "        say = 0\n",
    "    else:\n",
    "        next_say = i - 1 - said[say]\n",
    "        said[say] = i -1\n",
    "        say = next_say\n",
    "    #print(i, say)\n",
    "say"
   ]
  },
  {
   "cell_type": "code",
   "execution_count": null,
   "metadata": {},
   "outputs": [],
   "source": []
  }
 ]
}