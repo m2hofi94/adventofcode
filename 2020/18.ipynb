{
 "metadata": {
  "language_info": {
   "codemirror_mode": {
    "name": "ipython",
    "version": 3
   },
   "file_extension": ".py",
   "mimetype": "text/x-python",
   "name": "python",
   "nbconvert_exporter": "python",
   "pygments_lexer": "ipython3",
   "version": "3.9.0-final"
  },
  "orig_nbformat": 2,
  "kernelspec": {
   "name": "python3",
   "display_name": "Python 3",
   "language": "python"
  }
 },
 "nbformat": 4,
 "nbformat_minor": 2,
 "cells": [
  {
   "cell_type": "code",
   "execution_count": 62,
   "metadata": {},
   "outputs": [],
   "source": [
    "class Number():\n",
    "    def __init__(self, val):\n",
    "        self.val = int(val)\n",
    "    def __add__(self, other):\n",
    "        return Number(self.val * other.val)\n",
    "\n",
    "    def __sub__(self, other):\n",
    "        return Number(self.val + other.val)\n",
    "\n",
    "    def __repr__(self):\n",
    "        return f\"[{self.val}]\""
   ]
  },
  {
   "cell_type": "code",
   "execution_count": 67,
   "metadata": {},
   "outputs": [],
   "source": [
    "eq = \"((2 + 4 * 9) * (6 + 9 * 8 + 6) + 6) + 2 + 4 * 2\"\n",
    "\n",
    "import re\n",
    "eq2 = re.sub(\"\\d+\", lambda m: f\"Number({m.group(0)})\", eq).translate(str.maketrans(\"*+\", \"+-\"))"
   ]
  },
  {
   "cell_type": "code",
   "execution_count": 70,
   "metadata": {},
   "outputs": [
    {
     "output_type": "execute_result",
     "data": {
      "text/plain": [
       "13632"
      ]
     },
     "metadata": {},
     "execution_count": 70
    }
   ],
   "source": [
    "def run_str(eq):\n",
    "    eq2 = re.sub(\"\\d+\", lambda m: f\"Number({m.group(0)})\", eq).translate(str.maketrans(\"*+\", \"+-\"))\n",
    "    return eval(eq2).val\n",
    "run_str(eq)"
   ]
  },
  {
   "cell_type": "code",
   "execution_count": 73,
   "metadata": {},
   "outputs": [
    {
     "output_type": "execute_result",
     "data": {
      "text/plain": [
       "654686398176"
      ]
     },
     "metadata": {},
     "execution_count": 73
    }
   ],
   "source": [
    "sum(map(run_str, open('data/18.txt').readlines()))"
   ]
  },
  {
   "source": [
    "# Part 2"
   ],
   "cell_type": "markdown",
   "metadata": {}
  },
  {
   "cell_type": "code",
   "execution_count": 83,
   "metadata": {},
   "outputs": [],
   "source": [
    "class Number():\n",
    "    def __init__(self, val):\n",
    "        self.val = int(val)\n",
    "    def __add__(self, other):\n",
    "        return Number(self.val * other.val)\n",
    "    def __mul__(self, other):\n",
    "        return Number(self.val + other.val)\n",
    "\n",
    "    def __repr__(self):\n",
    "        return f\"[{self.val}]\"\n",
    "\n",
    "def run_2(eq):\n",
    "    eq2 = re.sub(\"\\d+\", lambda m: f\"Number({m.group(0)})\", eq).translate(str.maketrans(\"*+\", \"+*\"))\n",
    "    return eval(eq2).val"
   ]
  },
  {
   "cell_type": "code",
   "execution_count": 84,
   "metadata": {},
   "outputs": [
    {
     "output_type": "execute_result",
     "data": {
      "text/plain": [
       "8952864356993"
      ]
     },
     "metadata": {},
     "execution_count": 84
    }
   ],
   "source": [
    "sum(map(run_2, open('data/18.txt').readlines()))"
   ]
  },
  {
   "cell_type": "code",
   "execution_count": 81,
   "metadata": {},
   "outputs": [
    {
     "output_type": "execute_result",
     "data": {
      "text/plain": [
       "23340"
      ]
     },
     "metadata": {},
     "execution_count": 81
    }
   ],
   "source": [
    "eq = \"((2 + 4 * 9) * (6 + 9 * 8 + 6) + 6) + 2 + 4 * 2\"\n",
    "run_2(eq)"
   ]
  },
  {
   "cell_type": "code",
   "execution_count": null,
   "metadata": {},
   "outputs": [],
   "source": []
  }
 ]
}