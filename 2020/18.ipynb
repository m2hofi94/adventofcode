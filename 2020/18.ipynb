{
 "metadata": {
  "language_info": {
   "codemirror_mode": {
    "name": "ipython",
    "version": 3
   },
   "file_extension": ".py",
   "mimetype": "text/x-python",
   "name": "python",
   "nbconvert_exporter": "python",
   "pygments_lexer": "ipython3",
   "version": "3.9.0-final"
  },
  "orig_nbformat": 2,
  "kernelspec": {
   "name": "python3",
   "display_name": "Python 3",
   "language": "python"
  }
 },
 "nbformat": 4,
 "nbformat_minor": 2,
 "cells": [
  {
   "cell_type": "code",
   "execution_count": 218,
   "metadata": {},
   "outputs": [],
   "source": [
    "class Number():\n",
    "    def __init__(self, val):\n",
    "        self.val = int(val)\n",
    "    def __add__(self, other):\n",
    "        return Number(self.val * other.val)\n",
    "\n",
    "    def __sub__(self, other):\n",
    "        return Number(self.val + other.val)\n",
    "\n",
    "    def __repr__(self):\n",
    "        return f\"[{self.val}]\""
   ]
  },
  {
   "cell_type": "code",
   "execution_count": 219,
   "metadata": {},
   "outputs": [],
   "source": [
    "eq = \"((2 + 4 * 9) * (6 + 9 * 8 + 6) + 6) + 2 + 4 * 2\"\n",
    "\n",
    "import re\n",
    "eq2 = re.sub(\"\\d+\", lambda m: f\"Number({m.group(0)})\", eq).translate(str.maketrans(\"*+\", \"+-\"))"
   ]
  },
  {
   "cell_type": "code",
   "execution_count": 222,
   "metadata": {},
   "outputs": [
    {
     "output_type": "execute_result",
     "data": {
      "text/plain": [
       "13632"
      ]
     },
     "metadata": {},
     "execution_count": 222
    }
   ],
   "source": [
    "def run_str(eq):\n",
    "    eq2 = re.sub(\"\\d+\", lambda m: f\"Number({m.group(0)})\", eq).translate(str.maketrans(\"*+\", \"+-\"))\n",
    "    #print(eq2)\n",
    "    return eval(eq2).val\n",
    "run_str(eq)"
   ]
  },
  {
   "cell_type": "code",
   "execution_count": 223,
   "metadata": {
    "tags": []
   },
   "outputs": [
    {
     "output_type": "execute_result",
     "data": {
      "text/plain": [
       "654686398176"
      ]
     },
     "metadata": {},
     "execution_count": 223
    }
   ],
   "source": [
    "sum(map(run_str, open('data/18.txt').readlines()))"
   ]
  },
  {
   "source": [
    "# Part 2"
   ],
   "cell_type": "markdown",
   "metadata": {}
  },
  {
   "cell_type": "code",
   "execution_count": 224,
   "metadata": {},
   "outputs": [],
   "source": [
    "class Number():\n",
    "    def __init__(self, val):\n",
    "        self.val = int(val)\n",
    "    def __add__(self, other):\n",
    "        return Number(self.val * other.val)\n",
    "    def __mul__(self, other):\n",
    "        return Number(self.val + other.val)\n",
    "\n",
    "    def __repr__(self):\n",
    "        return f\"[{self.val}]\"\n",
    "\n",
    "def run_2(eq):\n",
    "    eq2 = re.sub(\"\\d+\", lambda m: f\"Number({m.group(0)})\", eq).translate(str.maketrans(\"*+\", \"+*\"))\n",
    "    return eval(eq2).val"
   ]
  },
  {
   "cell_type": "code",
   "execution_count": 225,
   "metadata": {},
   "outputs": [
    {
     "output_type": "execute_result",
     "data": {
      "text/plain": [
       "8952864356993"
      ]
     },
     "metadata": {},
     "execution_count": 225
    }
   ],
   "source": [
    "sum(map(run_2, open('data/18.txt').readlines()))"
   ]
  },
  {
   "cell_type": "code",
   "execution_count": 226,
   "metadata": {},
   "outputs": [
    {
     "output_type": "execute_result",
     "data": {
      "text/plain": [
       "23340"
      ]
     },
     "metadata": {},
     "execution_count": 226
    }
   ],
   "source": [
    "eq = \"((2 + 4 * 9) * (6 + 9 * 8 + 6) + 6) + 2 + 4 * 2\"\n",
    "run_2(eq)"
   ]
  },
  {
   "source": [
    "# New"
   ],
   "cell_type": "markdown",
   "metadata": {}
  },
  {
   "cell_type": "code",
   "execution_count": 212,
   "metadata": {},
   "outputs": [],
   "source": [
    "eq = \"1 + 2 * 3 + (4 * 5) + 6\"\n",
    "tokens = eq.translate(str.maketrans({\n",
    "    '(': '( ',\n",
    "    ')': ' )'\n",
    "})).split(' ')"
   ]
  },
  {
   "cell_type": "code",
   "execution_count": 213,
   "metadata": {},
   "outputs": [
    {
     "output_type": "execute_result",
     "data": {
      "text/plain": [
       "['1', '+', '2', '*', '3', '+', '(', '4', '*', '5', ')', '+', '6']"
      ]
     },
     "metadata": {},
     "execution_count": 213
    }
   ],
   "source": [
    "tokens"
   ]
  },
  {
   "cell_type": "code",
   "execution_count": 227,
   "metadata": {},
   "outputs": [],
   "source": [
    "from functools import cache"
   ]
  },
  {
   "cell_type": "code",
   "execution_count": 228,
   "metadata": {},
   "outputs": [],
   "source": [
    "import re\n",
    "simp = re.compile('\\(?(\\d+) ([\\+\\*]) (\\d+)\\)?')\n",
    "\n",
    "@cache\n",
    "def ev(eq: str):\n",
    "    #print(eq)\n",
    "    eq = eq.strip()\n",
    "    simpMatch = simp.fullmatch(eq)\n",
    "    if simpMatch:\n",
    "        a,op,b = simpMatch.groups()\n",
    "        if op == '+':\n",
    "            return str(int(a) + int(b))\n",
    "        elif op == '*':\n",
    "            return str(int(a) * int(b))\n",
    "    \n",
    "    start = eq.find('(')\n",
    "    if start < 0:\n",
    "        #print('here', eq)\n",
    "        mul = eq.find('+')\n",
    "        if mul < 0:\n",
    "            _, split = simp.match(eq).span()\n",
    "            return ev(ev(eq[:split]) + eq[split:])\n",
    "        else:\n",
    "            delta_l = eq[mul-2::-1].find(' ')\n",
    "            start = mul-delta_l-1 if delta_l > 0 else 0\n",
    "            delta_r = eq[mul+2:].find(' ')\n",
    "            end = mul+delta_r+2 if delta_r > 0 else len(eq)\n",
    "            return ev(\n",
    "                eq[:start] + \n",
    "                ev(eq[start:end]) +\n",
    "                eq[end:]\n",
    "            )\n",
    "    else:\n",
    "        c = 0\n",
    "        end = -1\n",
    "        for i in range(start, len(eq)):\n",
    "            if eq[i] == '(':\n",
    "                c += 1\n",
    "            elif eq[i] == ')':\n",
    "                c -= 1\n",
    "            if c==0:\n",
    "                end = i\n",
    "                break\n",
    "        #print(start, end)\n",
    "        return ev(\n",
    "            eq[:start] + \n",
    "            ev(eq[start+1:end]) +\n",
    "            eq[end+1:]\n",
    "        )\n",
    "        #print(start, end, f\"{eq[:start]}|_|{eq[end+1:]}\")\n",
    "\n"
   ]
  },
  {
   "cell_type": "code",
   "execution_count": 234,
   "metadata": {},
   "outputs": [
    {
     "output_type": "execute_result",
     "data": {
      "text/plain": [
       "'abcabcabc'"
      ]
     },
     "metadata": {},
     "execution_count": 234
    }
   ],
   "source": [
    "\"abc\"*3"
   ]
  },
  {
   "cell_type": "code",
   "execution_count": 233,
   "metadata": {
    "tags": []
   },
   "outputs": [
    {
     "output_type": "stream",
     "name": "stdout",
     "text": [
      "CPU times: user 5 µs, sys: 1 µs, total: 6 µs\nWall time: 10.3 µs\n"
     ]
    },
    {
     "output_type": "execute_result",
     "data": {
      "text/plain": [
       "'48549958848'"
      ]
     },
     "metadata": {},
     "execution_count": 233
    }
   ],
   "source": [
    "%%time\n",
    "ev(\"(8 + (9 + 8 * 5 * 3 * 8) * 7 + 4 + 7 + (7 + 3 + 9 * 7 + 3)) + (4 * 6 * (9 + 9 * 4 + 5) * 6) * (5 * 8 * (5 * 7 + 4 + 7 * 5)) + 9 * 6\")"
   ]
  },
  {
   "cell_type": "code",
   "execution_count": 229,
   "metadata": {},
   "outputs": [],
   "source": [
    "def do_line(l):\n",
    "    #print(l)\n",
    "    return ev(l)"
   ]
  },
  {
   "cell_type": "code",
   "execution_count": 230,
   "metadata": {},
   "outputs": [
    {
     "output_type": "execute_result",
     "data": {
      "text/plain": [
       "8952864356993"
      ]
     },
     "metadata": {},
     "execution_count": 230
    }
   ],
   "source": [
    "sum(map(int, map(do_line, open('data/18.txt').readlines())))"
   ]
  },
  {
   "cell_type": "code",
   "execution_count": 192,
   "metadata": {},
   "outputs": [],
   "source": [
    "eq = \"1 * 2 + 3\""
   ]
  },
  {
   "cell_type": "code",
   "execution_count": 193,
   "metadata": {},
   "outputs": [
    {
     "output_type": "execute_result",
     "data": {
      "text/plain": [
       "2"
      ]
     },
     "metadata": {},
     "execution_count": 193
    }
   ],
   "source": [
    "mul"
   ]
  },
  {
   "cell_type": "code",
   "execution_count": 200,
   "metadata": {},
   "outputs": [],
   "source": [
    "\n"
   ]
  },
  {
   "cell_type": "code",
   "execution_count": 201,
   "metadata": {},
   "outputs": [
    {
     "output_type": "execute_result",
     "data": {
      "text/plain": [
       "'1 * 2'"
      ]
     },
     "metadata": {},
     "execution_count": 201
    }
   ],
   "source": [
    "eq[start:end]"
   ]
  },
  {
   "cell_type": "code",
   "execution_count": null,
   "metadata": {},
   "outputs": [],
   "source": []
  }
 ]
}